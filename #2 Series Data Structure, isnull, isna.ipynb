{
 "cells": [
  {
   "cell_type": "code",
   "execution_count": 3,
   "id": "a5774068",
   "metadata": {},
   "outputs": [
    {
     "data": {
      "text/plain": [
       "0      1\n",
       "1    Ali\n",
       "2    3.5\n",
       "3    Hey\n",
       "dtype: object"
      ]
     },
     "execution_count": 3,
     "metadata": {},
     "output_type": "execute_result"
    }
   ],
   "source": [
    "import pandas as pd\n",
    "\n",
    "obj = pd.Series ([1, \"Ali\", 3.5, \"Hey\"])\n",
    "obj"
   ]
  },
  {
   "cell_type": "code",
   "execution_count": 4,
   "id": "b4dab435",
   "metadata": {},
   "outputs": [
    {
     "data": {
      "text/plain": [
       "1"
      ]
     },
     "execution_count": 4,
     "metadata": {},
     "output_type": "execute_result"
    }
   ],
   "source": [
    "obj[0]"
   ]
  },
  {
   "cell_type": "code",
   "execution_count": 5,
   "id": "7ec4dd0b",
   "metadata": {},
   "outputs": [
    {
     "data": {
      "text/plain": [
       "array([1, 'Ali', 3.5, 'Hey'], dtype=object)"
      ]
     },
     "execution_count": 5,
     "metadata": {},
     "output_type": "execute_result"
    }
   ],
   "source": [
    "obj.values"
   ]
  },
  {
   "cell_type": "code",
   "execution_count": 6,
   "id": "52d5da3c",
   "metadata": {},
   "outputs": [
    {
     "data": {
      "text/plain": [
       "RangeIndex(start=0, stop=4, step=1)"
      ]
     },
     "execution_count": 6,
     "metadata": {},
     "output_type": "execute_result"
    }
   ],
   "source": [
    "obj.index"
   ]
  },
  {
   "cell_type": "code",
   "execution_count": 8,
   "id": "c1e83e51",
   "metadata": {},
   "outputs": [
    {
     "data": {
      "text/plain": [
       "a      1\n",
       "b    Ali\n",
       "c    3.5\n",
       "d    Hey\n",
       "dtype: object"
      ]
     },
     "execution_count": 8,
     "metadata": {},
     "output_type": "execute_result"
    }
   ],
   "source": [
    "import pandas as pd\n",
    "\n",
    "obj = pd.Series (data = [1, \"Ali\", 3.5, \"Hey\"], index=['a', \"b\", 'c', \"d\"])\n",
    "obj"
   ]
  },
  {
   "cell_type": "code",
   "execution_count": 9,
   "id": "97a40e79",
   "metadata": {},
   "outputs": [
    {
     "data": {
      "text/plain": [
       "1"
      ]
     },
     "execution_count": 9,
     "metadata": {},
     "output_type": "execute_result"
    }
   ],
   "source": [
    "obj['a']"
   ]
  },
  {
   "cell_type": "code",
   "execution_count": 11,
   "id": "86e7db75",
   "metadata": {},
   "outputs": [
    {
     "data": {
      "text/plain": [
       "1"
      ]
     },
     "execution_count": 11,
     "metadata": {},
     "output_type": "execute_result"
    }
   ],
   "source": [
    "obj.loc[\"a\"]"
   ]
  },
  {
   "cell_type": "code",
   "execution_count": 12,
   "id": "a1614e50",
   "metadata": {},
   "outputs": [
    {
     "data": {
      "text/plain": [
       "array([1, 'Ali', 3.5, 'Hey'], dtype=object)"
      ]
     },
     "execution_count": 12,
     "metadata": {},
     "output_type": "execute_result"
    }
   ],
   "source": [
    "obj.values"
   ]
  },
  {
   "cell_type": "code",
   "execution_count": 13,
   "id": "4a3b2b48",
   "metadata": {},
   "outputs": [
    {
     "data": {
      "text/plain": [
       "Index(['a', 'b', 'c', 'd'], dtype='object')"
      ]
     },
     "execution_count": 13,
     "metadata": {},
     "output_type": "execute_result"
    }
   ],
   "source": [
    "obj.index"
   ]
  },
  {
   "cell_type": "code",
   "execution_count": 15,
   "id": "d099d1c6",
   "metadata": {},
   "outputs": [
    {
     "data": {
      "text/plain": [
       "Jane    90\n",
       "Bill    80\n",
       "Elon    85\n",
       "Tom     75\n",
       "Tim     95\n",
       "dtype: int64"
      ]
     },
     "execution_count": 15,
     "metadata": {},
     "output_type": "execute_result"
    }
   ],
   "source": [
    "import pandas as pd\n",
    "\n",
    "score={\"Jane\":90, \"Bill\":80,\"Elon\":85,\"Tom\":75,\"Tim\":95}\n",
    "\n",
    "ser = pd.Series(data=score)\n",
    "\n",
    "ser"
   ]
  },
  {
   "cell_type": "code",
   "execution_count": 16,
   "id": "38f7b316",
   "metadata": {},
   "outputs": [
    {
     "data": {
      "text/plain": [
       "90"
      ]
     },
     "execution_count": 16,
     "metadata": {},
     "output_type": "execute_result"
    }
   ],
   "source": [
    "ser[\"Jane\"]"
   ]
  },
  {
   "cell_type": "code",
   "execution_count": 19,
   "id": "a7d468fd",
   "metadata": {},
   "outputs": [
    {
     "data": {
      "text/plain": [
       "Jane    90\n",
       "Tim     95\n",
       "dtype: int64"
      ]
     },
     "execution_count": 19,
     "metadata": {},
     "output_type": "execute_result"
    }
   ],
   "source": [
    "ser[ser > 85]"
   ]
  },
  {
   "cell_type": "code",
   "execution_count": 20,
   "id": "4c69ffab",
   "metadata": {},
   "outputs": [
    {
     "data": {
      "text/plain": [
       "Jane     True\n",
       "Bill    False\n",
       "Elon    False\n",
       "Tom     False\n",
       "Tim      True\n",
       "dtype: bool"
      ]
     },
     "execution_count": 20,
     "metadata": {},
     "output_type": "execute_result"
    }
   ],
   "source": [
    "ser > 85"
   ]
  },
  {
   "cell_type": "code",
   "execution_count": 21,
   "id": "2373f171",
   "metadata": {},
   "outputs": [
    {
     "data": {
      "text/plain": [
       "Jane    90\n",
       "Bill    80\n",
       "Elon    85\n",
       "Tom     75\n",
       "Tim     95\n",
       "dtype: int64"
      ]
     },
     "execution_count": 21,
     "metadata": {},
     "output_type": "execute_result"
    }
   ],
   "source": [
    "ser"
   ]
  },
  {
   "cell_type": "code",
   "execution_count": 23,
   "id": "b0bba94e",
   "metadata": {},
   "outputs": [
    {
     "data": {
      "text/plain": [
       "Jane    60\n",
       "Bill    80\n",
       "Elon    85\n",
       "Tom     75\n",
       "Tim     95\n",
       "dtype: int64"
      ]
     },
     "execution_count": 23,
     "metadata": {},
     "output_type": "execute_result"
    }
   ],
   "source": [
    "ser[\"Jane\"] = 60\n",
    "\n",
    "ser"
   ]
  },
  {
   "cell_type": "code",
   "execution_count": 32,
   "id": "1e96c59f",
   "metadata": {},
   "outputs": [
    {
     "data": {
      "text/plain": [
       "Jane    95\n",
       "Bill    80\n",
       "Elon    85\n",
       "Tom     75\n",
       "Tim     95\n",
       "dtype: int64"
      ]
     },
     "execution_count": 32,
     "metadata": {},
     "output_type": "execute_result"
    }
   ],
   "source": [
    "import numpy as np\n",
    "np.random.seed(1)\n",
    "ser[\"Jane\"] = np.random.randint(90, 100)\n",
    "\n",
    "ser"
   ]
  },
  {
   "cell_type": "code",
   "execution_count": 34,
   "id": "c6fe4359",
   "metadata": {},
   "outputs": [
    {
     "data": {
      "text/plain": [
       "Jane     95\n",
       "Bill    100\n",
       "Elon    100\n",
       "Tom     100\n",
       "Tim      95\n",
       "dtype: int64"
      ]
     },
     "execution_count": 34,
     "metadata": {},
     "output_type": "execute_result"
    }
   ],
   "source": [
    "ser[ser<=85] = 100\n",
    "\n",
    "ser"
   ]
  },
  {
   "cell_type": "code",
   "execution_count": 37,
   "id": "ca555477",
   "metadata": {},
   "outputs": [
    {
     "data": {
      "text/plain": [
       "True"
      ]
     },
     "execution_count": 37,
     "metadata": {},
     "output_type": "execute_result"
    }
   ],
   "source": [
    "\"Jane\" in ser"
   ]
  },
  {
   "cell_type": "code",
   "execution_count": 42,
   "id": "af29d2d2",
   "metadata": {},
   "outputs": [
    {
     "data": {
      "text/plain": [
       "False"
      ]
     },
     "execution_count": 42,
     "metadata": {},
     "output_type": "execute_result"
    }
   ],
   "source": [
    "\"Kane\" in ser"
   ]
  },
  {
   "cell_type": "code",
   "execution_count": 44,
   "id": "c697b0be",
   "metadata": {},
   "outputs": [
    {
     "data": {
      "text/plain": [
       "Jane     9.5\n",
       "Bill    10.0\n",
       "Elon    10.0\n",
       "Tom     10.0\n",
       "Tim      9.5\n",
       "dtype: float64"
      ]
     },
     "execution_count": 44,
     "metadata": {},
     "output_type": "execute_result"
    }
   ],
   "source": [
    "ser=ser/10\n",
    "\n",
    "ser"
   ]
  },
  {
   "cell_type": "code",
   "execution_count": 45,
   "id": "20288842",
   "metadata": {},
   "outputs": [
    {
     "data": {
      "text/plain": [
       "Jane     90.25\n",
       "Bill    100.00\n",
       "Elon    100.00\n",
       "Tom     100.00\n",
       "Tim      90.25\n",
       "dtype: float64"
      ]
     },
     "execution_count": 45,
     "metadata": {},
     "output_type": "execute_result"
    }
   ],
   "source": [
    "ser = ser**2\n",
    "\n",
    "ser"
   ]
  },
  {
   "cell_type": "code",
   "execution_count": 64,
   "id": "5327f39d",
   "metadata": {},
   "outputs": [
    {
     "data": {
      "text/plain": [
       "Jane    90\n",
       "Bill    80\n",
       "Elon    85\n",
       "Tom     75\n",
       "Tim     95\n",
       "dtype: int64"
      ]
     },
     "execution_count": 64,
     "metadata": {},
     "output_type": "execute_result"
    }
   ],
   "source": [
    "import pandas as pd\n",
    "\n",
    "score={\"Jane\":90, \"Bill\":80,\"Elon\":85,\"Tom\":75,\"Tim\":95}\n",
    "\n",
    "ser = pd.Series(data=score)\n",
    "\n",
    "ser"
   ]
  },
  {
   "cell_type": "code",
   "execution_count": 68,
   "id": "fe321954",
   "metadata": {},
   "outputs": [
    {
     "data": {
      "text/plain": [
       "Jane    9.0\n",
       "Bill    8.0\n",
       "Elon    8.5\n",
       "Tom     7.5\n",
       "Tim     9.5\n",
       "dtype: float64"
      ]
     },
     "execution_count": 68,
     "metadata": {},
     "output_type": "execute_result"
    }
   ],
   "source": [
    "ser = ser / 10\n",
    "ser"
   ]
  },
  {
   "cell_type": "code",
   "execution_count": 69,
   "id": "05b72915",
   "metadata": {},
   "outputs": [
    {
     "data": {
      "text/plain": [
       "Jane    90.0\n",
       "Bill    80.0\n",
       "Elon    85.0\n",
       "Tom     75.0\n",
       "Tim     95.0\n",
       "dtype: float64"
      ]
     },
     "execution_count": 69,
     "metadata": {},
     "output_type": "execute_result"
    }
   ],
   "source": [
    "ser = ser * 10\n",
    "ser"
   ]
  },
  {
   "cell_type": "code",
   "execution_count": 72,
   "id": "31e1eaa1",
   "metadata": {},
   "outputs": [
    {
     "data": {
      "text/plain": [
       "Jane    90\n",
       "Bill    80\n",
       "Elon    85\n",
       "Tom     75\n",
       "Tim     95\n",
       "dtype: int64"
      ]
     },
     "execution_count": 72,
     "metadata": {},
     "output_type": "execute_result"
    }
   ],
   "source": [
    "ser = ser.astype('int64')\n",
    "ser"
   ]
  },
  {
   "cell_type": "code",
   "execution_count": 87,
   "id": "c53ed6a4",
   "metadata": {},
   "outputs": [
    {
     "data": {
      "text/plain": [
       "Jane    90.0\n",
       "Bill    80.0\n",
       "Elon    85.0\n",
       "Tom     75.0\n",
       "Tim      NaN\n",
       "dtype: float64"
      ]
     },
     "execution_count": 87,
     "metadata": {},
     "output_type": "execute_result"
    }
   ],
   "source": [
    "import pandas as pd\n",
    "\n",
    "score={\"Jane\":90, \"Bill\":80,\"Elon\":85,\"Tom\":75,\"Tim\":None}\n",
    "\n",
    "ser = pd.Series(data=score)\n",
    "\n",
    "ser"
   ]
  },
  {
   "cell_type": "code",
   "execution_count": 88,
   "id": "87578dc0",
   "metadata": {},
   "outputs": [
    {
     "data": {
      "text/plain": [
       "Jane    False\n",
       "Bill    False\n",
       "Elon    False\n",
       "Tom     False\n",
       "Tim      True\n",
       "dtype: bool"
      ]
     },
     "execution_count": 88,
     "metadata": {},
     "output_type": "execute_result"
    }
   ],
   "source": [
    "ser.isnull()"
   ]
  },
  {
   "cell_type": "code",
   "execution_count": 91,
   "id": "8c35a51e",
   "metadata": {},
   "outputs": [
    {
     "data": {
      "text/plain": [
       "Jane    False\n",
       "Bill    False\n",
       "Elon    False\n",
       "Tom     False\n",
       "Tim      True\n",
       "dtype: bool"
      ]
     },
     "execution_count": 91,
     "metadata": {},
     "output_type": "execute_result"
    }
   ],
   "source": [
    "ser.isna()"
   ]
  },
  {
   "cell_type": "code",
   "execution_count": null,
   "id": "dfbb0a25",
   "metadata": {},
   "outputs": [],
   "source": []
  }
 ],
 "metadata": {
  "kernelspec": {
   "display_name": "Python 3 (ipykernel)",
   "language": "python",
   "name": "python3"
  },
  "language_info": {
   "codemirror_mode": {
    "name": "ipython",
    "version": 3
   },
   "file_extension": ".py",
   "mimetype": "text/x-python",
   "name": "python",
   "nbconvert_exporter": "python",
   "pygments_lexer": "ipython3",
   "version": "3.11.5"
  }
 },
 "nbformat": 4,
 "nbformat_minor": 5
}
