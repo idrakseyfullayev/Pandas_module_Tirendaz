{
 "cells": [
  {
   "cell_type": "code",
   "execution_count": 1,
   "id": "49e1a978",
   "metadata": {},
   "outputs": [
    {
     "data": {
      "text/plain": [
       "'HELLO'"
      ]
     },
     "execution_count": 1,
     "metadata": {},
     "output_type": "execute_result"
    }
   ],
   "source": [
    "\"hello\".upper()"
   ]
  },
  {
   "cell_type": "code",
   "execution_count": 2,
   "id": "41fbe6a8",
   "metadata": {},
   "outputs": [],
   "source": [
    "import pandas as pd; import numpy as np"
   ]
  },
  {
   "cell_type": "code",
   "execution_count": 3,
   "id": "e69aff8b",
   "metadata": {},
   "outputs": [],
   "source": [
    "data=[\"tim\",\"Kate\",\"SUSan\",np.nan,\"aLEX\"]"
   ]
  },
  {
   "cell_type": "code",
   "execution_count": 4,
   "id": "588a9b42",
   "metadata": {},
   "outputs": [
    {
     "data": {
      "text/plain": [
       "0      tim\n",
       "1     Kate\n",
       "2    SUSan\n",
       "3      NaN\n",
       "4     aLEX\n",
       "dtype: object"
      ]
     },
     "execution_count": 4,
     "metadata": {},
     "output_type": "execute_result"
    }
   ],
   "source": [
    "names = pd.Series(data=data)\n",
    "names"
   ]
  },
  {
   "cell_type": "code",
   "execution_count": 12,
   "id": "4bc66ff6",
   "metadata": {},
   "outputs": [
    {
     "data": {
      "text/plain": [
       "0      Tim\n",
       "1     Kate\n",
       "2    Susan\n",
       "3      NaN\n",
       "4     Alex\n",
       "dtype: object"
      ]
     },
     "execution_count": 12,
     "metadata": {},
     "output_type": "execute_result"
    }
   ],
   "source": [
    "names.str.capitalize()"
   ]
  },
  {
   "cell_type": "code",
   "execution_count": 19,
   "id": "112f2f55",
   "metadata": {},
   "outputs": [
    {
     "data": {
      "text/plain": [
       "0      tim\n",
       "1     kate\n",
       "2    susan\n",
       "3      NaN\n",
       "4     alex\n",
       "dtype: object"
      ]
     },
     "execution_count": 19,
     "metadata": {},
     "output_type": "execute_result"
    }
   ],
   "source": [
    "names.str.lower()"
   ]
  },
  {
   "cell_type": "code",
   "execution_count": 23,
   "id": "f6f87ecf",
   "metadata": {},
   "outputs": [
    {
     "data": {
      "text/plain": [
       "0    3.0\n",
       "1    4.0\n",
       "2    5.0\n",
       "3    NaN\n",
       "4    4.0\n",
       "dtype: float64"
      ]
     },
     "execution_count": 23,
     "metadata": {},
     "output_type": "execute_result"
    }
   ],
   "source": [
    "names.str.len()"
   ]
  },
  {
   "cell_type": "code",
   "execution_count": 24,
   "id": "6c255f26",
   "metadata": {},
   "outputs": [
    {
     "data": {
      "text/plain": [
       "0    False\n",
       "1    False\n",
       "2    False\n",
       "3      NaN\n",
       "4     True\n",
       "dtype: object"
      ]
     },
     "execution_count": 24,
     "metadata": {},
     "output_type": "execute_result"
    }
   ],
   "source": [
    "names.str.startswith('a')"
   ]
  },
  {
   "cell_type": "code",
   "execution_count": 28,
   "id": "0fede99f",
   "metadata": {},
   "outputs": [
    {
     "data": {
      "text/html": [
       "<div>\n",
       "<style scoped>\n",
       "    .dataframe tbody tr th:only-of-type {\n",
       "        vertical-align: middle;\n",
       "    }\n",
       "\n",
       "    .dataframe tbody tr th {\n",
       "        vertical-align: top;\n",
       "    }\n",
       "\n",
       "    .dataframe thead th {\n",
       "        text-align: right;\n",
       "    }\n",
       "</style>\n",
       "<table border=\"1\" class=\"dataframe\">\n",
       "  <thead>\n",
       "    <tr style=\"text-align: right;\">\n",
       "      <th></th>\n",
       "      <th>Column A</th>\n",
       "      <th>Column B</th>\n",
       "    </tr>\n",
       "  </thead>\n",
       "  <tbody>\n",
       "    <tr>\n",
       "      <th>0</th>\n",
       "      <td>-1.300010</td>\n",
       "      <td>-1.072989</td>\n",
       "    </tr>\n",
       "    <tr>\n",
       "      <th>1</th>\n",
       "      <td>0.790199</td>\n",
       "      <td>-0.878265</td>\n",
       "    </tr>\n",
       "    <tr>\n",
       "      <th>2</th>\n",
       "      <td>1.501822</td>\n",
       "      <td>-0.023929</td>\n",
       "    </tr>\n",
       "  </tbody>\n",
       "</table>\n",
       "</div>"
      ],
      "text/plain": [
       "   Column A  Column B\n",
       "0 -1.300010 -1.072989\n",
       "1  0.790199 -0.878265\n",
       "2  1.501822 -0.023929"
      ]
     },
     "execution_count": 28,
     "metadata": {},
     "output_type": "execute_result"
    }
   ],
   "source": [
    "np.random.seed(1111)\n",
    "df=pd.DataFrame(\n",
    "    np.random.randn(3,2),\n",
    "    columns=[\"Column A\",\"Column B\"],\n",
    "    index=range(3))\n",
    "df"
   ]
  },
  {
   "cell_type": "code",
   "execution_count": 29,
   "id": "f7782d28",
   "metadata": {},
   "outputs": [
    {
     "data": {
      "text/plain": [
       "Index(['Column A', 'Column B'], dtype='object')"
      ]
     },
     "execution_count": 29,
     "metadata": {},
     "output_type": "execute_result"
    }
   ],
   "source": [
    "df.columns"
   ]
  },
  {
   "cell_type": "code",
   "execution_count": 30,
   "id": "52ee7078",
   "metadata": {},
   "outputs": [
    {
     "data": {
      "text/plain": [
       "Index(['column a', 'column b'], dtype='object')"
      ]
     },
     "execution_count": 30,
     "metadata": {},
     "output_type": "execute_result"
    }
   ],
   "source": [
    "df.columns.str.lower()"
   ]
  },
  {
   "cell_type": "code",
   "execution_count": 35,
   "id": "bdd16712",
   "metadata": {},
   "outputs": [
    {
     "data": {
      "text/plain": [
       "Index(['column_a', 'column_b'], dtype='object')"
      ]
     },
     "execution_count": 35,
     "metadata": {},
     "output_type": "execute_result"
    }
   ],
   "source": [
    "df.columns.str.lower().str.replace(' ', '_')"
   ]
  },
  {
   "cell_type": "code",
   "execution_count": 3,
   "id": "54c1389f",
   "metadata": {},
   "outputs": [
    {
     "data": {
      "text/plain": [
       "0    a_b_c\n",
       "1    c_d_e\n",
       "2      NaN\n",
       "3    f_g_h\n",
       "dtype: object"
      ]
     },
     "execution_count": 3,
     "metadata": {},
     "output_type": "execute_result"
    }
   ],
   "source": [
    "ser=pd.Series([\"a_b_c\",\"c_d_e\",np.nan,\"f_g_h\"])\n",
    "ser"
   ]
  },
  {
   "cell_type": "code",
   "execution_count": 4,
   "id": "120a9ea5",
   "metadata": {},
   "outputs": [
    {
     "data": {
      "text/plain": [
       "0    [a, b, c]\n",
       "1    [c, d, e]\n",
       "2          NaN\n",
       "3    [f, g, h]\n",
       "dtype: object"
      ]
     },
     "execution_count": 4,
     "metadata": {},
     "output_type": "execute_result"
    }
   ],
   "source": [
    "ser.str.split('_')"
   ]
  },
  {
   "cell_type": "code",
   "execution_count": 6,
   "id": "6c418bf5",
   "metadata": {},
   "outputs": [
    {
     "data": {
      "text/plain": [
       "0      b\n",
       "1      d\n",
       "2    NaN\n",
       "3      g\n",
       "dtype: object"
      ]
     },
     "execution_count": 6,
     "metadata": {},
     "output_type": "execute_result"
    }
   ],
   "source": [
    "ser.str.split('_').str.get(1)"
   ]
  },
  {
   "cell_type": "code",
   "execution_count": 10,
   "id": "edc4a2ea",
   "metadata": {
    "scrolled": true
   },
   "outputs": [
    {
     "data": {
      "text/plain": [
       "0      b\n",
       "1      d\n",
       "2    NaN\n",
       "3      g\n",
       "dtype: object"
      ]
     },
     "execution_count": 10,
     "metadata": {},
     "output_type": "execute_result"
    }
   ],
   "source": [
    "ser.str.split('_').str[1]"
   ]
  },
  {
   "cell_type": "code",
   "execution_count": 12,
   "id": "32485125",
   "metadata": {},
   "outputs": [
    {
     "data": {
      "text/plain": [
       "0    a_b_c\n",
       "1    c_d_e\n",
       "2      NaN\n",
       "3    f_g_h\n",
       "dtype: object"
      ]
     },
     "execution_count": 12,
     "metadata": {},
     "output_type": "execute_result"
    }
   ],
   "source": [
    "ser"
   ]
  },
  {
   "cell_type": "code",
   "execution_count": 11,
   "id": "15aaa107",
   "metadata": {},
   "outputs": [
    {
     "data": {
      "text/html": [
       "<div>\n",
       "<style scoped>\n",
       "    .dataframe tbody tr th:only-of-type {\n",
       "        vertical-align: middle;\n",
       "    }\n",
       "\n",
       "    .dataframe tbody tr th {\n",
       "        vertical-align: top;\n",
       "    }\n",
       "\n",
       "    .dataframe thead th {\n",
       "        text-align: right;\n",
       "    }\n",
       "</style>\n",
       "<table border=\"1\" class=\"dataframe\">\n",
       "  <thead>\n",
       "    <tr style=\"text-align: right;\">\n",
       "      <th></th>\n",
       "      <th>0</th>\n",
       "      <th>1</th>\n",
       "      <th>2</th>\n",
       "    </tr>\n",
       "  </thead>\n",
       "  <tbody>\n",
       "    <tr>\n",
       "      <th>0</th>\n",
       "      <td>a</td>\n",
       "      <td>b</td>\n",
       "      <td>c</td>\n",
       "    </tr>\n",
       "    <tr>\n",
       "      <th>1</th>\n",
       "      <td>c</td>\n",
       "      <td>d</td>\n",
       "      <td>e</td>\n",
       "    </tr>\n",
       "    <tr>\n",
       "      <th>2</th>\n",
       "      <td>NaN</td>\n",
       "      <td>NaN</td>\n",
       "      <td>NaN</td>\n",
       "    </tr>\n",
       "    <tr>\n",
       "      <th>3</th>\n",
       "      <td>f</td>\n",
       "      <td>g</td>\n",
       "      <td>h</td>\n",
       "    </tr>\n",
       "  </tbody>\n",
       "</table>\n",
       "</div>"
      ],
      "text/plain": [
       "     0    1    2\n",
       "0    a    b    c\n",
       "1    c    d    e\n",
       "2  NaN  NaN  NaN\n",
       "3    f    g    h"
      ]
     },
     "execution_count": 11,
     "metadata": {},
     "output_type": "execute_result"
    }
   ],
   "source": [
    "ser.str.split(\"_\", expand=True)"
   ]
  },
  {
   "cell_type": "code",
   "execution_count": 13,
   "id": "2bb9ee49",
   "metadata": {},
   "outputs": [
    {
     "data": {
      "text/html": [
       "<div>\n",
       "<style scoped>\n",
       "    .dataframe tbody tr th:only-of-type {\n",
       "        vertical-align: middle;\n",
       "    }\n",
       "\n",
       "    .dataframe tbody tr th {\n",
       "        vertical-align: top;\n",
       "    }\n",
       "\n",
       "    .dataframe thead th {\n",
       "        text-align: right;\n",
       "    }\n",
       "</style>\n",
       "<table border=\"1\" class=\"dataframe\">\n",
       "  <thead>\n",
       "    <tr style=\"text-align: right;\">\n",
       "      <th></th>\n",
       "      <th>0</th>\n",
       "      <th>1</th>\n",
       "    </tr>\n",
       "  </thead>\n",
       "  <tbody>\n",
       "    <tr>\n",
       "      <th>0</th>\n",
       "      <td>a</td>\n",
       "      <td>b_c</td>\n",
       "    </tr>\n",
       "    <tr>\n",
       "      <th>1</th>\n",
       "      <td>c</td>\n",
       "      <td>d_e</td>\n",
       "    </tr>\n",
       "    <tr>\n",
       "      <th>2</th>\n",
       "      <td>NaN</td>\n",
       "      <td>NaN</td>\n",
       "    </tr>\n",
       "    <tr>\n",
       "      <th>3</th>\n",
       "      <td>f</td>\n",
       "      <td>g_h</td>\n",
       "    </tr>\n",
       "  </tbody>\n",
       "</table>\n",
       "</div>"
      ],
      "text/plain": [
       "     0    1\n",
       "0    a  b_c\n",
       "1    c  d_e\n",
       "2  NaN  NaN\n",
       "3    f  g_h"
      ]
     },
     "execution_count": 13,
     "metadata": {},
     "output_type": "execute_result"
    }
   ],
   "source": [
    "ser.str.split(\"_\", expand=True, n=1)"
   ]
  },
  {
   "cell_type": "code",
   "execution_count": 14,
   "id": "d05c08c1",
   "metadata": {},
   "outputs": [
    {
     "data": {
      "text/plain": [
       "0        15\n",
       "1      -$20\n",
       "2    $30000\n",
       "dtype: object"
      ]
     },
     "execution_count": 14,
     "metadata": {},
     "output_type": "execute_result"
    }
   ],
   "source": [
    "money=pd.Series([\"15\",\"-$20\",\"$30000\"])\n",
    "money"
   ]
  },
  {
   "cell_type": "code",
   "execution_count": 27,
   "id": "211dd33d",
   "metadata": {},
   "outputs": [
    {
     "data": {
      "text/plain": [
       "0       15\n",
       "1      -20\n",
       "2    30000\n",
       "dtype: object"
      ]
     },
     "execution_count": 27,
     "metadata": {},
     "output_type": "execute_result"
    }
   ],
   "source": [
    "money.str.replace(\"$\", '')"
   ]
  },
  {
   "cell_type": "code",
   "execution_count": 39,
   "id": "40d7249b",
   "metadata": {},
   "outputs": [
    {
     "data": {
      "text/plain": [
       "0        15\n",
       "1        20\n",
       "2    $30000\n",
       "dtype: object"
      ]
     },
     "execution_count": 39,
     "metadata": {},
     "output_type": "execute_result"
    }
   ],
   "source": [
    "money.str.replace('-$', \"\")"
   ]
  },
  {
   "cell_type": "code",
   "execution_count": 42,
   "id": "2695caa7",
   "metadata": {},
   "outputs": [
    {
     "data": {
      "text/plain": [
       "0       15\n",
       "1       20\n",
       "2    30000\n",
       "dtype: object"
      ]
     },
     "execution_count": 42,
     "metadata": {},
     "output_type": "execute_result"
    }
   ],
   "source": [
    "money.str.replace('-', \"\").str.replace('$', '')"
   ]
  },
  {
   "cell_type": "code",
   "execution_count": 44,
   "id": "b97f1bc3",
   "metadata": {},
   "outputs": [
    {
     "data": {
      "text/plain": [
       "0        15\n",
       "1        20\n",
       "2    $30000\n",
       "dtype: object"
      ]
     },
     "execution_count": 44,
     "metadata": {},
     "output_type": "execute_result"
    }
   ],
   "source": [
    "money.str.replace('-$', \"\", case=True)"
   ]
  },
  {
   "cell_type": "code",
   "execution_count": 48,
   "id": "fd385bde",
   "metadata": {},
   "outputs": [
    {
     "data": {
      "text/html": [
       "<div>\n",
       "<style scoped>\n",
       "    .dataframe tbody tr th:only-of-type {\n",
       "        vertical-align: middle;\n",
       "    }\n",
       "\n",
       "    .dataframe tbody tr th {\n",
       "        vertical-align: top;\n",
       "    }\n",
       "\n",
       "    .dataframe thead th {\n",
       "        text-align: right;\n",
       "    }\n",
       "</style>\n",
       "<table border=\"1\" class=\"dataframe\">\n",
       "  <thead>\n",
       "    <tr style=\"text-align: right;\">\n",
       "      <th></th>\n",
       "      <th>star_rating</th>\n",
       "      <th>title</th>\n",
       "      <th>content_rating</th>\n",
       "      <th>genre</th>\n",
       "      <th>duration</th>\n",
       "      <th>actors_list</th>\n",
       "    </tr>\n",
       "  </thead>\n",
       "  <tbody>\n",
       "    <tr>\n",
       "      <th>0</th>\n",
       "      <td>9.3</td>\n",
       "      <td>The Shawshank Redemption</td>\n",
       "      <td>R</td>\n",
       "      <td>Crime</td>\n",
       "      <td>142</td>\n",
       "      <td>[u'Tim Robbins', u'Morgan Freeman', u'Bob Gunt...</td>\n",
       "    </tr>\n",
       "    <tr>\n",
       "      <th>1</th>\n",
       "      <td>9.2</td>\n",
       "      <td>The Godfather</td>\n",
       "      <td>R</td>\n",
       "      <td>Crime</td>\n",
       "      <td>175</td>\n",
       "      <td>[u'Marlon Brando', u'Al Pacino', u'James Caan']</td>\n",
       "    </tr>\n",
       "    <tr>\n",
       "      <th>2</th>\n",
       "      <td>9.1</td>\n",
       "      <td>The Godfather: Part II</td>\n",
       "      <td>R</td>\n",
       "      <td>Crime</td>\n",
       "      <td>200</td>\n",
       "      <td>[u'Al Pacino', u'Robert De Niro', u'Robert Duv...</td>\n",
       "    </tr>\n",
       "    <tr>\n",
       "      <th>3</th>\n",
       "      <td>9.0</td>\n",
       "      <td>The Dark Knight</td>\n",
       "      <td>PG-13</td>\n",
       "      <td>Action</td>\n",
       "      <td>152</td>\n",
       "      <td>[u'Christian Bale', u'Heath Ledger', u'Aaron E...</td>\n",
       "    </tr>\n",
       "    <tr>\n",
       "      <th>4</th>\n",
       "      <td>8.9</td>\n",
       "      <td>Pulp Fiction</td>\n",
       "      <td>R</td>\n",
       "      <td>Crime</td>\n",
       "      <td>154</td>\n",
       "      <td>[u'John Travolta', u'Uma Thurman', u'Samuel L....</td>\n",
       "    </tr>\n",
       "  </tbody>\n",
       "</table>\n",
       "</div>"
      ],
      "text/plain": [
       "   star_rating                     title content_rating   genre  duration  \\\n",
       "0          9.3  The Shawshank Redemption              R   Crime       142   \n",
       "1          9.2             The Godfather              R   Crime       175   \n",
       "2          9.1    The Godfather: Part II              R   Crime       200   \n",
       "3          9.0           The Dark Knight          PG-13  Action       152   \n",
       "4          8.9              Pulp Fiction              R   Crime       154   \n",
       "\n",
       "                                         actors_list  \n",
       "0  [u'Tim Robbins', u'Morgan Freeman', u'Bob Gunt...  \n",
       "1    [u'Marlon Brando', u'Al Pacino', u'James Caan']  \n",
       "2  [u'Al Pacino', u'Robert De Niro', u'Robert Duv...  \n",
       "3  [u'Christian Bale', u'Heath Ledger', u'Aaron E...  \n",
       "4  [u'John Travolta', u'Uma Thurman', u'Samuel L....  "
      ]
     },
     "execution_count": 48,
     "metadata": {},
     "output_type": "execute_result"
    }
   ],
   "source": [
    "film=pd.read_csv(\"http://bit.ly/imdbratings\")\n",
    "film.head()"
   ]
  },
  {
   "cell_type": "code",
   "execution_count": 50,
   "id": "b4a31fb3",
   "metadata": {},
   "outputs": [
    {
     "data": {
      "text/plain": [
       "0                             THE SHAWSHANK REDEMPTION\n",
       "1                                        THE GODFATHER\n",
       "2                               THE GODFATHER: PART II\n",
       "3                                      THE DARK KNIGHT\n",
       "4                                         PULP FICTION\n",
       "                            ...                       \n",
       "974                                            TOOTSIE\n",
       "975                        BACK TO THE FUTURE PART III\n",
       "976    MASTER AND COMMANDER: THE FAR SIDE OF THE WORLD\n",
       "977                                        POLTERGEIST\n",
       "978                                        WALL STREET\n",
       "Name: title, Length: 979, dtype: object"
      ]
     },
     "execution_count": 50,
     "metadata": {},
     "output_type": "execute_result"
    }
   ],
   "source": [
    "film[\"title\"].str.upper()"
   ]
  },
  {
   "cell_type": "code",
   "execution_count": 51,
   "id": "bffd7fbb",
   "metadata": {},
   "outputs": [
    {
     "data": {
      "text/plain": [
       "Index(['star_rating', 'title', 'content_rating', 'genre', 'duration',\n",
       "       'actors_list'],\n",
       "      dtype='object')"
      ]
     },
     "execution_count": 51,
     "metadata": {},
     "output_type": "execute_result"
    }
   ],
   "source": [
    "film.columns"
   ]
  },
  {
   "cell_type": "code",
   "execution_count": 54,
   "id": "2e9b5547",
   "metadata": {},
   "outputs": [
    {
     "data": {
      "text/plain": [
       "Index(['Star_rating', 'Title', 'Content_rating', 'Genre', 'Duration',\n",
       "       'Actors_list'],\n",
       "      dtype='object')"
      ]
     },
     "execution_count": 54,
     "metadata": {},
     "output_type": "execute_result"
    }
   ],
   "source": [
    "film.columns.str.capitalize()"
   ]
  },
  {
   "cell_type": "code",
   "execution_count": 55,
   "id": "3beeaccb",
   "metadata": {},
   "outputs": [],
   "source": [
    "film.columns=film.columns.str.capitalize()"
   ]
  },
  {
   "cell_type": "code",
   "execution_count": 56,
   "id": "78af6913",
   "metadata": {},
   "outputs": [
    {
     "data": {
      "text/html": [
       "<div>\n",
       "<style scoped>\n",
       "    .dataframe tbody tr th:only-of-type {\n",
       "        vertical-align: middle;\n",
       "    }\n",
       "\n",
       "    .dataframe tbody tr th {\n",
       "        vertical-align: top;\n",
       "    }\n",
       "\n",
       "    .dataframe thead th {\n",
       "        text-align: right;\n",
       "    }\n",
       "</style>\n",
       "<table border=\"1\" class=\"dataframe\">\n",
       "  <thead>\n",
       "    <tr style=\"text-align: right;\">\n",
       "      <th></th>\n",
       "      <th>Star_rating</th>\n",
       "      <th>Title</th>\n",
       "      <th>Content_rating</th>\n",
       "      <th>Genre</th>\n",
       "      <th>Duration</th>\n",
       "      <th>Actors_list</th>\n",
       "    </tr>\n",
       "  </thead>\n",
       "  <tbody>\n",
       "    <tr>\n",
       "      <th>0</th>\n",
       "      <td>9.3</td>\n",
       "      <td>The Shawshank Redemption</td>\n",
       "      <td>R</td>\n",
       "      <td>Crime</td>\n",
       "      <td>142</td>\n",
       "      <td>[u'Tim Robbins', u'Morgan Freeman', u'Bob Gunt...</td>\n",
       "    </tr>\n",
       "    <tr>\n",
       "      <th>1</th>\n",
       "      <td>9.2</td>\n",
       "      <td>The Godfather</td>\n",
       "      <td>R</td>\n",
       "      <td>Crime</td>\n",
       "      <td>175</td>\n",
       "      <td>[u'Marlon Brando', u'Al Pacino', u'James Caan']</td>\n",
       "    </tr>\n",
       "    <tr>\n",
       "      <th>2</th>\n",
       "      <td>9.1</td>\n",
       "      <td>The Godfather: Part II</td>\n",
       "      <td>R</td>\n",
       "      <td>Crime</td>\n",
       "      <td>200</td>\n",
       "      <td>[u'Al Pacino', u'Robert De Niro', u'Robert Duv...</td>\n",
       "    </tr>\n",
       "    <tr>\n",
       "      <th>3</th>\n",
       "      <td>9.0</td>\n",
       "      <td>The Dark Knight</td>\n",
       "      <td>PG-13</td>\n",
       "      <td>Action</td>\n",
       "      <td>152</td>\n",
       "      <td>[u'Christian Bale', u'Heath Ledger', u'Aaron E...</td>\n",
       "    </tr>\n",
       "    <tr>\n",
       "      <th>4</th>\n",
       "      <td>8.9</td>\n",
       "      <td>Pulp Fiction</td>\n",
       "      <td>R</td>\n",
       "      <td>Crime</td>\n",
       "      <td>154</td>\n",
       "      <td>[u'John Travolta', u'Uma Thurman', u'Samuel L....</td>\n",
       "    </tr>\n",
       "    <tr>\n",
       "      <th>...</th>\n",
       "      <td>...</td>\n",
       "      <td>...</td>\n",
       "      <td>...</td>\n",
       "      <td>...</td>\n",
       "      <td>...</td>\n",
       "      <td>...</td>\n",
       "    </tr>\n",
       "    <tr>\n",
       "      <th>974</th>\n",
       "      <td>7.4</td>\n",
       "      <td>Tootsie</td>\n",
       "      <td>PG</td>\n",
       "      <td>Comedy</td>\n",
       "      <td>116</td>\n",
       "      <td>[u'Dustin Hoffman', u'Jessica Lange', u'Teri G...</td>\n",
       "    </tr>\n",
       "    <tr>\n",
       "      <th>975</th>\n",
       "      <td>7.4</td>\n",
       "      <td>Back to the Future Part III</td>\n",
       "      <td>PG</td>\n",
       "      <td>Adventure</td>\n",
       "      <td>118</td>\n",
       "      <td>[u'Michael J. Fox', u'Christopher Lloyd', u'Ma...</td>\n",
       "    </tr>\n",
       "    <tr>\n",
       "      <th>976</th>\n",
       "      <td>7.4</td>\n",
       "      <td>Master and Commander: The Far Side of the World</td>\n",
       "      <td>PG-13</td>\n",
       "      <td>Action</td>\n",
       "      <td>138</td>\n",
       "      <td>[u'Russell Crowe', u'Paul Bettany', u'Billy Bo...</td>\n",
       "    </tr>\n",
       "    <tr>\n",
       "      <th>977</th>\n",
       "      <td>7.4</td>\n",
       "      <td>Poltergeist</td>\n",
       "      <td>PG</td>\n",
       "      <td>Horror</td>\n",
       "      <td>114</td>\n",
       "      <td>[u'JoBeth Williams', u\"Heather O'Rourke\", u'Cr...</td>\n",
       "    </tr>\n",
       "    <tr>\n",
       "      <th>978</th>\n",
       "      <td>7.4</td>\n",
       "      <td>Wall Street</td>\n",
       "      <td>R</td>\n",
       "      <td>Crime</td>\n",
       "      <td>126</td>\n",
       "      <td>[u'Charlie Sheen', u'Michael Douglas', u'Tamar...</td>\n",
       "    </tr>\n",
       "  </tbody>\n",
       "</table>\n",
       "<p>979 rows × 6 columns</p>\n",
       "</div>"
      ],
      "text/plain": [
       "     Star_rating                                            Title  \\\n",
       "0            9.3                         The Shawshank Redemption   \n",
       "1            9.2                                    The Godfather   \n",
       "2            9.1                           The Godfather: Part II   \n",
       "3            9.0                                  The Dark Knight   \n",
       "4            8.9                                     Pulp Fiction   \n",
       "..           ...                                              ...   \n",
       "974          7.4                                          Tootsie   \n",
       "975          7.4                      Back to the Future Part III   \n",
       "976          7.4  Master and Commander: The Far Side of the World   \n",
       "977          7.4                                      Poltergeist   \n",
       "978          7.4                                      Wall Street   \n",
       "\n",
       "    Content_rating      Genre  Duration  \\\n",
       "0                R      Crime       142   \n",
       "1                R      Crime       175   \n",
       "2                R      Crime       200   \n",
       "3            PG-13     Action       152   \n",
       "4                R      Crime       154   \n",
       "..             ...        ...       ...   \n",
       "974             PG     Comedy       116   \n",
       "975             PG  Adventure       118   \n",
       "976          PG-13     Action       138   \n",
       "977             PG     Horror       114   \n",
       "978              R      Crime       126   \n",
       "\n",
       "                                           Actors_list  \n",
       "0    [u'Tim Robbins', u'Morgan Freeman', u'Bob Gunt...  \n",
       "1      [u'Marlon Brando', u'Al Pacino', u'James Caan']  \n",
       "2    [u'Al Pacino', u'Robert De Niro', u'Robert Duv...  \n",
       "3    [u'Christian Bale', u'Heath Ledger', u'Aaron E...  \n",
       "4    [u'John Travolta', u'Uma Thurman', u'Samuel L....  \n",
       "..                                                 ...  \n",
       "974  [u'Dustin Hoffman', u'Jessica Lange', u'Teri G...  \n",
       "975  [u'Michael J. Fox', u'Christopher Lloyd', u'Ma...  \n",
       "976  [u'Russell Crowe', u'Paul Bettany', u'Billy Bo...  \n",
       "977  [u'JoBeth Williams', u\"Heather O'Rourke\", u'Cr...  \n",
       "978  [u'Charlie Sheen', u'Michael Douglas', u'Tamar...  \n",
       "\n",
       "[979 rows x 6 columns]"
      ]
     },
     "execution_count": 56,
     "metadata": {},
     "output_type": "execute_result"
    }
   ],
   "source": [
    "film"
   ]
  },
  {
   "cell_type": "code",
   "execution_count": 58,
   "id": "37db9aea",
   "metadata": {},
   "outputs": [
    {
     "data": {
      "text/plain": [
       "0      False\n",
       "1      False\n",
       "2      False\n",
       "3      False\n",
       "4      False\n",
       "       ...  \n",
       "974    False\n",
       "975    False\n",
       "976    False\n",
       "977    False\n",
       "978    False\n",
       "Name: Actors_list, Length: 979, dtype: bool"
      ]
     },
     "execution_count": 58,
     "metadata": {},
     "output_type": "execute_result"
    }
   ],
   "source": [
    "film.Actors_list.str.contains('Brad Pitt')"
   ]
  },
  {
   "cell_type": "code",
   "execution_count": 84,
   "id": "cd0525e3",
   "metadata": {
    "scrolled": false
   },
   "outputs": [
    {
     "data": {
      "text/html": [
       "<div>\n",
       "<style scoped>\n",
       "    .dataframe tbody tr th:only-of-type {\n",
       "        vertical-align: middle;\n",
       "    }\n",
       "\n",
       "    .dataframe tbody tr th {\n",
       "        vertical-align: top;\n",
       "    }\n",
       "\n",
       "    .dataframe thead th {\n",
       "        text-align: right;\n",
       "    }\n",
       "</style>\n",
       "<table border=\"1\" class=\"dataframe\">\n",
       "  <thead>\n",
       "    <tr style=\"text-align: right;\">\n",
       "      <th></th>\n",
       "      <th>Star_rating</th>\n",
       "      <th>Title</th>\n",
       "      <th>Content_rating</th>\n",
       "      <th>Genre</th>\n",
       "      <th>Duration</th>\n",
       "      <th>Actors_list</th>\n",
       "    </tr>\n",
       "  </thead>\n",
       "  <tbody>\n",
       "    <tr>\n",
       "      <th>9</th>\n",
       "      <td>8.9</td>\n",
       "      <td>Fight Club</td>\n",
       "      <td>R</td>\n",
       "      <td>Drama</td>\n",
       "      <td>139</td>\n",
       "      <td>[u'Brad Pitt', u'Edward Norton', u'Helena Bonh...</td>\n",
       "    </tr>\n",
       "    <tr>\n",
       "      <th>24</th>\n",
       "      <td>8.7</td>\n",
       "      <td>Se7en</td>\n",
       "      <td>R</td>\n",
       "      <td>Drama</td>\n",
       "      <td>127</td>\n",
       "      <td>[u'Morgan Freeman', u'Brad Pitt', u'Kevin Spac...</td>\n",
       "    </tr>\n",
       "    <tr>\n",
       "      <th>106</th>\n",
       "      <td>8.3</td>\n",
       "      <td>Snatch.</td>\n",
       "      <td>R</td>\n",
       "      <td>Comedy</td>\n",
       "      <td>102</td>\n",
       "      <td>[u'Jason Statham', u'Brad Pitt', u'Benicio Del...</td>\n",
       "    </tr>\n",
       "    <tr>\n",
       "      <th>114</th>\n",
       "      <td>8.3</td>\n",
       "      <td>Inglourious Basterds</td>\n",
       "      <td>R</td>\n",
       "      <td>Adventure</td>\n",
       "      <td>153</td>\n",
       "      <td>[u'Brad Pitt', u'Diane Kruger', u'Eli Roth']</td>\n",
       "    </tr>\n",
       "    <tr>\n",
       "      <th>264</th>\n",
       "      <td>8.1</td>\n",
       "      <td>Twelve Monkeys</td>\n",
       "      <td>R</td>\n",
       "      <td>Mystery</td>\n",
       "      <td>129</td>\n",
       "      <td>[u'Bruce Willis', u'Madeleine Stowe', u'Brad P...</td>\n",
       "    </tr>\n",
       "    <tr>\n",
       "      <th>508</th>\n",
       "      <td>7.8</td>\n",
       "      <td>The Curious Case of Benjamin Button</td>\n",
       "      <td>PG-13</td>\n",
       "      <td>Drama</td>\n",
       "      <td>166</td>\n",
       "      <td>[u'Brad Pitt', u'Cate Blanchett', u'Tilda Swin...</td>\n",
       "    </tr>\n",
       "    <tr>\n",
       "      <th>577</th>\n",
       "      <td>7.8</td>\n",
       "      <td>Ocean's Eleven</td>\n",
       "      <td>PG-13</td>\n",
       "      <td>Crime</td>\n",
       "      <td>116</td>\n",
       "      <td>[u'George Clooney', u'Brad Pitt', u'Julia Robe...</td>\n",
       "    </tr>\n",
       "    <tr>\n",
       "      <th>683</th>\n",
       "      <td>7.7</td>\n",
       "      <td>Fury</td>\n",
       "      <td>R</td>\n",
       "      <td>Action</td>\n",
       "      <td>134</td>\n",
       "      <td>[u'Brad Pitt', u'Shia LaBeouf', u'Logan Lerman']</td>\n",
       "    </tr>\n",
       "    <tr>\n",
       "      <th>776</th>\n",
       "      <td>7.6</td>\n",
       "      <td>Moneyball</td>\n",
       "      <td>PG-13</td>\n",
       "      <td>Biography</td>\n",
       "      <td>133</td>\n",
       "      <td>[u'Brad Pitt', u'Robin Wright', u'Jonah Hill']</td>\n",
       "    </tr>\n",
       "    <tr>\n",
       "      <th>779</th>\n",
       "      <td>7.6</td>\n",
       "      <td>Interview with the Vampire: The Vampire Chroni...</td>\n",
       "      <td>R</td>\n",
       "      <td>Horror</td>\n",
       "      <td>123</td>\n",
       "      <td>[u'Brad Pitt', u'Tom Cruise', u'Antonio Bander...</td>\n",
       "    </tr>\n",
       "    <tr>\n",
       "      <th>807</th>\n",
       "      <td>7.6</td>\n",
       "      <td>The Assassination of Jesse James by the Coward...</td>\n",
       "      <td>R</td>\n",
       "      <td>Biography</td>\n",
       "      <td>160</td>\n",
       "      <td>[u'Brad Pitt', u'Casey Affleck', u'Sam Shepard']</td>\n",
       "    </tr>\n",
       "    <tr>\n",
       "      <th>826</th>\n",
       "      <td>7.5</td>\n",
       "      <td>Sleepers</td>\n",
       "      <td>R</td>\n",
       "      <td>Crime</td>\n",
       "      <td>147</td>\n",
       "      <td>[u'Robert De Niro', u'Kevin Bacon', u'Brad Pitt']</td>\n",
       "    </tr>\n",
       "    <tr>\n",
       "      <th>877</th>\n",
       "      <td>7.5</td>\n",
       "      <td>Legends of the Fall</td>\n",
       "      <td>R</td>\n",
       "      <td>Drama</td>\n",
       "      <td>133</td>\n",
       "      <td>[u'Brad Pitt', u'Anthony Hopkins', u'Aidan Qui...</td>\n",
       "    </tr>\n",
       "    <tr>\n",
       "      <th>901</th>\n",
       "      <td>7.5</td>\n",
       "      <td>Babel</td>\n",
       "      <td>R</td>\n",
       "      <td>Drama</td>\n",
       "      <td>143</td>\n",
       "      <td>[u'Brad Pitt', u'Cate Blanchett', u'Gael Garc\\...</td>\n",
       "    </tr>\n",
       "  </tbody>\n",
       "</table>\n",
       "</div>"
      ],
      "text/plain": [
       "     Star_rating                                              Title  \\\n",
       "9            8.9                                         Fight Club   \n",
       "24           8.7                                              Se7en   \n",
       "106          8.3                                            Snatch.   \n",
       "114          8.3                               Inglourious Basterds   \n",
       "264          8.1                                     Twelve Monkeys   \n",
       "508          7.8                The Curious Case of Benjamin Button   \n",
       "577          7.8                                     Ocean's Eleven   \n",
       "683          7.7                                               Fury   \n",
       "776          7.6                                          Moneyball   \n",
       "779          7.6  Interview with the Vampire: The Vampire Chroni...   \n",
       "807          7.6  The Assassination of Jesse James by the Coward...   \n",
       "826          7.5                                           Sleepers   \n",
       "877          7.5                                Legends of the Fall   \n",
       "901          7.5                                              Babel   \n",
       "\n",
       "    Content_rating      Genre  Duration  \\\n",
       "9                R      Drama       139   \n",
       "24               R      Drama       127   \n",
       "106              R     Comedy       102   \n",
       "114              R  Adventure       153   \n",
       "264              R    Mystery       129   \n",
       "508          PG-13      Drama       166   \n",
       "577          PG-13      Crime       116   \n",
       "683              R     Action       134   \n",
       "776          PG-13  Biography       133   \n",
       "779              R     Horror       123   \n",
       "807              R  Biography       160   \n",
       "826              R      Crime       147   \n",
       "877              R      Drama       133   \n",
       "901              R      Drama       143   \n",
       "\n",
       "                                           Actors_list  \n",
       "9    [u'Brad Pitt', u'Edward Norton', u'Helena Bonh...  \n",
       "24   [u'Morgan Freeman', u'Brad Pitt', u'Kevin Spac...  \n",
       "106  [u'Jason Statham', u'Brad Pitt', u'Benicio Del...  \n",
       "114       [u'Brad Pitt', u'Diane Kruger', u'Eli Roth']  \n",
       "264  [u'Bruce Willis', u'Madeleine Stowe', u'Brad P...  \n",
       "508  [u'Brad Pitt', u'Cate Blanchett', u'Tilda Swin...  \n",
       "577  [u'George Clooney', u'Brad Pitt', u'Julia Robe...  \n",
       "683   [u'Brad Pitt', u'Shia LaBeouf', u'Logan Lerman']  \n",
       "776     [u'Brad Pitt', u'Robin Wright', u'Jonah Hill']  \n",
       "779  [u'Brad Pitt', u'Tom Cruise', u'Antonio Bander...  \n",
       "807   [u'Brad Pitt', u'Casey Affleck', u'Sam Shepard']  \n",
       "826  [u'Robert De Niro', u'Kevin Bacon', u'Brad Pitt']  \n",
       "877  [u'Brad Pitt', u'Anthony Hopkins', u'Aidan Qui...  \n",
       "901  [u'Brad Pitt', u'Cate Blanchett', u'Gael Garc\\...  "
      ]
     },
     "execution_count": 84,
     "metadata": {},
     "output_type": "execute_result"
    }
   ],
   "source": [
    "film[film.Actors_list.str.contains('Brad Pitt')]"
   ]
  },
  {
   "cell_type": "code",
   "execution_count": 99,
   "id": "accfb6ce",
   "metadata": {},
   "outputs": [
    {
     "data": {
      "text/html": [
       "<div>\n",
       "<style scoped>\n",
       "    .dataframe tbody tr th:only-of-type {\n",
       "        vertical-align: middle;\n",
       "    }\n",
       "\n",
       "    .dataframe tbody tr th {\n",
       "        vertical-align: top;\n",
       "    }\n",
       "\n",
       "    .dataframe thead th {\n",
       "        text-align: right;\n",
       "    }\n",
       "</style>\n",
       "<table border=\"1\" class=\"dataframe\">\n",
       "  <thead>\n",
       "    <tr style=\"text-align: right;\">\n",
       "      <th></th>\n",
       "      <th>Star_rating</th>\n",
       "      <th>Title</th>\n",
       "      <th>Content_rating</th>\n",
       "      <th>Genre</th>\n",
       "      <th>Duration</th>\n",
       "      <th>Actors_list</th>\n",
       "    </tr>\n",
       "  </thead>\n",
       "  <tbody>\n",
       "  </tbody>\n",
       "</table>\n",
       "</div>"
      ],
      "text/plain": [
       "Empty DataFrame\n",
       "Columns: [Star_rating, Title, Content_rating, Genre, Duration, Actors_list]\n",
       "Index: []"
      ]
     },
     "execution_count": 99,
     "metadata": {},
     "output_type": "execute_result"
    }
   ],
   "source": [
    "film[film.Actors_list.str.contains('Brad pitt')]"
   ]
  },
  {
   "cell_type": "code",
   "execution_count": 105,
   "id": "afa8d1ed",
   "metadata": {
    "scrolled": false
   },
   "outputs": [
    {
     "data": {
      "text/html": [
       "<div>\n",
       "<style scoped>\n",
       "    .dataframe tbody tr th:only-of-type {\n",
       "        vertical-align: middle;\n",
       "    }\n",
       "\n",
       "    .dataframe tbody tr th {\n",
       "        vertical-align: top;\n",
       "    }\n",
       "\n",
       "    .dataframe thead th {\n",
       "        text-align: right;\n",
       "    }\n",
       "</style>\n",
       "<table border=\"1\" class=\"dataframe\">\n",
       "  <thead>\n",
       "    <tr style=\"text-align: right;\">\n",
       "      <th></th>\n",
       "      <th>Star_rating</th>\n",
       "      <th>Title</th>\n",
       "      <th>Content_rating</th>\n",
       "      <th>Genre</th>\n",
       "      <th>Duration</th>\n",
       "      <th>Actors_list</th>\n",
       "    </tr>\n",
       "  </thead>\n",
       "  <tbody>\n",
       "    <tr>\n",
       "      <th>9</th>\n",
       "      <td>8.9</td>\n",
       "      <td>Fight Club</td>\n",
       "      <td>R</td>\n",
       "      <td>Drama</td>\n",
       "      <td>139</td>\n",
       "      <td>[u'Brad Pitt', u'Edward Norton', u'Helena Bonh...</td>\n",
       "    </tr>\n",
       "    <tr>\n",
       "      <th>24</th>\n",
       "      <td>8.7</td>\n",
       "      <td>Se7en</td>\n",
       "      <td>R</td>\n",
       "      <td>Drama</td>\n",
       "      <td>127</td>\n",
       "      <td>[u'Morgan Freeman', u'Brad Pitt', u'Kevin Spac...</td>\n",
       "    </tr>\n",
       "    <tr>\n",
       "      <th>106</th>\n",
       "      <td>8.3</td>\n",
       "      <td>Snatch.</td>\n",
       "      <td>R</td>\n",
       "      <td>Comedy</td>\n",
       "      <td>102</td>\n",
       "      <td>[u'Jason Statham', u'Brad Pitt', u'Benicio Del...</td>\n",
       "    </tr>\n",
       "    <tr>\n",
       "      <th>114</th>\n",
       "      <td>8.3</td>\n",
       "      <td>Inglourious Basterds</td>\n",
       "      <td>R</td>\n",
       "      <td>Adventure</td>\n",
       "      <td>153</td>\n",
       "      <td>[u'Brad Pitt', u'Diane Kruger', u'Eli Roth']</td>\n",
       "    </tr>\n",
       "    <tr>\n",
       "      <th>264</th>\n",
       "      <td>8.1</td>\n",
       "      <td>Twelve Monkeys</td>\n",
       "      <td>R</td>\n",
       "      <td>Mystery</td>\n",
       "      <td>129</td>\n",
       "      <td>[u'Bruce Willis', u'Madeleine Stowe', u'Brad P...</td>\n",
       "    </tr>\n",
       "    <tr>\n",
       "      <th>508</th>\n",
       "      <td>7.8</td>\n",
       "      <td>The Curious Case of Benjamin Button</td>\n",
       "      <td>PG-13</td>\n",
       "      <td>Drama</td>\n",
       "      <td>166</td>\n",
       "      <td>[u'Brad Pitt', u'Cate Blanchett', u'Tilda Swin...</td>\n",
       "    </tr>\n",
       "    <tr>\n",
       "      <th>577</th>\n",
       "      <td>7.8</td>\n",
       "      <td>Ocean's Eleven</td>\n",
       "      <td>PG-13</td>\n",
       "      <td>Crime</td>\n",
       "      <td>116</td>\n",
       "      <td>[u'George Clooney', u'Brad Pitt', u'Julia Robe...</td>\n",
       "    </tr>\n",
       "    <tr>\n",
       "      <th>683</th>\n",
       "      <td>7.7</td>\n",
       "      <td>Fury</td>\n",
       "      <td>R</td>\n",
       "      <td>Action</td>\n",
       "      <td>134</td>\n",
       "      <td>[u'Brad Pitt', u'Shia LaBeouf', u'Logan Lerman']</td>\n",
       "    </tr>\n",
       "    <tr>\n",
       "      <th>776</th>\n",
       "      <td>7.6</td>\n",
       "      <td>Moneyball</td>\n",
       "      <td>PG-13</td>\n",
       "      <td>Biography</td>\n",
       "      <td>133</td>\n",
       "      <td>[u'Brad Pitt', u'Robin Wright', u'Jonah Hill']</td>\n",
       "    </tr>\n",
       "    <tr>\n",
       "      <th>779</th>\n",
       "      <td>7.6</td>\n",
       "      <td>Interview with the Vampire: The Vampire Chroni...</td>\n",
       "      <td>R</td>\n",
       "      <td>Horror</td>\n",
       "      <td>123</td>\n",
       "      <td>[u'Brad Pitt', u'Tom Cruise', u'Antonio Bander...</td>\n",
       "    </tr>\n",
       "    <tr>\n",
       "      <th>807</th>\n",
       "      <td>7.6</td>\n",
       "      <td>The Assassination of Jesse James by the Coward...</td>\n",
       "      <td>R</td>\n",
       "      <td>Biography</td>\n",
       "      <td>160</td>\n",
       "      <td>[u'Brad Pitt', u'Casey Affleck', u'Sam Shepard']</td>\n",
       "    </tr>\n",
       "    <tr>\n",
       "      <th>826</th>\n",
       "      <td>7.5</td>\n",
       "      <td>Sleepers</td>\n",
       "      <td>R</td>\n",
       "      <td>Crime</td>\n",
       "      <td>147</td>\n",
       "      <td>[u'Robert De Niro', u'Kevin Bacon', u'Brad Pitt']</td>\n",
       "    </tr>\n",
       "    <tr>\n",
       "      <th>877</th>\n",
       "      <td>7.5</td>\n",
       "      <td>Legends of the Fall</td>\n",
       "      <td>R</td>\n",
       "      <td>Drama</td>\n",
       "      <td>133</td>\n",
       "      <td>[u'Brad Pitt', u'Anthony Hopkins', u'Aidan Qui...</td>\n",
       "    </tr>\n",
       "    <tr>\n",
       "      <th>901</th>\n",
       "      <td>7.5</td>\n",
       "      <td>Babel</td>\n",
       "      <td>R</td>\n",
       "      <td>Drama</td>\n",
       "      <td>143</td>\n",
       "      <td>[u'Brad Pitt', u'Cate Blanchett', u'Gael Garc\\...</td>\n",
       "    </tr>\n",
       "  </tbody>\n",
       "</table>\n",
       "</div>"
      ],
      "text/plain": [
       "     Star_rating                                              Title  \\\n",
       "9            8.9                                         Fight Club   \n",
       "24           8.7                                              Se7en   \n",
       "106          8.3                                            Snatch.   \n",
       "114          8.3                               Inglourious Basterds   \n",
       "264          8.1                                     Twelve Monkeys   \n",
       "508          7.8                The Curious Case of Benjamin Button   \n",
       "577          7.8                                     Ocean's Eleven   \n",
       "683          7.7                                               Fury   \n",
       "776          7.6                                          Moneyball   \n",
       "779          7.6  Interview with the Vampire: The Vampire Chroni...   \n",
       "807          7.6  The Assassination of Jesse James by the Coward...   \n",
       "826          7.5                                           Sleepers   \n",
       "877          7.5                                Legends of the Fall   \n",
       "901          7.5                                              Babel   \n",
       "\n",
       "    Content_rating      Genre  Duration  \\\n",
       "9                R      Drama       139   \n",
       "24               R      Drama       127   \n",
       "106              R     Comedy       102   \n",
       "114              R  Adventure       153   \n",
       "264              R    Mystery       129   \n",
       "508          PG-13      Drama       166   \n",
       "577          PG-13      Crime       116   \n",
       "683              R     Action       134   \n",
       "776          PG-13  Biography       133   \n",
       "779              R     Horror       123   \n",
       "807              R  Biography       160   \n",
       "826              R      Crime       147   \n",
       "877              R      Drama       133   \n",
       "901              R      Drama       143   \n",
       "\n",
       "                                           Actors_list  \n",
       "9    [u'Brad Pitt', u'Edward Norton', u'Helena Bonh...  \n",
       "24   [u'Morgan Freeman', u'Brad Pitt', u'Kevin Spac...  \n",
       "106  [u'Jason Statham', u'Brad Pitt', u'Benicio Del...  \n",
       "114       [u'Brad Pitt', u'Diane Kruger', u'Eli Roth']  \n",
       "264  [u'Bruce Willis', u'Madeleine Stowe', u'Brad P...  \n",
       "508  [u'Brad Pitt', u'Cate Blanchett', u'Tilda Swin...  \n",
       "577  [u'George Clooney', u'Brad Pitt', u'Julia Robe...  \n",
       "683   [u'Brad Pitt', u'Shia LaBeouf', u'Logan Lerman']  \n",
       "776     [u'Brad Pitt', u'Robin Wright', u'Jonah Hill']  \n",
       "779  [u'Brad Pitt', u'Tom Cruise', u'Antonio Bander...  \n",
       "807   [u'Brad Pitt', u'Casey Affleck', u'Sam Shepard']  \n",
       "826  [u'Robert De Niro', u'Kevin Bacon', u'Brad Pitt']  \n",
       "877  [u'Brad Pitt', u'Anthony Hopkins', u'Aidan Qui...  \n",
       "901  [u'Brad Pitt', u'Cate Blanchett', u'Gael Garc\\...  "
      ]
     },
     "execution_count": 105,
     "metadata": {},
     "output_type": "execute_result"
    }
   ],
   "source": [
    "film[film.Actors_list.str.contains('brad pitt', case=False)]"
   ]
  },
  {
   "cell_type": "code",
   "execution_count": 106,
   "id": "5a7a3140",
   "metadata": {},
   "outputs": [
    {
     "data": {
      "text/html": [
       "<div>\n",
       "<style scoped>\n",
       "    .dataframe tbody tr th:only-of-type {\n",
       "        vertical-align: middle;\n",
       "    }\n",
       "\n",
       "    .dataframe tbody tr th {\n",
       "        vertical-align: top;\n",
       "    }\n",
       "\n",
       "    .dataframe thead th {\n",
       "        text-align: right;\n",
       "    }\n",
       "</style>\n",
       "<table border=\"1\" class=\"dataframe\">\n",
       "  <thead>\n",
       "    <tr style=\"text-align: right;\">\n",
       "      <th></th>\n",
       "      <th>Star_rating</th>\n",
       "      <th>Title</th>\n",
       "      <th>Content_rating</th>\n",
       "      <th>Genre</th>\n",
       "      <th>Duration</th>\n",
       "      <th>Actors_list</th>\n",
       "    </tr>\n",
       "  </thead>\n",
       "  <tbody>\n",
       "    <tr>\n",
       "      <th>9</th>\n",
       "      <td>8.9</td>\n",
       "      <td>Fight Club</td>\n",
       "      <td>R</td>\n",
       "      <td>Drama</td>\n",
       "      <td>139</td>\n",
       "      <td>[u'Brad Pitt', u'Edward Norton', u'Helena Bonh...</td>\n",
       "    </tr>\n",
       "    <tr>\n",
       "      <th>24</th>\n",
       "      <td>8.7</td>\n",
       "      <td>Se7en</td>\n",
       "      <td>R</td>\n",
       "      <td>Drama</td>\n",
       "      <td>127</td>\n",
       "      <td>[u'Morgan Freeman', u'Brad Pitt', u'Kevin Spac...</td>\n",
       "    </tr>\n",
       "    <tr>\n",
       "      <th>106</th>\n",
       "      <td>8.3</td>\n",
       "      <td>Snatch.</td>\n",
       "      <td>R</td>\n",
       "      <td>Comedy</td>\n",
       "      <td>102</td>\n",
       "      <td>[u'Jason Statham', u'Brad Pitt', u'Benicio Del...</td>\n",
       "    </tr>\n",
       "    <tr>\n",
       "      <th>114</th>\n",
       "      <td>8.3</td>\n",
       "      <td>Inglourious Basterds</td>\n",
       "      <td>R</td>\n",
       "      <td>Adventure</td>\n",
       "      <td>153</td>\n",
       "      <td>[u'Brad Pitt', u'Diane Kruger', u'Eli Roth']</td>\n",
       "    </tr>\n",
       "    <tr>\n",
       "      <th>264</th>\n",
       "      <td>8.1</td>\n",
       "      <td>Twelve Monkeys</td>\n",
       "      <td>R</td>\n",
       "      <td>Mystery</td>\n",
       "      <td>129</td>\n",
       "      <td>[u'Bruce Willis', u'Madeleine Stowe', u'Brad P...</td>\n",
       "    </tr>\n",
       "    <tr>\n",
       "      <th>508</th>\n",
       "      <td>7.8</td>\n",
       "      <td>The Curious Case of Benjamin Button</td>\n",
       "      <td>PG-13</td>\n",
       "      <td>Drama</td>\n",
       "      <td>166</td>\n",
       "      <td>[u'Brad Pitt', u'Cate Blanchett', u'Tilda Swin...</td>\n",
       "    </tr>\n",
       "    <tr>\n",
       "      <th>577</th>\n",
       "      <td>7.8</td>\n",
       "      <td>Ocean's Eleven</td>\n",
       "      <td>PG-13</td>\n",
       "      <td>Crime</td>\n",
       "      <td>116</td>\n",
       "      <td>[u'George Clooney', u'Brad Pitt', u'Julia Robe...</td>\n",
       "    </tr>\n",
       "    <tr>\n",
       "      <th>683</th>\n",
       "      <td>7.7</td>\n",
       "      <td>Fury</td>\n",
       "      <td>R</td>\n",
       "      <td>Action</td>\n",
       "      <td>134</td>\n",
       "      <td>[u'Brad Pitt', u'Shia LaBeouf', u'Logan Lerman']</td>\n",
       "    </tr>\n",
       "    <tr>\n",
       "      <th>776</th>\n",
       "      <td>7.6</td>\n",
       "      <td>Moneyball</td>\n",
       "      <td>PG-13</td>\n",
       "      <td>Biography</td>\n",
       "      <td>133</td>\n",
       "      <td>[u'Brad Pitt', u'Robin Wright', u'Jonah Hill']</td>\n",
       "    </tr>\n",
       "    <tr>\n",
       "      <th>779</th>\n",
       "      <td>7.6</td>\n",
       "      <td>Interview with the Vampire: The Vampire Chroni...</td>\n",
       "      <td>R</td>\n",
       "      <td>Horror</td>\n",
       "      <td>123</td>\n",
       "      <td>[u'Brad Pitt', u'Tom Cruise', u'Antonio Bander...</td>\n",
       "    </tr>\n",
       "    <tr>\n",
       "      <th>807</th>\n",
       "      <td>7.6</td>\n",
       "      <td>The Assassination of Jesse James by the Coward...</td>\n",
       "      <td>R</td>\n",
       "      <td>Biography</td>\n",
       "      <td>160</td>\n",
       "      <td>[u'Brad Pitt', u'Casey Affleck', u'Sam Shepard']</td>\n",
       "    </tr>\n",
       "    <tr>\n",
       "      <th>826</th>\n",
       "      <td>7.5</td>\n",
       "      <td>Sleepers</td>\n",
       "      <td>R</td>\n",
       "      <td>Crime</td>\n",
       "      <td>147</td>\n",
       "      <td>[u'Robert De Niro', u'Kevin Bacon', u'Brad Pitt']</td>\n",
       "    </tr>\n",
       "    <tr>\n",
       "      <th>877</th>\n",
       "      <td>7.5</td>\n",
       "      <td>Legends of the Fall</td>\n",
       "      <td>R</td>\n",
       "      <td>Drama</td>\n",
       "      <td>133</td>\n",
       "      <td>[u'Brad Pitt', u'Anthony Hopkins', u'Aidan Qui...</td>\n",
       "    </tr>\n",
       "    <tr>\n",
       "      <th>901</th>\n",
       "      <td>7.5</td>\n",
       "      <td>Babel</td>\n",
       "      <td>R</td>\n",
       "      <td>Drama</td>\n",
       "      <td>143</td>\n",
       "      <td>[u'Brad Pitt', u'Cate Blanchett', u'Gael Garc\\...</td>\n",
       "    </tr>\n",
       "  </tbody>\n",
       "</table>\n",
       "</div>"
      ],
      "text/plain": [
       "     Star_rating                                              Title  \\\n",
       "9            8.9                                         Fight Club   \n",
       "24           8.7                                              Se7en   \n",
       "106          8.3                                            Snatch.   \n",
       "114          8.3                               Inglourious Basterds   \n",
       "264          8.1                                     Twelve Monkeys   \n",
       "508          7.8                The Curious Case of Benjamin Button   \n",
       "577          7.8                                     Ocean's Eleven   \n",
       "683          7.7                                               Fury   \n",
       "776          7.6                                          Moneyball   \n",
       "779          7.6  Interview with the Vampire: The Vampire Chroni...   \n",
       "807          7.6  The Assassination of Jesse James by the Coward...   \n",
       "826          7.5                                           Sleepers   \n",
       "877          7.5                                Legends of the Fall   \n",
       "901          7.5                                              Babel   \n",
       "\n",
       "    Content_rating      Genre  Duration  \\\n",
       "9                R      Drama       139   \n",
       "24               R      Drama       127   \n",
       "106              R     Comedy       102   \n",
       "114              R  Adventure       153   \n",
       "264              R    Mystery       129   \n",
       "508          PG-13      Drama       166   \n",
       "577          PG-13      Crime       116   \n",
       "683              R     Action       134   \n",
       "776          PG-13  Biography       133   \n",
       "779              R     Horror       123   \n",
       "807              R  Biography       160   \n",
       "826              R      Crime       147   \n",
       "877              R      Drama       133   \n",
       "901              R      Drama       143   \n",
       "\n",
       "                                           Actors_list  \n",
       "9    [u'Brad Pitt', u'Edward Norton', u'Helena Bonh...  \n",
       "24   [u'Morgan Freeman', u'Brad Pitt', u'Kevin Spac...  \n",
       "106  [u'Jason Statham', u'Brad Pitt', u'Benicio Del...  \n",
       "114       [u'Brad Pitt', u'Diane Kruger', u'Eli Roth']  \n",
       "264  [u'Bruce Willis', u'Madeleine Stowe', u'Brad P...  \n",
       "508  [u'Brad Pitt', u'Cate Blanchett', u'Tilda Swin...  \n",
       "577  [u'George Clooney', u'Brad Pitt', u'Julia Robe...  \n",
       "683   [u'Brad Pitt', u'Shia LaBeouf', u'Logan Lerman']  \n",
       "776     [u'Brad Pitt', u'Robin Wright', u'Jonah Hill']  \n",
       "779  [u'Brad Pitt', u'Tom Cruise', u'Antonio Bander...  \n",
       "807   [u'Brad Pitt', u'Casey Affleck', u'Sam Shepard']  \n",
       "826  [u'Robert De Niro', u'Kevin Bacon', u'Brad Pitt']  \n",
       "877  [u'Brad Pitt', u'Anthony Hopkins', u'Aidan Qui...  \n",
       "901  [u'Brad Pitt', u'Cate Blanchett', u'Gael Garc\\...  "
      ]
     },
     "execution_count": 106,
     "metadata": {},
     "output_type": "execute_result"
    }
   ],
   "source": [
    "film[film.Actors_list.str.contains('d pitt', case=False)]"
   ]
  },
  {
   "cell_type": "code",
   "execution_count": 96,
   "id": "001bddd9",
   "metadata": {},
   "outputs": [
    {
     "data": {
      "text/html": [
       "<div>\n",
       "<style scoped>\n",
       "    .dataframe tbody tr th:only-of-type {\n",
       "        vertical-align: middle;\n",
       "    }\n",
       "\n",
       "    .dataframe tbody tr th {\n",
       "        vertical-align: top;\n",
       "    }\n",
       "\n",
       "    .dataframe thead th {\n",
       "        text-align: right;\n",
       "    }\n",
       "</style>\n",
       "<table border=\"1\" class=\"dataframe\">\n",
       "  <thead>\n",
       "    <tr style=\"text-align: right;\">\n",
       "      <th></th>\n",
       "      <th>Star_rating</th>\n",
       "      <th>Title</th>\n",
       "      <th>Content_rating</th>\n",
       "      <th>Genre</th>\n",
       "      <th>Duration</th>\n",
       "      <th>Actors_list</th>\n",
       "    </tr>\n",
       "  </thead>\n",
       "  <tbody>\n",
       "    <tr>\n",
       "      <th>9</th>\n",
       "      <td>8.9</td>\n",
       "      <td>Fight Club</td>\n",
       "      <td>R</td>\n",
       "      <td>Drama</td>\n",
       "      <td>139</td>\n",
       "      <td>[u'Brad Pitt', u'Edward Norton', u'Helena Bonh...</td>\n",
       "    </tr>\n",
       "  </tbody>\n",
       "</table>\n",
       "</div>"
      ],
      "text/plain": [
       "   Star_rating       Title Content_rating  Genre  Duration  \\\n",
       "9          8.9  Fight Club              R  Drama       139   \n",
       "\n",
       "                                         Actors_list  \n",
       "9  [u'Brad Pitt', u'Edward Norton', u'Helena Bonh...  "
      ]
     },
     "execution_count": 96,
     "metadata": {},
     "output_type": "execute_result"
    }
   ],
   "source": [
    "film[film.Title.str.contains('Fight Club')]"
   ]
  },
  {
   "cell_type": "code",
   "execution_count": 97,
   "id": "d0eaf48d",
   "metadata": {},
   "outputs": [
    {
     "data": {
      "text/html": [
       "<div>\n",
       "<style scoped>\n",
       "    .dataframe tbody tr th:only-of-type {\n",
       "        vertical-align: middle;\n",
       "    }\n",
       "\n",
       "    .dataframe tbody tr th {\n",
       "        vertical-align: top;\n",
       "    }\n",
       "\n",
       "    .dataframe thead th {\n",
       "        text-align: right;\n",
       "    }\n",
       "</style>\n",
       "<table border=\"1\" class=\"dataframe\">\n",
       "  <thead>\n",
       "    <tr style=\"text-align: right;\">\n",
       "      <th></th>\n",
       "      <th>Star_rating</th>\n",
       "      <th>Title</th>\n",
       "      <th>Content_rating</th>\n",
       "      <th>Genre</th>\n",
       "      <th>Duration</th>\n",
       "      <th>Actors_list</th>\n",
       "    </tr>\n",
       "  </thead>\n",
       "  <tbody>\n",
       "    <tr>\n",
       "      <th>9</th>\n",
       "      <td>8.9</td>\n",
       "      <td>Fight Club</td>\n",
       "      <td>R</td>\n",
       "      <td>Drama</td>\n",
       "      <td>139</td>\n",
       "      <td>[u'Brad Pitt', u'Edward Norton', u'Helena Bonh...</td>\n",
       "    </tr>\n",
       "  </tbody>\n",
       "</table>\n",
       "</div>"
      ],
      "text/plain": [
       "   Star_rating       Title Content_rating  Genre  Duration  \\\n",
       "9          8.9  Fight Club              R  Drama       139   \n",
       "\n",
       "                                         Actors_list  \n",
       "9  [u'Brad Pitt', u'Edward Norton', u'Helena Bonh...  "
      ]
     },
     "execution_count": 97,
     "metadata": {},
     "output_type": "execute_result"
    }
   ],
   "source": [
    "film[film.Title.map(lambda x: 'Fight Club' in x)]"
   ]
  },
  {
   "cell_type": "code",
   "execution_count": 116,
   "id": "e35f0f4d",
   "metadata": {},
   "outputs": [
    {
     "data": {
      "text/plain": [
       "0      u'Tim Robbins', u'Morgan Freeman', u'Bob Gunton']\n",
       "1         u'Marlon Brando', u'Al Pacino', u'James Caan']\n",
       "2      u'Al Pacino', u'Robert De Niro', u'Robert Duva...\n",
       "3      u'Christian Bale', u'Heath Ledger', u'Aaron Ec...\n",
       "4      u'John Travolta', u'Uma Thurman', u'Samuel L. ...\n",
       "                             ...                        \n",
       "974    u'Dustin Hoffman', u'Jessica Lange', u'Teri Ga...\n",
       "975    u'Michael J. Fox', u'Christopher Lloyd', u'Mar...\n",
       "976    u'Russell Crowe', u'Paul Bettany', u'Billy Boyd']\n",
       "977    u'JoBeth Williams', u\"Heather O'Rourke\", u'Cra...\n",
       "978    u'Charlie Sheen', u'Michael Douglas', u'Tamara...\n",
       "Name: Actors_list, Length: 979, dtype: object"
      ]
     },
     "execution_count": 116,
     "metadata": {},
     "output_type": "execute_result"
    }
   ],
   "source": [
    "film.Actors_list.str.replace('[', '')"
   ]
  },
  {
   "cell_type": "code",
   "execution_count": 122,
   "id": "381feca6",
   "metadata": {},
   "outputs": [
    {
     "data": {
      "text/plain": [
       "0      [u'Tim Robbins', u'Morgan Freeman', u'Bob Gunton'\n",
       "1         [u'Marlon Brando', u'Al Pacino', u'James Caan'\n",
       "2      [u'Al Pacino', u'Robert De Niro', u'Robert Duv...\n",
       "3      [u'Christian Bale', u'Heath Ledger', u'Aaron E...\n",
       "4      [u'John Travolta', u'Uma Thurman', u'Samuel L....\n",
       "                             ...                        \n",
       "974    [u'Dustin Hoffman', u'Jessica Lange', u'Teri G...\n",
       "975    [u'Michael J. Fox', u'Christopher Lloyd', u'Ma...\n",
       "976    [u'Russell Crowe', u'Paul Bettany', u'Billy Boyd'\n",
       "977    [u'JoBeth Williams', u\"Heather O'Rourke\", u'Cr...\n",
       "978    [u'Charlie Sheen', u'Michael Douglas', u'Tamar...\n",
       "Name: Actors_list, Length: 979, dtype: object"
      ]
     },
     "execution_count": 122,
     "metadata": {},
     "output_type": "execute_result"
    }
   ],
   "source": [
    "film.Actors_list.str.replace(']', '')"
   ]
  },
  {
   "cell_type": "code",
   "execution_count": 138,
   "id": "af9538bc",
   "metadata": {},
   "outputs": [
    {
     "data": {
      "text/plain": [
       "0       u'Tim Robbins', u'Morgan Freeman', u'Bob Gunton'\n",
       "1          u'Marlon Brando', u'Al Pacino', u'James Caan'\n",
       "2      u'Al Pacino', u'Robert De Niro', u'Robert Duvall'\n",
       "3      u'Christian Bale', u'Heath Ledger', u'Aaron Ec...\n",
       "4      u'John Travolta', u'Uma Thurman', u'Samuel L. ...\n",
       "                             ...                        \n",
       "974    u'Dustin Hoffman', u'Jessica Lange', u'Teri Garr'\n",
       "975    u'Michael J. Fox', u'Christopher Lloyd', u'Mar...\n",
       "976     u'Russell Crowe', u'Paul Bettany', u'Billy Boyd'\n",
       "977    u'JoBeth Williams', u\"Heather O'Rourke\", u'Cra...\n",
       "978    u'Charlie Sheen', u'Michael Douglas', u'Tamara...\n",
       "Name: Actors_list, Length: 979, dtype: object"
      ]
     },
     "execution_count": 138,
     "metadata": {},
     "output_type": "execute_result"
    }
   ],
   "source": [
    "film.Actors_list.str.replace('[', '').str.replace(']', '')"
   ]
  },
  {
   "cell_type": "code",
   "execution_count": null,
   "id": "d2d2f65f",
   "metadata": {},
   "outputs": [],
   "source": []
  },
  {
   "cell_type": "code",
   "execution_count": null,
   "id": "95a11437",
   "metadata": {},
   "outputs": [],
   "source": []
  }
 ],
 "metadata": {
  "kernelspec": {
   "display_name": "Python 3 (ipykernel)",
   "language": "python",
   "name": "python3"
  },
  "language_info": {
   "codemirror_mode": {
    "name": "ipython",
    "version": 3
   },
   "file_extension": ".py",
   "mimetype": "text/x-python",
   "name": "python",
   "nbconvert_exporter": "python",
   "pygments_lexer": "ipython3",
   "version": "3.11.5"
  }
 },
 "nbformat": 4,
 "nbformat_minor": 5
}
