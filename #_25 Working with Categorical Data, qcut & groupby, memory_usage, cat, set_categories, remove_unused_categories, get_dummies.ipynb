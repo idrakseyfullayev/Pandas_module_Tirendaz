{
 "cells": [
  {
   "cell_type": "code",
   "execution_count": 16,
   "id": "354eb057",
   "metadata": {},
   "outputs": [],
   "source": [
    "import pandas as pd; import numpy as np"
   ]
  },
  {
   "cell_type": "code",
   "execution_count": 45,
   "id": "0cc521bb",
   "metadata": {},
   "outputs": [
    {
     "data": {
      "text/plain": [
       "array([10, 16, 65, 29, 90, 94, 30,  9, 74,  1, 41, 37, 17, 12, 55, 89, 63,\n",
       "       34, 73, 79, 50, 52, 55, 78, 70, 14, 26, 14, 93, 87, 31, 31, 90, 13,\n",
       "       66, 32, 58, 37, 28, 19, 94, 78, 23, 24, 95, 12, 29, 75, 89, 10, 16,\n",
       "       19, 81, 72, 89, 12, 18, 47,  8, 76, 29, 34, 85, 97, 89, 45,  6,  5,\n",
       "       72, 89, 89, 51, 55, 35, 16, 78, 89, 16,  7, 86, 23, 12, 13, 93, 97,\n",
       "       63, 58, 80, 43, 58, 98, 51, 46, 41, 90, 74, 38,  1, 19, 24,  4, 30,\n",
       "       17, 85, 83, 15, 52, 80, 18, 51, 54, 26, 49, 18, 33, 82, 81, 42, 91,\n",
       "       13, 31, 82, 18, 17,  1, 32, 74, 65, 39, 23, 97, 67, 68, 63, 96, 28,\n",
       "       83, 63, 78, 49, 94, 76, 87, 38, 12, 22, 34, 96, 44, 89, 97, 74, 41,\n",
       "       44, 91, 72,  9, 86, 73, 29, 31, 90, 26, 79, 82, 86, 63, 14, 42, 34,\n",
       "        5, 88, 95, 29, 40, 92, 10,  8, 23, 33,  4, 10, 53, 77, 69, 31, 71,\n",
       "       75, 31, 10,  3, 66, 14, 76, 53,  6, 94, 85, 49, 63, 43, 35, 41, 47,\n",
       "       33, 95, 87, 59, 70, 46, 19, 51, 45,  2, 64, 78, 19, 28, 84, 38, 72,\n",
       "       89, 16, 56,  7, 45, 10, 51,  1, 45, 69, 15,  5,  7, 43, 74, 45, 91,\n",
       "       39, 21, 10, 41, 17, 76, 40, 59, 82, 40, 50, 98, 12, 79, 80, 22, 70,\n",
       "       49, 61, 59, 14,  4, 32, 77, 88, 18, 30, 70, 51, 52, 21,  6, 71, 62,\n",
       "       17, 75,  5, 23, 20, 86, 74, 36, 36, 12, 42, 55, 83, 20, 42, 82, 62,\n",
       "       11, 37,  1, 31, 63, 86, 33, 82, 14, 68, 32, 33, 97, 39, 38, 80, 60,\n",
       "       21, 32, 90,  1, 97, 26, 64, 60,  3, 31, 18, 60, 71, 64, 87, 30, 72,\n",
       "       93, 20,  1,  8, 94, 43, 88, 58, 81,  3, 35, 59, 77, 11, 80, 33, 70,\n",
       "       92, 17,  6, 64, 84, 76, 43, 39, 58,  8, 89, 97, 39, 49, 28, 65, 50,\n",
       "       91, 10, 28, 53, 91, 58, 49, 24, 26, 20, 49, 98, 77, 76, 94, 31, 32,\n",
       "       29, 80, 85, 22, 85, 47, 47, 46, 95, 85, 21, 50, 34,  3, 98, 98, 99,\n",
       "       13, 83, 78, 67, 38, 32, 57, 82, 88, 82, 56, 98, 75, 16, 80, 81, 39,\n",
       "       56, 50, 91,  3, 71, 98,  6, 73, 30, 20, 26, 16, 55, 97, 83, 57, 42,\n",
       "       91, 27, 75,  9, 93, 33, 72, 88, 69, 87, 15, 36, 85, 38, 63, 68, 15,\n",
       "       38, 58, 79, 35, 52, 51, 51, 86, 15, 53, 31, 82, 11, 62, 24,  2, 29,\n",
       "       59, 11, 12,  2, 83, 35, 12, 47, 75, 37,  7, 64, 61,  4, 51, 60, 35,\n",
       "       22, 17, 19, 62, 55, 61, 22, 88, 84, 72, 17, 68, 39, 28, 97, 88, 99,\n",
       "       90, 17, 83, 20, 97, 51, 89,  9, 87, 76, 73, 89, 27, 81, 29, 27, 95,\n",
       "        2, 92,  3, 89, 61, 52, 14, 78, 26, 62, 41,  7, 38, 82, 71, 39, 95,\n",
       "        3, 37, 75, 57, 26, 83, 97, 59, 17, 87, 41, 96, 39,  5, 24, 59, 40,\n",
       "        1, 39, 79, 74, 27, 82,  6,  2, 13, 87,  1, 72,  1, 59, 27, 20, 83,\n",
       "       72,  6, 30,  2, 62, 29,  7, 86, 88, 92,  4,  7, 99, 92, 55,  9, 73,\n",
       "       11, 58, 85,  5, 88, 66,  8, 73, 44, 49, 89, 43, 22, 88, 19, 20, 79,\n",
       "       33, 24, 88, 48, 57, 48, 35, 97, 18, 97, 97, 19, 69,  3, 16, 42, 72,\n",
       "       98, 52, 70, 37, 75, 29, 82, 56, 73,  7, 17, 21,  4, 49, 77, 77, 59,\n",
       "       66, 83, 24, 25, 73, 55, 81, 22, 55, 20, 96, 55,  4, 99, 26, 42, 15,\n",
       "       74, 72, 39, 50, 23, 98, 48, 32, 47, 99,  6, 15, 77, 17, 93, 21, 83,\n",
       "       10, 57, 38, 99,  7, 31, 68, 72, 71, 54, 57, 14, 11, 61, 34, 43,  1,\n",
       "       89, 55, 57, 37, 88, 67,  6, 56, 18,  2, 74, 52, 78, 14, 98,  8, 27,\n",
       "       11, 39, 10, 99, 39, 55, 59, 34, 23, 91, 73, 55, 68, 41, 93, 48, 48,\n",
       "        3, 24, 32, 66, 57, 37, 88,  5, 79, 60, 87, 31, 45,  5, 88, 38, 67,\n",
       "       60, 36, 67, 58, 59,  1, 53,  8, 30, 43, 73, 81,  8, 33, 85, 76, 13,\n",
       "       81, 97, 74, 66, 38, 73, 40, 31, 40, 70, 40, 97, 58, 99, 25,  8, 84,\n",
       "       42, 20, 25, 33, 16, 87, 34, 67, 74, 15, 38, 25, 84, 20, 64, 80, 36,\n",
       "       70, 96, 90, 58, 36, 95, 67, 19,  5, 76, 97, 64, 13, 91, 59, 75, 16,\n",
       "       32, 63, 43, 39, 47, 19, 40,  4, 34, 56, 47, 17, 56, 74, 37, 33, 42,\n",
       "        4, 13, 97, 50, 94, 58, 49, 93, 39, 67, 61, 61, 98, 65, 67,  9, 78,\n",
       "       55, 22, 66, 85, 57, 32, 40, 43, 34, 15, 77, 25, 86, 82, 49, 10, 29,\n",
       "       35, 77, 74, 36, 86, 72, 10, 30, 13,  6, 73, 57, 38, 38, 42, 74, 37,\n",
       "        7, 22, 50, 66, 54,  7, 60,  3, 46, 98, 94, 49, 47, 89, 83, 37,  3,\n",
       "       74, 36, 82, 37, 29, 48, 20,  3, 65, 96, 68, 75, 36, 54,  8, 73, 58,\n",
       "       93, 63, 38, 60, 45, 55, 24,  7, 11, 70, 22, 30, 58, 17, 13, 91, 20,\n",
       "       49, 20, 69, 10, 48, 14, 22, 44, 82, 95, 68, 76, 43, 53, 89, 92, 43,\n",
       "       69,  5, 87, 52, 31, 54, 32, 79, 72,  2, 15, 68, 72, 46, 60, 51, 55,\n",
       "       38,  4, 66, 21, 11, 63, 55, 20,  3, 20, 96, 70, 74, 96,  2, 94, 15,\n",
       "       94, 15, 97,  9, 89, 63,  5, 85, 10, 76, 78, 31, 51, 47, 80, 27, 92,\n",
       "       71, 15,  8, 56, 13, 84, 23, 88, 24, 48, 71, 94,  8, 60])"
      ]
     },
     "execution_count": 45,
     "metadata": {},
     "output_type": "execute_result"
    }
   ],
   "source": [
    "np.random.seed(10)\n",
    "data = np.random.randint(1,100, 1000)\n",
    "data"
   ]
  },
  {
   "cell_type": "code",
   "execution_count": 46,
   "id": "692fa375",
   "metadata": {},
   "outputs": [
    {
     "data": {
      "text/plain": [
       "[(0.902, 25.5], (0.902, 25.5], (50.0, 74.5], (25.5, 50.0], (74.5, 99.0], ..., (25.5, 50.0], (50.0, 74.5], (74.5, 99.0], (0.902, 25.5], (50.0, 74.5]]\n",
       "Length: 1000\n",
       "Categories (4, interval[float64, right]): [(0.902, 25.5] < (25.5, 50.0] < (50.0, 74.5] < (74.5, 99.0]]"
      ]
     },
     "execution_count": 46,
     "metadata": {},
     "output_type": "execute_result"
    }
   ],
   "source": [
    "interval = pd.cut(data, 4, precision=3)\n",
    "interval"
   ]
  },
  {
   "cell_type": "code",
   "execution_count": 47,
   "id": "a9447bc2",
   "metadata": {},
   "outputs": [
    {
     "data": {
      "text/plain": [
       "pandas.core.arrays.categorical.Categorical"
      ]
     },
     "execution_count": 47,
     "metadata": {},
     "output_type": "execute_result"
    }
   ],
   "source": [
    "type(interval)"
   ]
  },
  {
   "cell_type": "code",
   "execution_count": 48,
   "id": "a986d91b",
   "metadata": {},
   "outputs": [
    {
     "data": {
      "text/plain": [
       "['Q1', 'Q1', 'Q3', 'Q2', 'Q4', ..., 'Q2', 'Q3', 'Q4', 'Q1', 'Q3']\n",
       "Length: 1000\n",
       "Categories (4, object): ['Q1' < 'Q2' < 'Q3' < 'Q4']"
      ]
     },
     "execution_count": 48,
     "metadata": {},
     "output_type": "execute_result"
    }
   ],
   "source": [
    "interval = pd.qcut(data, 4, labels=['Q1', \"Q2\", \"Q3\", \"Q4\"])\n",
    "interval"
   ]
  },
  {
   "cell_type": "code",
   "execution_count": 49,
   "id": "1eedd22b",
   "metadata": {},
   "outputs": [
    {
     "data": {
      "text/plain": [
       "0      Q1\n",
       "1      Q1\n",
       "2      Q3\n",
       "3      Q2\n",
       "4      Q4\n",
       "       ..\n",
       "995    Q2\n",
       "996    Q3\n",
       "997    Q4\n",
       "998    Q1\n",
       "999    Q3\n",
       "Name: quarter, Length: 1000, dtype: category\n",
       "Categories (4, object): ['Q1' < 'Q2' < 'Q3' < 'Q4']"
      ]
     },
     "execution_count": 49,
     "metadata": {},
     "output_type": "execute_result"
    }
   ],
   "source": [
    "interval = pd.Series(interval, name='quarter')\n",
    "interval"
   ]
  },
  {
   "cell_type": "code",
   "execution_count": 51,
   "id": "8f590857",
   "metadata": {},
   "outputs": [
    {
     "data": {
      "text/plain": [
       "0      10\n",
       "1      16\n",
       "2      65\n",
       "3      29\n",
       "4      90\n",
       "       ..\n",
       "995    48\n",
       "996    71\n",
       "997    94\n",
       "998     8\n",
       "999    60\n",
       "Length: 1000, dtype: int32"
      ]
     },
     "execution_count": 51,
     "metadata": {},
     "output_type": "execute_result"
    }
   ],
   "source": [
    "pd.Series(data)"
   ]
  },
  {
   "cell_type": "code",
   "execution_count": 36,
   "id": "532c3824",
   "metadata": {},
   "outputs": [
    {
     "data": {
      "text/html": [
       "<div>\n",
       "<style scoped>\n",
       "    .dataframe tbody tr th:only-of-type {\n",
       "        vertical-align: middle;\n",
       "    }\n",
       "\n",
       "    .dataframe tbody tr th {\n",
       "        vertical-align: top;\n",
       "    }\n",
       "\n",
       "    .dataframe thead th {\n",
       "        text-align: right;\n",
       "    }\n",
       "</style>\n",
       "<table border=\"1\" class=\"dataframe\">\n",
       "  <thead>\n",
       "    <tr style=\"text-align: right;\">\n",
       "      <th></th>\n",
       "      <th>count</th>\n",
       "      <th>min</th>\n",
       "      <th>max</th>\n",
       "    </tr>\n",
       "    <tr>\n",
       "      <th>quarter</th>\n",
       "      <th></th>\n",
       "      <th></th>\n",
       "      <th></th>\n",
       "    </tr>\n",
       "  </thead>\n",
       "  <tbody>\n",
       "    <tr>\n",
       "      <th>Q1</th>\n",
       "      <td>256</td>\n",
       "      <td>1</td>\n",
       "      <td>24</td>\n",
       "    </tr>\n",
       "    <tr>\n",
       "      <th>Q2</th>\n",
       "      <td>250</td>\n",
       "      <td>25</td>\n",
       "      <td>50</td>\n",
       "    </tr>\n",
       "    <tr>\n",
       "      <th>Q3</th>\n",
       "      <td>244</td>\n",
       "      <td>51</td>\n",
       "      <td>75</td>\n",
       "    </tr>\n",
       "    <tr>\n",
       "      <th>Q4</th>\n",
       "      <td>250</td>\n",
       "      <td>76</td>\n",
       "      <td>99</td>\n",
       "    </tr>\n",
       "  </tbody>\n",
       "</table>\n",
       "</div>"
      ],
      "text/plain": [
       "         count  min  max\n",
       "quarter                 \n",
       "Q1         256    1   24\n",
       "Q2         250   25   50\n",
       "Q3         244   51   75\n",
       "Q4         250   76   99"
      ]
     },
     "execution_count": 36,
     "metadata": {},
     "output_type": "execute_result"
    }
   ],
   "source": [
    "pd.Series(data).groupby(interval).agg(['count', 'min', 'max'])"
   ]
  },
  {
   "cell_type": "code",
   "execution_count": 38,
   "id": "b448cf14",
   "metadata": {},
   "outputs": [
    {
     "data": {
      "text/html": [
       "<div>\n",
       "<style scoped>\n",
       "    .dataframe tbody tr th:only-of-type {\n",
       "        vertical-align: middle;\n",
       "    }\n",
       "\n",
       "    .dataframe tbody tr th {\n",
       "        vertical-align: top;\n",
       "    }\n",
       "\n",
       "    .dataframe thead th {\n",
       "        text-align: right;\n",
       "    }\n",
       "</style>\n",
       "<table border=\"1\" class=\"dataframe\">\n",
       "  <thead>\n",
       "    <tr style=\"text-align: right;\">\n",
       "      <th></th>\n",
       "      <th>quarter</th>\n",
       "      <th>count</th>\n",
       "      <th>min</th>\n",
       "      <th>max</th>\n",
       "    </tr>\n",
       "  </thead>\n",
       "  <tbody>\n",
       "    <tr>\n",
       "      <th>0</th>\n",
       "      <td>Q1</td>\n",
       "      <td>256</td>\n",
       "      <td>1</td>\n",
       "      <td>24</td>\n",
       "    </tr>\n",
       "    <tr>\n",
       "      <th>1</th>\n",
       "      <td>Q2</td>\n",
       "      <td>250</td>\n",
       "      <td>25</td>\n",
       "      <td>50</td>\n",
       "    </tr>\n",
       "    <tr>\n",
       "      <th>2</th>\n",
       "      <td>Q3</td>\n",
       "      <td>244</td>\n",
       "      <td>51</td>\n",
       "      <td>75</td>\n",
       "    </tr>\n",
       "    <tr>\n",
       "      <th>3</th>\n",
       "      <td>Q4</td>\n",
       "      <td>250</td>\n",
       "      <td>76</td>\n",
       "      <td>99</td>\n",
       "    </tr>\n",
       "  </tbody>\n",
       "</table>\n",
       "</div>"
      ],
      "text/plain": [
       "  quarter  count  min  max\n",
       "0      Q1    256    1   24\n",
       "1      Q2    250   25   50\n",
       "2      Q3    244   51   75\n",
       "3      Q4    250   76   99"
      ]
     },
     "execution_count": 38,
     "metadata": {},
     "output_type": "execute_result"
    }
   ],
   "source": [
    "pd.Series(data).groupby(interval).agg(['count', 'min', 'max']).reset_index()"
   ]
  },
  {
   "cell_type": "code",
   "execution_count": 69,
   "id": "ad30f986",
   "metadata": {},
   "outputs": [
    {
     "data": {
      "text/plain": [
       "array([10, 16, 65, 29, 90, 94, 30,  9, 74,  1, 41, 37, 17, 12, 55, 89, 63,\n",
       "       34, 73, 79, 50, 52, 55, 78, 70, 14, 26, 14, 93, 87, 31, 31, 90, 13,\n",
       "       66, 32, 58, 37, 28, 19, 94, 78, 23, 24, 95, 12, 29, 75, 89, 10, 16,\n",
       "       19, 81, 72, 89, 12, 18, 47,  8, 76, 29, 34, 85, 97, 89, 45,  6,  5,\n",
       "       72, 89, 89, 51, 55, 35, 16, 78, 89, 16,  7, 86, 23, 12, 13, 93, 97,\n",
       "       63, 58, 80, 43, 58, 98, 51, 46, 41, 90, 74, 38,  1, 19, 24,  4, 30,\n",
       "       17, 85, 83, 15, 52, 80, 18, 51, 54, 26, 49, 18, 33, 82, 81, 42, 91,\n",
       "       13, 31, 82, 18, 17,  1, 32, 74, 65, 39, 23, 97, 67, 68, 63, 96, 28,\n",
       "       83, 63, 78, 49, 94, 76, 87, 38, 12, 22, 34, 96, 44, 89, 97, 74, 41,\n",
       "       44, 91, 72,  9, 86, 73, 29, 31, 90, 26, 79, 82, 86, 63, 14, 42, 34,\n",
       "        5, 88, 95, 29, 40, 92, 10,  8, 23, 33,  4, 10, 53, 77, 69, 31, 71,\n",
       "       75, 31, 10,  3, 66, 14, 76, 53,  6, 94, 85, 49, 63, 43, 35, 41, 47,\n",
       "       33, 95, 87, 59, 70, 46, 19, 51, 45,  2, 64, 78, 19, 28, 84, 38, 72,\n",
       "       89, 16, 56,  7, 45, 10, 51,  1, 45, 69, 15,  5,  7, 43, 74, 45, 91,\n",
       "       39, 21, 10, 41, 17, 76, 40, 59, 82, 40, 50, 98, 12, 79, 80, 22, 70,\n",
       "       49, 61, 59, 14,  4, 32, 77, 88, 18, 30, 70, 51, 52, 21,  6, 71, 62,\n",
       "       17, 75,  5, 23, 20, 86, 74, 36, 36, 12, 42, 55, 83, 20, 42, 82, 62,\n",
       "       11, 37,  1, 31, 63, 86, 33, 82, 14, 68, 32, 33, 97, 39, 38, 80, 60,\n",
       "       21, 32, 90,  1, 97, 26, 64, 60,  3, 31, 18, 60, 71, 64, 87, 30, 72,\n",
       "       93, 20,  1,  8, 94, 43, 88, 58, 81,  3, 35, 59, 77, 11, 80, 33, 70,\n",
       "       92, 17,  6, 64, 84, 76, 43, 39, 58,  8, 89, 97, 39, 49, 28, 65, 50,\n",
       "       91, 10, 28, 53, 91, 58, 49, 24, 26, 20, 49, 98, 77, 76, 94, 31, 32,\n",
       "       29, 80, 85, 22, 85, 47, 47, 46, 95, 85, 21, 50, 34,  3, 98, 98, 99,\n",
       "       13, 83, 78, 67, 38, 32, 57, 82, 88, 82, 56, 98, 75, 16, 80, 81, 39,\n",
       "       56, 50, 91,  3, 71, 98,  6, 73, 30, 20, 26, 16, 55, 97, 83, 57, 42,\n",
       "       91, 27, 75,  9, 93, 33, 72, 88, 69, 87, 15, 36, 85, 38, 63, 68, 15,\n",
       "       38, 58, 79, 35, 52, 51, 51, 86, 15, 53, 31, 82, 11, 62, 24,  2, 29,\n",
       "       59, 11, 12,  2, 83, 35, 12, 47, 75, 37,  7, 64, 61,  4, 51, 60, 35,\n",
       "       22, 17, 19, 62, 55, 61, 22, 88, 84, 72, 17, 68, 39, 28, 97, 88, 99,\n",
       "       90, 17, 83, 20, 97, 51, 89,  9, 87, 76, 73, 89, 27, 81, 29, 27, 95,\n",
       "        2, 92,  3, 89, 61, 52, 14, 78, 26, 62, 41,  7, 38, 82, 71, 39, 95,\n",
       "        3, 37, 75, 57, 26, 83, 97, 59, 17, 87, 41, 96, 39,  5, 24, 59, 40,\n",
       "        1, 39, 79, 74, 27, 82,  6,  2, 13, 87,  1, 72,  1, 59, 27, 20, 83,\n",
       "       72,  6, 30,  2, 62, 29,  7, 86, 88, 92,  4,  7, 99, 92, 55,  9, 73,\n",
       "       11, 58, 85,  5, 88, 66,  8, 73, 44, 49, 89, 43, 22, 88, 19, 20, 79,\n",
       "       33, 24, 88, 48, 57, 48, 35, 97, 18, 97, 97, 19, 69,  3, 16, 42, 72,\n",
       "       98, 52, 70, 37, 75, 29, 82, 56, 73,  7, 17, 21,  4, 49, 77, 77, 59,\n",
       "       66, 83, 24, 25, 73, 55, 81, 22, 55, 20, 96, 55,  4, 99, 26, 42, 15,\n",
       "       74, 72, 39, 50, 23, 98, 48, 32, 47, 99,  6, 15, 77, 17, 93, 21, 83,\n",
       "       10, 57, 38, 99,  7, 31, 68, 72, 71, 54, 57, 14, 11, 61, 34, 43,  1,\n",
       "       89, 55, 57, 37, 88, 67,  6, 56, 18,  2, 74, 52, 78, 14, 98,  8, 27,\n",
       "       11, 39, 10, 99, 39, 55, 59, 34, 23, 91, 73, 55, 68, 41, 93, 48, 48,\n",
       "        3, 24, 32, 66, 57, 37, 88,  5, 79, 60, 87, 31, 45,  5, 88, 38, 67,\n",
       "       60, 36, 67, 58, 59,  1, 53,  8, 30, 43, 73, 81,  8, 33, 85, 76, 13,\n",
       "       81, 97, 74, 66, 38, 73, 40, 31, 40, 70, 40, 97, 58, 99, 25,  8, 84,\n",
       "       42, 20, 25, 33, 16, 87, 34, 67, 74, 15, 38, 25, 84, 20, 64, 80, 36,\n",
       "       70, 96, 90, 58, 36, 95, 67, 19,  5, 76, 97, 64, 13, 91, 59, 75, 16,\n",
       "       32, 63, 43, 39, 47, 19, 40,  4, 34, 56, 47, 17, 56, 74, 37, 33, 42,\n",
       "        4, 13, 97, 50, 94, 58, 49, 93, 39, 67, 61, 61, 98, 65, 67,  9, 78,\n",
       "       55, 22, 66, 85, 57, 32, 40, 43, 34, 15, 77, 25, 86, 82, 49, 10, 29,\n",
       "       35, 77, 74, 36, 86, 72, 10, 30, 13,  6, 73, 57, 38, 38, 42, 74, 37,\n",
       "        7, 22, 50, 66, 54,  7, 60,  3, 46, 98, 94, 49, 47, 89, 83, 37,  3,\n",
       "       74, 36, 82, 37, 29, 48, 20,  3, 65, 96, 68, 75, 36, 54,  8, 73, 58,\n",
       "       93, 63, 38, 60, 45, 55, 24,  7, 11, 70, 22, 30, 58, 17, 13, 91, 20,\n",
       "       49, 20, 69, 10, 48, 14, 22, 44, 82, 95, 68, 76, 43, 53, 89, 92, 43,\n",
       "       69,  5, 87, 52, 31, 54, 32, 79, 72,  2, 15, 68, 72, 46, 60, 51, 55,\n",
       "       38,  4, 66, 21, 11, 63, 55, 20,  3, 20, 96, 70, 74, 96,  2, 94, 15,\n",
       "       94, 15, 97,  9, 89, 63,  5, 85, 10, 76, 78, 31, 51, 47, 80, 27, 92,\n",
       "       71, 15,  8, 56, 13, 84, 23, 88, 24, 48, 71, 94,  8, 60])"
      ]
     },
     "execution_count": 69,
     "metadata": {},
     "output_type": "execute_result"
    }
   ],
   "source": [
    "data"
   ]
  },
  {
   "cell_type": "code",
   "execution_count": 70,
   "id": "6dcd55c1",
   "metadata": {},
   "outputs": [
    {
     "data": {
      "text/html": [
       "<div>\n",
       "<style scoped>\n",
       "    .dataframe tbody tr th:only-of-type {\n",
       "        vertical-align: middle;\n",
       "    }\n",
       "\n",
       "    .dataframe tbody tr th {\n",
       "        vertical-align: top;\n",
       "    }\n",
       "\n",
       "    .dataframe thead th {\n",
       "        text-align: right;\n",
       "    }\n",
       "</style>\n",
       "<table border=\"1\" class=\"dataframe\">\n",
       "  <thead>\n",
       "    <tr style=\"text-align: right;\">\n",
       "      <th></th>\n",
       "      <th>score</th>\n",
       "    </tr>\n",
       "  </thead>\n",
       "  <tbody>\n",
       "    <tr>\n",
       "      <th>0</th>\n",
       "      <td>10</td>\n",
       "    </tr>\n",
       "    <tr>\n",
       "      <th>1</th>\n",
       "      <td>16</td>\n",
       "    </tr>\n",
       "    <tr>\n",
       "      <th>2</th>\n",
       "      <td>65</td>\n",
       "    </tr>\n",
       "    <tr>\n",
       "      <th>3</th>\n",
       "      <td>29</td>\n",
       "    </tr>\n",
       "    <tr>\n",
       "      <th>4</th>\n",
       "      <td>90</td>\n",
       "    </tr>\n",
       "    <tr>\n",
       "      <th>...</th>\n",
       "      <td>...</td>\n",
       "    </tr>\n",
       "    <tr>\n",
       "      <th>995</th>\n",
       "      <td>48</td>\n",
       "    </tr>\n",
       "    <tr>\n",
       "      <th>996</th>\n",
       "      <td>71</td>\n",
       "    </tr>\n",
       "    <tr>\n",
       "      <th>997</th>\n",
       "      <td>94</td>\n",
       "    </tr>\n",
       "    <tr>\n",
       "      <th>998</th>\n",
       "      <td>8</td>\n",
       "    </tr>\n",
       "    <tr>\n",
       "      <th>999</th>\n",
       "      <td>60</td>\n",
       "    </tr>\n",
       "  </tbody>\n",
       "</table>\n",
       "<p>1000 rows × 1 columns</p>\n",
       "</div>"
      ],
      "text/plain": [
       "     score\n",
       "0       10\n",
       "1       16\n",
       "2       65\n",
       "3       29\n",
       "4       90\n",
       "..     ...\n",
       "995     48\n",
       "996     71\n",
       "997     94\n",
       "998      8\n",
       "999     60\n",
       "\n",
       "[1000 rows x 1 columns]"
      ]
     },
     "execution_count": 70,
     "metadata": {},
     "output_type": "execute_result"
    }
   ],
   "source": [
    "df = pd.DataFrame({'score': data})\n",
    "df"
   ]
  },
  {
   "cell_type": "code",
   "execution_count": 72,
   "id": "b758bd6b",
   "metadata": {},
   "outputs": [],
   "source": [
    "df['quar'] = pd.qcut(x=df['score'], q=4, labels=['Q1', \"Q2\", \"Q3\", \"Q4\"])"
   ]
  },
  {
   "cell_type": "code",
   "execution_count": 73,
   "id": "b7552362",
   "metadata": {},
   "outputs": [
    {
     "data": {
      "text/html": [
       "<div>\n",
       "<style scoped>\n",
       "    .dataframe tbody tr th:only-of-type {\n",
       "        vertical-align: middle;\n",
       "    }\n",
       "\n",
       "    .dataframe tbody tr th {\n",
       "        vertical-align: top;\n",
       "    }\n",
       "\n",
       "    .dataframe thead th {\n",
       "        text-align: right;\n",
       "    }\n",
       "</style>\n",
       "<table border=\"1\" class=\"dataframe\">\n",
       "  <thead>\n",
       "    <tr style=\"text-align: right;\">\n",
       "      <th></th>\n",
       "      <th>score</th>\n",
       "      <th>quar</th>\n",
       "    </tr>\n",
       "  </thead>\n",
       "  <tbody>\n",
       "    <tr>\n",
       "      <th>0</th>\n",
       "      <td>10</td>\n",
       "      <td>Q1</td>\n",
       "    </tr>\n",
       "    <tr>\n",
       "      <th>1</th>\n",
       "      <td>16</td>\n",
       "      <td>Q1</td>\n",
       "    </tr>\n",
       "    <tr>\n",
       "      <th>2</th>\n",
       "      <td>65</td>\n",
       "      <td>Q3</td>\n",
       "    </tr>\n",
       "    <tr>\n",
       "      <th>3</th>\n",
       "      <td>29</td>\n",
       "      <td>Q2</td>\n",
       "    </tr>\n",
       "    <tr>\n",
       "      <th>4</th>\n",
       "      <td>90</td>\n",
       "      <td>Q4</td>\n",
       "    </tr>\n",
       "    <tr>\n",
       "      <th>...</th>\n",
       "      <td>...</td>\n",
       "      <td>...</td>\n",
       "    </tr>\n",
       "    <tr>\n",
       "      <th>995</th>\n",
       "      <td>48</td>\n",
       "      <td>Q2</td>\n",
       "    </tr>\n",
       "    <tr>\n",
       "      <th>996</th>\n",
       "      <td>71</td>\n",
       "      <td>Q3</td>\n",
       "    </tr>\n",
       "    <tr>\n",
       "      <th>997</th>\n",
       "      <td>94</td>\n",
       "      <td>Q4</td>\n",
       "    </tr>\n",
       "    <tr>\n",
       "      <th>998</th>\n",
       "      <td>8</td>\n",
       "      <td>Q1</td>\n",
       "    </tr>\n",
       "    <tr>\n",
       "      <th>999</th>\n",
       "      <td>60</td>\n",
       "      <td>Q3</td>\n",
       "    </tr>\n",
       "  </tbody>\n",
       "</table>\n",
       "<p>1000 rows × 2 columns</p>\n",
       "</div>"
      ],
      "text/plain": [
       "     score quar\n",
       "0       10   Q1\n",
       "1       16   Q1\n",
       "2       65   Q3\n",
       "3       29   Q2\n",
       "4       90   Q4\n",
       "..     ...  ...\n",
       "995     48   Q2\n",
       "996     71   Q3\n",
       "997     94   Q4\n",
       "998      8   Q1\n",
       "999     60   Q3\n",
       "\n",
       "[1000 rows x 2 columns]"
      ]
     },
     "execution_count": 73,
     "metadata": {},
     "output_type": "execute_result"
    }
   ],
   "source": [
    "df"
   ]
  },
  {
   "cell_type": "code",
   "execution_count": 80,
   "id": "e89bef73",
   "metadata": {},
   "outputs": [
    {
     "data": {
      "text/html": [
       "<div>\n",
       "<style scoped>\n",
       "    .dataframe tbody tr th:only-of-type {\n",
       "        vertical-align: middle;\n",
       "    }\n",
       "\n",
       "    .dataframe tbody tr th {\n",
       "        vertical-align: top;\n",
       "    }\n",
       "\n",
       "    .dataframe thead tr th {\n",
       "        text-align: left;\n",
       "    }\n",
       "</style>\n",
       "<table border=\"1\" class=\"dataframe\">\n",
       "  <thead>\n",
       "    <tr>\n",
       "      <th></th>\n",
       "      <th>quar</th>\n",
       "      <th colspan=\"4\" halign=\"left\">score</th>\n",
       "    </tr>\n",
       "    <tr>\n",
       "      <th></th>\n",
       "      <th></th>\n",
       "      <th>count</th>\n",
       "      <th>sum</th>\n",
       "      <th>max</th>\n",
       "      <th>min</th>\n",
       "    </tr>\n",
       "  </thead>\n",
       "  <tbody>\n",
       "    <tr>\n",
       "      <th>0</th>\n",
       "      <td>Q1</td>\n",
       "      <td>256</td>\n",
       "      <td>3157</td>\n",
       "      <td>24</td>\n",
       "      <td>1</td>\n",
       "    </tr>\n",
       "    <tr>\n",
       "      <th>1</th>\n",
       "      <td>Q2</td>\n",
       "      <td>250</td>\n",
       "      <td>9363</td>\n",
       "      <td>50</td>\n",
       "      <td>25</td>\n",
       "    </tr>\n",
       "    <tr>\n",
       "      <th>2</th>\n",
       "      <td>Q3</td>\n",
       "      <td>244</td>\n",
       "      <td>15471</td>\n",
       "      <td>75</td>\n",
       "      <td>51</td>\n",
       "    </tr>\n",
       "    <tr>\n",
       "      <th>3</th>\n",
       "      <td>Q4</td>\n",
       "      <td>250</td>\n",
       "      <td>21928</td>\n",
       "      <td>99</td>\n",
       "      <td>76</td>\n",
       "    </tr>\n",
       "  </tbody>\n",
       "</table>\n",
       "</div>"
      ],
      "text/plain": [
       "  quar score               \n",
       "       count    sum max min\n",
       "0   Q1   256   3157  24   1\n",
       "1   Q2   250   9363  50  25\n",
       "2   Q3   244  15471  75  51\n",
       "3   Q4   250  21928  99  76"
      ]
     },
     "execution_count": 80,
     "metadata": {},
     "output_type": "execute_result"
    }
   ],
   "source": [
    "df.groupby('quar').agg(['count', 'sum', 'max', 'min']).reset_index()"
   ]
  },
  {
   "cell_type": "code",
   "execution_count": 82,
   "id": "81476cff",
   "metadata": {},
   "outputs": [
    {
     "data": {
      "text/plain": [
       "0         -1.085631\n",
       "1          0.997345\n",
       "2          0.282978\n",
       "3         -1.506295\n",
       "4         -0.578600\n",
       "             ...   \n",
       "9999995    0.657336\n",
       "9999996    0.823554\n",
       "9999997   -0.528144\n",
       "9999998    0.084826\n",
       "9999999    0.922815\n",
       "Length: 10000000, dtype: float64"
      ]
     },
     "execution_count": 82,
     "metadata": {},
     "output_type": "execute_result"
    }
   ],
   "source": [
    "N=10000000\n",
    "np.random.seed(123)\n",
    "num=pd.Series(np.random.randn(N))\n",
    "num"
   ]
  },
  {
   "cell_type": "code",
   "execution_count": 88,
   "id": "247293a2",
   "metadata": {},
   "outputs": [
    {
     "data": {
      "text/plain": [
       "0          a\n",
       "1          b\n",
       "2          c\n",
       "3          d\n",
       "4          a\n",
       "          ..\n",
       "9999995    d\n",
       "9999996    a\n",
       "9999997    b\n",
       "9999998    c\n",
       "9999999    d\n",
       "Length: 10000000, dtype: object"
      ]
     },
     "execution_count": 88,
     "metadata": {},
     "output_type": "execute_result"
    }
   ],
   "source": [
    "label = pd.Series(['a', 'b', 'c', 'd']*(N//4))\n",
    "label"
   ]
  },
  {
   "cell_type": "code",
   "execution_count": 90,
   "id": "44900897",
   "metadata": {},
   "outputs": [
    {
     "data": {
      "text/plain": [
       "0          a\n",
       "1          b\n",
       "2          c\n",
       "3          d\n",
       "4          a\n",
       "          ..\n",
       "9999995    d\n",
       "9999996    a\n",
       "9999997    b\n",
       "9999998    c\n",
       "9999999    d\n",
       "Length: 10000000, dtype: category\n",
       "Categories (4, object): ['a', 'b', 'c', 'd']"
      ]
     },
     "execution_count": 90,
     "metadata": {},
     "output_type": "execute_result"
    }
   ],
   "source": [
    "cat=label.astype(\"category\")\n",
    "cat"
   ]
  },
  {
   "cell_type": "code",
   "execution_count": 91,
   "id": "8c982718",
   "metadata": {},
   "outputs": [
    {
     "data": {
      "text/plain": [
       "80000132"
      ]
     },
     "execution_count": 91,
     "metadata": {},
     "output_type": "execute_result"
    }
   ],
   "source": [
    "label.memory_usage()"
   ]
  },
  {
   "cell_type": "code",
   "execution_count": 92,
   "id": "fbde18b7",
   "metadata": {},
   "outputs": [
    {
     "data": {
      "text/plain": [
       "10000336"
      ]
     },
     "execution_count": 92,
     "metadata": {},
     "output_type": "execute_result"
    }
   ],
   "source": [
    "cat.memory_usage()"
   ]
  },
  {
   "cell_type": "code",
   "execution_count": 94,
   "id": "539db4a0",
   "metadata": {},
   "outputs": [
    {
     "data": {
      "text/plain": [
       "7.999744408587872"
      ]
     },
     "execution_count": 94,
     "metadata": {},
     "output_type": "execute_result"
    }
   ],
   "source": [
    "coefficient = label.memory_usage() / cat.memory_usage()\n",
    "coefficient"
   ]
  },
  {
   "cell_type": "code",
   "execution_count": 133,
   "id": "6266348d",
   "metadata": {},
   "outputs": [
    {
     "data": {
      "text/plain": [
       "0    a\n",
       "1    b\n",
       "2    c\n",
       "3    d\n",
       "4    a\n",
       "5    b\n",
       "6    c\n",
       "7    d\n",
       "dtype: object"
      ]
     },
     "execution_count": 133,
     "metadata": {},
     "output_type": "execute_result"
    }
   ],
   "source": [
    "ser=pd.Series([\"a\",\"b\",\"c\",\"d\"]*2)\n",
    "ser"
   ]
  },
  {
   "cell_type": "code",
   "execution_count": 134,
   "id": "33ef8484",
   "metadata": {},
   "outputs": [
    {
     "data": {
      "text/plain": [
       "['a', 'b', 'c', 'd', 'a', 'b', 'c', 'd']\n",
       "Categories (4, object): ['a', 'b', 'c', 'd']"
      ]
     },
     "execution_count": 134,
     "metadata": {},
     "output_type": "execute_result"
    }
   ],
   "source": [
    "ser_cat = pd.Categorical(values=ser)\n",
    "ser_cat"
   ]
  },
  {
   "cell_type": "code",
   "execution_count": 135,
   "id": "66bedbae",
   "metadata": {},
   "outputs": [
    {
     "data": {
      "text/plain": [
       "0    a\n",
       "1    b\n",
       "2    c\n",
       "3    d\n",
       "4    a\n",
       "5    b\n",
       "6    c\n",
       "7    d\n",
       "dtype: object"
      ]
     },
     "execution_count": 135,
     "metadata": {},
     "output_type": "execute_result"
    }
   ],
   "source": [
    "ser=pd.Series([\"a\",\"b\",\"c\",\"d\"]*2)\n",
    "ser"
   ]
  },
  {
   "cell_type": "code",
   "execution_count": 136,
   "id": "b3ee9c92",
   "metadata": {},
   "outputs": [
    {
     "data": {
      "text/plain": [
       "0    a\n",
       "1    b\n",
       "2    c\n",
       "3    d\n",
       "4    a\n",
       "5    b\n",
       "6    c\n",
       "7    d\n",
       "dtype: category\n",
       "Categories (4, object): ['a', 'b', 'c', 'd']"
      ]
     },
     "execution_count": 136,
     "metadata": {},
     "output_type": "execute_result"
    }
   ],
   "source": [
    "ser_cat = ser.astype('category')\n",
    "ser_cat"
   ]
  },
  {
   "cell_type": "code",
   "execution_count": 137,
   "id": "9a27213c",
   "metadata": {},
   "outputs": [
    {
     "data": {
      "text/plain": [
       "<pandas.core.arrays.categorical.CategoricalAccessor object at 0x0000006846250C10>"
      ]
     },
     "execution_count": 137,
     "metadata": {},
     "output_type": "execute_result"
    }
   ],
   "source": [
    "ser_cat.cat"
   ]
  },
  {
   "cell_type": "code",
   "execution_count": 138,
   "id": "6c34be74",
   "metadata": {},
   "outputs": [
    {
     "data": {
      "text/plain": [
       "0    0\n",
       "1    1\n",
       "2    2\n",
       "3    3\n",
       "4    0\n",
       "5    1\n",
       "6    2\n",
       "7    3\n",
       "dtype: int8"
      ]
     },
     "execution_count": 138,
     "metadata": {},
     "output_type": "execute_result"
    }
   ],
   "source": [
    "ser_cat.cat.codes"
   ]
  },
  {
   "cell_type": "code",
   "execution_count": 139,
   "id": "38026fb9",
   "metadata": {},
   "outputs": [
    {
     "data": {
      "text/plain": [
       "['a', 'b', 'c', 'd', 'a', 'b', 'c', 'd']\n",
       "Categories (4, object): ['a', 'b', 'c', 'd']"
      ]
     },
     "execution_count": 139,
     "metadata": {},
     "output_type": "execute_result"
    }
   ],
   "source": [
    "ser_cat.values"
   ]
  },
  {
   "cell_type": "code",
   "execution_count": 140,
   "id": "835f5eb0",
   "metadata": {},
   "outputs": [
    {
     "data": {
      "text/plain": [
       "array([0, 1, 2, 3, 0, 1, 2, 3], dtype=int8)"
      ]
     },
     "execution_count": 140,
     "metadata": {},
     "output_type": "execute_result"
    }
   ],
   "source": [
    "ser_cat.values.codes"
   ]
  },
  {
   "cell_type": "code",
   "execution_count": 141,
   "id": "c9decf54",
   "metadata": {},
   "outputs": [
    {
     "data": {
      "text/plain": [
       "Index(['a', 'b', 'c', 'd'], dtype='object')"
      ]
     },
     "execution_count": 141,
     "metadata": {},
     "output_type": "execute_result"
    }
   ],
   "source": [
    "ser_cat.cat.categories"
   ]
  },
  {
   "cell_type": "code",
   "execution_count": 142,
   "id": "0c0f85ce",
   "metadata": {},
   "outputs": [
    {
     "data": {
      "text/plain": [
       "Index(['a', 'b', 'c', 'd'], dtype='object')"
      ]
     },
     "execution_count": 142,
     "metadata": {},
     "output_type": "execute_result"
    }
   ],
   "source": [
    "ser_cat.values.categories"
   ]
  },
  {
   "cell_type": "code",
   "execution_count": 146,
   "id": "836b5f9f",
   "metadata": {},
   "outputs": [],
   "source": [
    "new_cat=[\"a\",\"b\",\"c\",\"d\",\"e\"]"
   ]
  },
  {
   "cell_type": "code",
   "execution_count": 147,
   "id": "edc984e5",
   "metadata": {
    "scrolled": false
   },
   "outputs": [
    {
     "data": {
      "text/plain": [
       "0    a\n",
       "1    b\n",
       "2    c\n",
       "3    d\n",
       "4    a\n",
       "5    b\n",
       "6    c\n",
       "7    d\n",
       "dtype: category\n",
       "Categories (5, object): ['a', 'b', 'c', 'd', 'e']"
      ]
     },
     "execution_count": 147,
     "metadata": {},
     "output_type": "execute_result"
    }
   ],
   "source": [
    "ser_cat.cat.set_categories(new_cat)"
   ]
  },
  {
   "cell_type": "code",
   "execution_count": 173,
   "id": "8308a4e3",
   "metadata": {},
   "outputs": [
    {
     "data": {
      "text/plain": [
       "0     True\n",
       "1     True\n",
       "2    False\n",
       "3    False\n",
       "4     True\n",
       "5     True\n",
       "6    False\n",
       "7    False\n",
       "dtype: bool"
      ]
     },
     "execution_count": 173,
     "metadata": {},
     "output_type": "execute_result"
    }
   ],
   "source": [
    "(ser_cat == 'a') | (ser_cat =='b')"
   ]
  },
  {
   "cell_type": "code",
   "execution_count": 174,
   "id": "9bf7c3dc",
   "metadata": {
    "scrolled": true
   },
   "outputs": [
    {
     "data": {
      "text/plain": [
       "0     True\n",
       "1     True\n",
       "2    False\n",
       "3    False\n",
       "4     True\n",
       "5     True\n",
       "6    False\n",
       "7    False\n",
       "dtype: bool"
      ]
     },
     "execution_count": 174,
     "metadata": {},
     "output_type": "execute_result"
    }
   ],
   "source": [
    "ser_cat.isin(['a', 'b'])"
   ]
  },
  {
   "cell_type": "code",
   "execution_count": 176,
   "id": "541f0ec6",
   "metadata": {},
   "outputs": [
    {
     "data": {
      "text/plain": [
       "0    a\n",
       "1    b\n",
       "4    a\n",
       "5    b\n",
       "dtype: category\n",
       "Categories (4, object): ['a', 'b', 'c', 'd']"
      ]
     },
     "execution_count": 176,
     "metadata": {},
     "output_type": "execute_result"
    }
   ],
   "source": [
    "ser_cat[ser_cat.isin(['a', 'b'])]"
   ]
  },
  {
   "cell_type": "code",
   "execution_count": 177,
   "id": "5deed4ac",
   "metadata": {},
   "outputs": [
    {
     "data": {
      "text/plain": [
       "0    a\n",
       "1    b\n",
       "4    a\n",
       "5    b\n",
       "dtype: category\n",
       "Categories (4, object): ['a', 'b', 'c', 'd']"
      ]
     },
     "execution_count": 177,
     "metadata": {},
     "output_type": "execute_result"
    }
   ],
   "source": [
    "ser2_cat = ser_cat[ser_cat.isin(['a', 'b'])]\n",
    "ser2_cat"
   ]
  },
  {
   "cell_type": "code",
   "execution_count": 178,
   "id": "3045b4d2",
   "metadata": {},
   "outputs": [
    {
     "data": {
      "text/plain": [
       "0    a\n",
       "1    b\n",
       "4    a\n",
       "5    b\n",
       "dtype: category\n",
       "Categories (2, object): ['a', 'b']"
      ]
     },
     "execution_count": 178,
     "metadata": {},
     "output_type": "execute_result"
    }
   ],
   "source": [
    "ser2_cat.cat.remove_unused_categories()"
   ]
  },
  {
   "cell_type": "code",
   "execution_count": 190,
   "id": "1ad016e8",
   "metadata": {},
   "outputs": [
    {
     "data": {
      "text/plain": [
       "0    a\n",
       "1    b\n",
       "2    c\n",
       "3    d\n",
       "4    a\n",
       "5    b\n",
       "6    c\n",
       "7    d\n",
       "dtype: category\n",
       "Categories (4, object): ['a', 'b', 'c', 'd']"
      ]
     },
     "execution_count": 190,
     "metadata": {},
     "output_type": "execute_result"
    }
   ],
   "source": [
    "ser_cat"
   ]
  },
  {
   "cell_type": "code",
   "execution_count": 191,
   "id": "71bf5ad0",
   "metadata": {},
   "outputs": [
    {
     "data": {
      "text/html": [
       "<div>\n",
       "<style scoped>\n",
       "    .dataframe tbody tr th:only-of-type {\n",
       "        vertical-align: middle;\n",
       "    }\n",
       "\n",
       "    .dataframe tbody tr th {\n",
       "        vertical-align: top;\n",
       "    }\n",
       "\n",
       "    .dataframe thead th {\n",
       "        text-align: right;\n",
       "    }\n",
       "</style>\n",
       "<table border=\"1\" class=\"dataframe\">\n",
       "  <thead>\n",
       "    <tr style=\"text-align: right;\">\n",
       "      <th></th>\n",
       "      <th>a</th>\n",
       "      <th>b</th>\n",
       "      <th>c</th>\n",
       "      <th>d</th>\n",
       "    </tr>\n",
       "  </thead>\n",
       "  <tbody>\n",
       "    <tr>\n",
       "      <th>0</th>\n",
       "      <td>True</td>\n",
       "      <td>False</td>\n",
       "      <td>False</td>\n",
       "      <td>False</td>\n",
       "    </tr>\n",
       "    <tr>\n",
       "      <th>1</th>\n",
       "      <td>False</td>\n",
       "      <td>True</td>\n",
       "      <td>False</td>\n",
       "      <td>False</td>\n",
       "    </tr>\n",
       "    <tr>\n",
       "      <th>2</th>\n",
       "      <td>False</td>\n",
       "      <td>False</td>\n",
       "      <td>True</td>\n",
       "      <td>False</td>\n",
       "    </tr>\n",
       "    <tr>\n",
       "      <th>3</th>\n",
       "      <td>False</td>\n",
       "      <td>False</td>\n",
       "      <td>False</td>\n",
       "      <td>True</td>\n",
       "    </tr>\n",
       "    <tr>\n",
       "      <th>4</th>\n",
       "      <td>True</td>\n",
       "      <td>False</td>\n",
       "      <td>False</td>\n",
       "      <td>False</td>\n",
       "    </tr>\n",
       "    <tr>\n",
       "      <th>5</th>\n",
       "      <td>False</td>\n",
       "      <td>True</td>\n",
       "      <td>False</td>\n",
       "      <td>False</td>\n",
       "    </tr>\n",
       "    <tr>\n",
       "      <th>6</th>\n",
       "      <td>False</td>\n",
       "      <td>False</td>\n",
       "      <td>True</td>\n",
       "      <td>False</td>\n",
       "    </tr>\n",
       "    <tr>\n",
       "      <th>7</th>\n",
       "      <td>False</td>\n",
       "      <td>False</td>\n",
       "      <td>False</td>\n",
       "      <td>True</td>\n",
       "    </tr>\n",
       "  </tbody>\n",
       "</table>\n",
       "</div>"
      ],
      "text/plain": [
       "       a      b      c      d\n",
       "0   True  False  False  False\n",
       "1  False   True  False  False\n",
       "2  False  False   True  False\n",
       "3  False  False  False   True\n",
       "4   True  False  False  False\n",
       "5  False   True  False  False\n",
       "6  False  False   True  False\n",
       "7  False  False  False   True"
      ]
     },
     "execution_count": 191,
     "metadata": {},
     "output_type": "execute_result"
    }
   ],
   "source": [
    "pd.get_dummies(ser_cat)"
   ]
  },
  {
   "cell_type": "code",
   "execution_count": 193,
   "id": "f9133fd8",
   "metadata": {},
   "outputs": [
    {
     "data": {
      "text/html": [
       "<div>\n",
       "<style scoped>\n",
       "    .dataframe tbody tr th:only-of-type {\n",
       "        vertical-align: middle;\n",
       "    }\n",
       "\n",
       "    .dataframe tbody tr th {\n",
       "        vertical-align: top;\n",
       "    }\n",
       "\n",
       "    .dataframe thead th {\n",
       "        text-align: right;\n",
       "    }\n",
       "</style>\n",
       "<table border=\"1\" class=\"dataframe\">\n",
       "  <thead>\n",
       "    <tr style=\"text-align: right;\">\n",
       "      <th></th>\n",
       "      <th>a</th>\n",
       "      <th>b</th>\n",
       "      <th>c</th>\n",
       "      <th>d</th>\n",
       "    </tr>\n",
       "  </thead>\n",
       "  <tbody>\n",
       "    <tr>\n",
       "      <th>0</th>\n",
       "      <td>1</td>\n",
       "      <td>0</td>\n",
       "      <td>0</td>\n",
       "      <td>0</td>\n",
       "    </tr>\n",
       "    <tr>\n",
       "      <th>1</th>\n",
       "      <td>0</td>\n",
       "      <td>1</td>\n",
       "      <td>0</td>\n",
       "      <td>0</td>\n",
       "    </tr>\n",
       "    <tr>\n",
       "      <th>2</th>\n",
       "      <td>0</td>\n",
       "      <td>0</td>\n",
       "      <td>1</td>\n",
       "      <td>0</td>\n",
       "    </tr>\n",
       "    <tr>\n",
       "      <th>3</th>\n",
       "      <td>0</td>\n",
       "      <td>0</td>\n",
       "      <td>0</td>\n",
       "      <td>1</td>\n",
       "    </tr>\n",
       "    <tr>\n",
       "      <th>4</th>\n",
       "      <td>1</td>\n",
       "      <td>0</td>\n",
       "      <td>0</td>\n",
       "      <td>0</td>\n",
       "    </tr>\n",
       "    <tr>\n",
       "      <th>5</th>\n",
       "      <td>0</td>\n",
       "      <td>1</td>\n",
       "      <td>0</td>\n",
       "      <td>0</td>\n",
       "    </tr>\n",
       "    <tr>\n",
       "      <th>6</th>\n",
       "      <td>0</td>\n",
       "      <td>0</td>\n",
       "      <td>1</td>\n",
       "      <td>0</td>\n",
       "    </tr>\n",
       "    <tr>\n",
       "      <th>7</th>\n",
       "      <td>0</td>\n",
       "      <td>0</td>\n",
       "      <td>0</td>\n",
       "      <td>1</td>\n",
       "    </tr>\n",
       "  </tbody>\n",
       "</table>\n",
       "</div>"
      ],
      "text/plain": [
       "   a  b  c  d\n",
       "0  1  0  0  0\n",
       "1  0  1  0  0\n",
       "2  0  0  1  0\n",
       "3  0  0  0  1\n",
       "4  1  0  0  0\n",
       "5  0  1  0  0\n",
       "6  0  0  1  0\n",
       "7  0  0  0  1"
      ]
     },
     "execution_count": 193,
     "metadata": {},
     "output_type": "execute_result"
    }
   ],
   "source": [
    "pd.get_dummies(ser_cat, dtype=int)"
   ]
  },
  {
   "cell_type": "code",
   "execution_count": 194,
   "id": "f4fa3be8",
   "metadata": {},
   "outputs": [
    {
     "data": {
      "text/html": [
       "<div>\n",
       "<style scoped>\n",
       "    .dataframe tbody tr th:only-of-type {\n",
       "        vertical-align: middle;\n",
       "    }\n",
       "\n",
       "    .dataframe tbody tr th {\n",
       "        vertical-align: top;\n",
       "    }\n",
       "\n",
       "    .dataframe thead th {\n",
       "        text-align: right;\n",
       "    }\n",
       "</style>\n",
       "<table border=\"1\" class=\"dataframe\">\n",
       "  <thead>\n",
       "    <tr style=\"text-align: right;\">\n",
       "      <th></th>\n",
       "      <th>Rank</th>\n",
       "      <th>Name</th>\n",
       "      <th>Platform</th>\n",
       "      <th>Year</th>\n",
       "      <th>Genre</th>\n",
       "      <th>Publisher</th>\n",
       "      <th>NA_Sales</th>\n",
       "      <th>EU_Sales</th>\n",
       "      <th>JP_Sales</th>\n",
       "      <th>Other_Sales</th>\n",
       "      <th>Global_Sales</th>\n",
       "    </tr>\n",
       "  </thead>\n",
       "  <tbody>\n",
       "    <tr>\n",
       "      <th>0</th>\n",
       "      <td>1</td>\n",
       "      <td>Syrup - Monin - Passion Fruit</td>\n",
       "      <td>Nintendo Switch</td>\n",
       "      <td>2008</td>\n",
       "      <td>Action</td>\n",
       "      <td>Devshare</td>\n",
       "      <td>82.51</td>\n",
       "      <td>20.44</td>\n",
       "      <td>8.39</td>\n",
       "      <td>10.16</td>\n",
       "      <td>7.01</td>\n",
       "    </tr>\n",
       "    <tr>\n",
       "      <th>1</th>\n",
       "      <td>2</td>\n",
       "      <td>Yams</td>\n",
       "      <td>Nintendo Switch</td>\n",
       "      <td>2010</td>\n",
       "      <td>Sports</td>\n",
       "      <td>Muxo</td>\n",
       "      <td>7.43</td>\n",
       "      <td>8.40</td>\n",
       "      <td>9.66</td>\n",
       "      <td>3.07</td>\n",
       "      <td>6.33</td>\n",
       "    </tr>\n",
       "    <tr>\n",
       "      <th>2</th>\n",
       "      <td>3</td>\n",
       "      <td>Pepsi, 355 Ml</td>\n",
       "      <td>PS4</td>\n",
       "      <td>1985</td>\n",
       "      <td>Sports</td>\n",
       "      <td>Eidel</td>\n",
       "      <td>17.50</td>\n",
       "      <td>17.96</td>\n",
       "      <td>7.15</td>\n",
       "      <td>4.74</td>\n",
       "      <td>5.63</td>\n",
       "    </tr>\n",
       "    <tr>\n",
       "      <th>3</th>\n",
       "      <td>4</td>\n",
       "      <td>Gherkin</td>\n",
       "      <td>Xbox One</td>\n",
       "      <td>2016</td>\n",
       "      <td>Action</td>\n",
       "      <td>Mynte</td>\n",
       "      <td>13.05</td>\n",
       "      <td>5.60</td>\n",
       "      <td>5.64</td>\n",
       "      <td>6.97</td>\n",
       "      <td>1.23</td>\n",
       "    </tr>\n",
       "    <tr>\n",
       "      <th>4</th>\n",
       "      <td>5</td>\n",
       "      <td>Pastry - French Mini Assorted</td>\n",
       "      <td>Nintendo Switch</td>\n",
       "      <td>2020</td>\n",
       "      <td>Shooter</td>\n",
       "      <td>Quinu</td>\n",
       "      <td>16.92</td>\n",
       "      <td>24.00</td>\n",
       "      <td>5.59</td>\n",
       "      <td>5.16</td>\n",
       "      <td>3.66</td>\n",
       "    </tr>\n",
       "    <tr>\n",
       "      <th>...</th>\n",
       "      <td>...</td>\n",
       "      <td>...</td>\n",
       "      <td>...</td>\n",
       "      <td>...</td>\n",
       "      <td>...</td>\n",
       "      <td>...</td>\n",
       "      <td>...</td>\n",
       "      <td>...</td>\n",
       "      <td>...</td>\n",
       "      <td>...</td>\n",
       "      <td>...</td>\n",
       "    </tr>\n",
       "    <tr>\n",
       "      <th>995</th>\n",
       "      <td>996</td>\n",
       "      <td>Shrimp - Black Tiger 16/20</td>\n",
       "      <td>Xbox One</td>\n",
       "      <td>1985</td>\n",
       "      <td>Sports</td>\n",
       "      <td>Edgewire</td>\n",
       "      <td>77.09</td>\n",
       "      <td>3.36</td>\n",
       "      <td>0.69</td>\n",
       "      <td>10.33</td>\n",
       "      <td>0.34</td>\n",
       "    </tr>\n",
       "    <tr>\n",
       "      <th>996</th>\n",
       "      <td>997</td>\n",
       "      <td>Muffin Mix - Morning Glory</td>\n",
       "      <td>Xbox One</td>\n",
       "      <td>2011</td>\n",
       "      <td>Shooter</td>\n",
       "      <td>Skyba</td>\n",
       "      <td>5.14</td>\n",
       "      <td>8.72</td>\n",
       "      <td>4.02</td>\n",
       "      <td>7.42</td>\n",
       "      <td>8.20</td>\n",
       "    </tr>\n",
       "    <tr>\n",
       "      <th>997</th>\n",
       "      <td>998</td>\n",
       "      <td>Muffin Orange Individual</td>\n",
       "      <td>PS4</td>\n",
       "      <td>1996</td>\n",
       "      <td>Action</td>\n",
       "      <td>Topicstorm</td>\n",
       "      <td>19.89</td>\n",
       "      <td>27.42</td>\n",
       "      <td>4.02</td>\n",
       "      <td>4.12</td>\n",
       "      <td>0.65</td>\n",
       "    </tr>\n",
       "    <tr>\n",
       "      <th>998</th>\n",
       "      <td>999</td>\n",
       "      <td>Sage - Ground</td>\n",
       "      <td>PS4</td>\n",
       "      <td>1997</td>\n",
       "      <td>Sports</td>\n",
       "      <td>Jabbertype</td>\n",
       "      <td>38.59</td>\n",
       "      <td>7.22</td>\n",
       "      <td>6.20</td>\n",
       "      <td>3.71</td>\n",
       "      <td>0.09</td>\n",
       "    </tr>\n",
       "    <tr>\n",
       "      <th>999</th>\n",
       "      <td>1000</td>\n",
       "      <td>Cheese - Swiss Sliced</td>\n",
       "      <td>Xbox One</td>\n",
       "      <td>1996</td>\n",
       "      <td>Action</td>\n",
       "      <td>Voonyx</td>\n",
       "      <td>58.61</td>\n",
       "      <td>21.83</td>\n",
       "      <td>5.89</td>\n",
       "      <td>2.65</td>\n",
       "      <td>0.50</td>\n",
       "    </tr>\n",
       "  </tbody>\n",
       "</table>\n",
       "<p>1000 rows × 11 columns</p>\n",
       "</div>"
      ],
      "text/plain": [
       "     Rank                           Name         Platform  Year    Genre  \\\n",
       "0       1  Syrup - Monin - Passion Fruit  Nintendo Switch  2008   Action   \n",
       "1       2                           Yams  Nintendo Switch  2010   Sports   \n",
       "2       3                  Pepsi, 355 Ml              PS4  1985   Sports   \n",
       "3       4                        Gherkin         Xbox One  2016   Action   \n",
       "4       5  Pastry - French Mini Assorted  Nintendo Switch  2020  Shooter   \n",
       "..    ...                            ...              ...   ...      ...   \n",
       "995   996     Shrimp - Black Tiger 16/20         Xbox One  1985   Sports   \n",
       "996   997     Muffin Mix - Morning Glory         Xbox One  2011  Shooter   \n",
       "997   998       Muffin Orange Individual              PS4  1996   Action   \n",
       "998   999                  Sage - Ground              PS4  1997   Sports   \n",
       "999  1000          Cheese - Swiss Sliced         Xbox One  1996   Action   \n",
       "\n",
       "      Publisher  NA_Sales  EU_Sales  JP_Sales  Other_Sales  Global_Sales  \n",
       "0      Devshare     82.51     20.44      8.39        10.16          7.01  \n",
       "1          Muxo      7.43      8.40      9.66         3.07          6.33  \n",
       "2         Eidel     17.50     17.96      7.15         4.74          5.63  \n",
       "3         Mynte     13.05      5.60      5.64         6.97          1.23  \n",
       "4         Quinu     16.92     24.00      5.59         5.16          3.66  \n",
       "..          ...       ...       ...       ...          ...           ...  \n",
       "995    Edgewire     77.09      3.36      0.69        10.33          0.34  \n",
       "996       Skyba      5.14      8.72      4.02         7.42          8.20  \n",
       "997  Topicstorm     19.89     27.42      4.02         4.12          0.65  \n",
       "998  Jabbertype     38.59      7.22      6.20         3.71          0.09  \n",
       "999      Voonyx     58.61     21.83      5.89         2.65          0.50  \n",
       "\n",
       "[1000 rows x 11 columns]"
      ]
     },
     "execution_count": 194,
     "metadata": {},
     "output_type": "execute_result"
    }
   ],
   "source": [
    "games = pd.read_csv(r'C:\\Users\\dell\\Desktop\\img\\vgsalesGlobale.csv')\n",
    "games"
   ]
  },
  {
   "cell_type": "code",
   "execution_count": 195,
   "id": "b0edd75c",
   "metadata": {},
   "outputs": [
    {
     "data": {
      "text/plain": [
       "0       Action\n",
       "1       Sports\n",
       "2       Sports\n",
       "3       Action\n",
       "4      Shooter\n",
       "        ...   \n",
       "995     Sports\n",
       "996    Shooter\n",
       "997     Action\n",
       "998     Sports\n",
       "999     Action\n",
       "Name: Genre, Length: 1000, dtype: category\n",
       "Categories (3, object): ['Action', 'Shooter', 'Sports']"
      ]
     },
     "execution_count": 195,
     "metadata": {},
     "output_type": "execute_result"
    }
   ],
   "source": [
    "games['Genre'] = games['Genre'].astype('category')\n",
    "games['Genre']"
   ]
  },
  {
   "cell_type": "code",
   "execution_count": 196,
   "id": "56c40734",
   "metadata": {},
   "outputs": [
    {
     "data": {
      "text/plain": [
       "0       Action\n",
       "1       Sports\n",
       "2       Sports\n",
       "3       Action\n",
       "4      Shooter\n",
       "        ...   \n",
       "995     Sports\n",
       "996    Shooter\n",
       "997     Action\n",
       "998     Sports\n",
       "999     Action\n",
       "Name: Genre, Length: 1000, dtype: category\n",
       "Categories (3, object): ['Action', 'Shooter', 'Sports']"
      ]
     },
     "execution_count": 196,
     "metadata": {},
     "output_type": "execute_result"
    }
   ],
   "source": [
    "games['Genre'] = pd.Categorical(games['Genre'])\n",
    "games['Genre']"
   ]
  },
  {
   "cell_type": "code",
   "execution_count": null,
   "id": "7a344c79",
   "metadata": {},
   "outputs": [],
   "source": []
  }
 ],
 "metadata": {
  "kernelspec": {
   "display_name": "Python 3 (ipykernel)",
   "language": "python",
   "name": "python3"
  },
  "language_info": {
   "codemirror_mode": {
    "name": "ipython",
    "version": 3
   },
   "file_extension": ".py",
   "mimetype": "text/x-python",
   "name": "python",
   "nbconvert_exporter": "python",
   "pygments_lexer": "ipython3",
   "version": "3.11.5"
  }
 },
 "nbformat": 4,
 "nbformat_minor": 5
}
