{
 "cells": [
  {
   "cell_type": "code",
   "execution_count": 1,
   "id": "a786fef3",
   "metadata": {},
   "outputs": [],
   "source": [
    "import matplotlib.pyplot as plt\n",
    "import numpy as np\n",
    "import pandas as pd\n",
    "from datetime import datetime"
   ]
  },
  {
   "cell_type": "code",
   "execution_count": 2,
   "id": "0fd22cc6",
   "metadata": {},
   "outputs": [],
   "source": [
    "date=[datetime(2020,1,5),\n",
    "      datetime(2020,1,10),\n",
    "      datetime(2020,1,15),\n",
    "      datetime(2020,1,20),\n",
    "      datetime(2020,1,25)] "
   ]
  },
  {
   "cell_type": "code",
   "execution_count": 3,
   "id": "ee550b7a",
   "metadata": {},
   "outputs": [
    {
     "data": {
      "text/plain": [
       "2020-01-05   -0.938713\n",
       "2020-01-10   -0.895434\n",
       "2020-01-15   -0.576771\n",
       "2020-01-20   -0.240531\n",
       "2020-01-25    0.081465\n",
       "dtype: float64"
      ]
     },
     "execution_count": 3,
     "metadata": {},
     "output_type": "execute_result"
    }
   ],
   "source": [
    "np.random.seed(290)\n",
    "ts = pd.Series(np.random.randn(5), index=date)\n",
    "ts"
   ]
  },
  {
   "cell_type": "code",
   "execution_count": 4,
   "id": "71b63ecb",
   "metadata": {},
   "outputs": [
    {
     "data": {
      "text/plain": [
       "DatetimeIndex(['2020-01-05', '2020-01-10', '2020-01-15', '2020-01-20',\n",
       "               '2020-01-25'],\n",
       "              dtype='datetime64[ns]', freq=None)"
      ]
     },
     "execution_count": 4,
     "metadata": {},
     "output_type": "execute_result"
    }
   ],
   "source": [
    "ts.index"
   ]
  },
  {
   "cell_type": "code",
   "execution_count": 5,
   "id": "6db4ffbc",
   "metadata": {},
   "outputs": [
    {
     "data": {
      "text/plain": [
       "Timestamp('2020-01-01 00:00:00')"
      ]
     },
     "execution_count": 5,
     "metadata": {},
     "output_type": "execute_result"
    }
   ],
   "source": [
    "pd.to_datetime('01/01/2020')"
   ]
  },
  {
   "cell_type": "code",
   "execution_count": 7,
   "id": "45a4ae90",
   "metadata": {},
   "outputs": [
    {
     "data": {
      "text/plain": [
       "DatetimeIndex(['2020-07-05', '2020-07-11', '2020-07-03', '2020-07-08'], dtype='datetime64[ns]', freq=None)"
      ]
     },
     "execution_count": 7,
     "metadata": {},
     "output_type": "execute_result"
    }
   ],
   "source": [
    "dates=pd.to_datetime(\n",
    "    [datetime(2020,7,5),\n",
    "     \"11th of July, 2020\",\n",
    "     \"2020-Jul-3\",\n",
    "     \"20200708\"])\n",
    "dates"
   ]
  },
  {
   "cell_type": "code",
   "execution_count": 8,
   "id": "bd39d56d",
   "metadata": {},
   "outputs": [
    {
     "data": {
      "text/plain": [
       "PeriodIndex(['2020-07-05', '2020-07-11', '2020-07-03', '2020-07-08'], dtype='period[D]')"
      ]
     },
     "execution_count": 8,
     "metadata": {},
     "output_type": "execute_result"
    }
   ],
   "source": [
    "dates.to_period('D')"
   ]
  },
  {
   "cell_type": "code",
   "execution_count": 9,
   "id": "ede24174",
   "metadata": {
    "scrolled": true
   },
   "outputs": [
    {
     "data": {
      "text/plain": [
       "TimedeltaIndex(['0 days', '0 days', '0 days', '0 days'], dtype='timedelta64[ns]', freq=None)"
      ]
     },
     "execution_count": 9,
     "metadata": {},
     "output_type": "execute_result"
    }
   ],
   "source": [
    "dates-dates"
   ]
  },
  {
   "cell_type": "code",
   "execution_count": 10,
   "id": "838d7660",
   "metadata": {},
   "outputs": [
    {
     "data": {
      "text/plain": [
       "Timestamp('2020-07-05 00:00:00')"
      ]
     },
     "execution_count": 10,
     "metadata": {},
     "output_type": "execute_result"
    }
   ],
   "source": [
    "dates[0]"
   ]
  },
  {
   "cell_type": "code",
   "execution_count": 11,
   "id": "689a3f7f",
   "metadata": {},
   "outputs": [
    {
     "data": {
      "text/plain": [
       "TimedeltaIndex(['0 days', '6 days', '-2 days', '3 days'], dtype='timedelta64[ns]', freq=None)"
      ]
     },
     "execution_count": 11,
     "metadata": {},
     "output_type": "execute_result"
    }
   ],
   "source": [
    "dates-dates[0]"
   ]
  },
  {
   "cell_type": "code",
   "execution_count": 12,
   "id": "802b0a3b",
   "metadata": {
    "scrolled": true
   },
   "outputs": [
    {
     "data": {
      "text/plain": [
       "DatetimeIndex(['2020-08-15', '2020-08-16', '2020-08-17', '2020-08-18',\n",
       "               '2020-08-19', '2020-08-20', '2020-08-21', '2020-08-22',\n",
       "               '2020-08-23', '2020-08-24', '2020-08-25', '2020-08-26',\n",
       "               '2020-08-27', '2020-08-28', '2020-08-29', '2020-08-30',\n",
       "               '2020-08-31', '2020-09-01'],\n",
       "              dtype='datetime64[ns]', freq='D')"
      ]
     },
     "execution_count": 12,
     "metadata": {},
     "output_type": "execute_result"
    }
   ],
   "source": [
    "pd.date_range(\"2020-08-15\",\"2020-09-01\")"
   ]
  },
  {
   "cell_type": "code",
   "execution_count": 13,
   "id": "ab39daa4",
   "metadata": {},
   "outputs": [
    {
     "data": {
      "text/plain": [
       "DatetimeIndex(['2020-08-15 00:00:00', '2020-08-23 12:00:00',\n",
       "               '2020-09-01 00:00:00'],\n",
       "              dtype='datetime64[ns]', freq=None)"
      ]
     },
     "execution_count": 13,
     "metadata": {},
     "output_type": "execute_result"
    }
   ],
   "source": [
    "pd.date_range(\"2020-08-15\",\"2020-09-01\", periods=3)"
   ]
  },
  {
   "cell_type": "code",
   "execution_count": 14,
   "id": "1cb971cf",
   "metadata": {},
   "outputs": [
    {
     "data": {
      "text/plain": [
       "DatetimeIndex(['2020-07-15', '2020-07-16', '2020-07-17', '2020-07-18',\n",
       "               '2020-07-19', '2020-07-20', '2020-07-21', '2020-07-22',\n",
       "               '2020-07-23', '2020-07-24'],\n",
       "              dtype='datetime64[ns]', freq='D')"
      ]
     },
     "execution_count": 14,
     "metadata": {},
     "output_type": "execute_result"
    }
   ],
   "source": [
    "pd.date_range('2020-07-15', periods=10)"
   ]
  },
  {
   "cell_type": "code",
   "execution_count": 15,
   "id": "30215c8d",
   "metadata": {},
   "outputs": [
    {
     "data": {
      "text/plain": [
       "DatetimeIndex(['2020-07-15 00:00:00', '2020-07-15 01:00:00',\n",
       "               '2020-07-15 02:00:00', '2020-07-15 03:00:00',\n",
       "               '2020-07-15 04:00:00', '2020-07-15 05:00:00',\n",
       "               '2020-07-15 06:00:00', '2020-07-15 07:00:00',\n",
       "               '2020-07-15 08:00:00', '2020-07-15 09:00:00'],\n",
       "              dtype='datetime64[ns]', freq='H')"
      ]
     },
     "execution_count": 15,
     "metadata": {},
     "output_type": "execute_result"
    }
   ],
   "source": [
    "pd.date_range('2020-07-15', periods=10, freq='H')"
   ]
  },
  {
   "cell_type": "code",
   "execution_count": 16,
   "id": "b1b4271f",
   "metadata": {},
   "outputs": [
    {
     "data": {
      "text/plain": [
       "DatetimeIndex(['2020-12-31', '2021-12-31', '2022-12-31', '2023-12-31',\n",
       "               '2024-12-31', '2025-12-31', '2026-12-31', '2027-12-31',\n",
       "               '2028-12-31', '2029-12-31'],\n",
       "              dtype='datetime64[ns]', freq='A-DEC')"
      ]
     },
     "execution_count": 16,
     "metadata": {},
     "output_type": "execute_result"
    }
   ],
   "source": [
    "pd.date_range('2020-07-15', periods=10, freq='Y')"
   ]
  },
  {
   "cell_type": "code",
   "execution_count": 17,
   "id": "aac48767",
   "metadata": {},
   "outputs": [
    {
     "data": {
      "text/plain": [
       "DatetimeIndex(['2020-07-31', '2020-08-31', '2020-09-30', '2020-10-31',\n",
       "               '2020-11-30', '2020-12-31', '2021-01-31', '2021-02-28',\n",
       "               '2021-03-31', '2021-04-30'],\n",
       "              dtype='datetime64[ns]', freq='M')"
      ]
     },
     "execution_count": 17,
     "metadata": {},
     "output_type": "execute_result"
    }
   ],
   "source": [
    "pd.date_range('2020-07-15', periods=10, freq='m')"
   ]
  },
  {
   "cell_type": "code",
   "execution_count": 18,
   "id": "65ad140c",
   "metadata": {
    "scrolled": true
   },
   "outputs": [
    {
     "data": {
      "text/plain": [
       "PeriodIndex(['2020-10-01 00:00', '2020-10-01 01:00', '2020-10-01 02:00',\n",
       "             '2020-10-01 03:00', '2020-10-01 04:00', '2020-10-01 05:00',\n",
       "             '2020-10-01 06:00', '2020-10-01 07:00', '2020-10-01 08:00',\n",
       "             '2020-10-01 09:00'],\n",
       "            dtype='period[H]')"
      ]
     },
     "execution_count": 18,
     "metadata": {},
     "output_type": "execute_result"
    }
   ],
   "source": [
    "pd.period_range('2020/10', periods=10, freq='H')"
   ]
  },
  {
   "cell_type": "code",
   "execution_count": 19,
   "id": "02cef9b4",
   "metadata": {},
   "outputs": [
    {
     "data": {
      "text/plain": [
       "PeriodIndex(['2020-10', '2020-11', '2020-12', '2021-01', '2021-02', '2021-03',\n",
       "             '2021-04', '2021-05', '2021-06', '2021-07'],\n",
       "            dtype='period[M]')"
      ]
     },
     "execution_count": 19,
     "metadata": {},
     "output_type": "execute_result"
    }
   ],
   "source": [
    "pd.period_range('2020/10', periods=10, freq='m')"
   ]
  },
  {
   "cell_type": "code",
   "execution_count": 20,
   "id": "0aa89484",
   "metadata": {},
   "outputs": [
    {
     "data": {
      "text/plain": [
       "PeriodIndex(['2020-10-01 00:00', '2020-10-01 00:01', '2020-10-01 00:02',\n",
       "             '2020-10-01 00:03', '2020-10-01 00:04', '2020-10-01 00:05',\n",
       "             '2020-10-01 00:06', '2020-10-01 00:07', '2020-10-01 00:08',\n",
       "             '2020-10-01 00:09'],\n",
       "            dtype='period[T]')"
      ]
     },
     "execution_count": 20,
     "metadata": {},
     "output_type": "execute_result"
    }
   ],
   "source": [
    "pd.period_range('2020/10', periods=10, freq='min')"
   ]
  },
  {
   "cell_type": "code",
   "execution_count": 21,
   "id": "cc033282",
   "metadata": {},
   "outputs": [
    {
     "data": {
      "text/plain": [
       "PeriodIndex(['2020-10-01 00:00:00', '2020-10-01 00:00:01',\n",
       "             '2020-10-01 00:00:02', '2020-10-01 00:00:03',\n",
       "             '2020-10-01 00:00:04', '2020-10-01 00:00:05',\n",
       "             '2020-10-01 00:00:06', '2020-10-01 00:00:07',\n",
       "             '2020-10-01 00:00:08', '2020-10-01 00:00:09'],\n",
       "            dtype='period[S]')"
      ]
     },
     "execution_count": 21,
     "metadata": {},
     "output_type": "execute_result"
    }
   ],
   "source": [
    "pd.period_range('2020/10', periods=10, freq='s')"
   ]
  },
  {
   "cell_type": "code",
   "execution_count": 22,
   "id": "43719364",
   "metadata": {},
   "outputs": [
    {
     "data": {
      "text/plain": [
       "TimedeltaIndex(['0 days', '1 days', '2 days', '3 days', '4 days', '5 days',\n",
       "                '6 days', '7 days', '8 days', '9 days'],\n",
       "               dtype='timedelta64[ns]', freq='D')"
      ]
     },
     "execution_count": 22,
     "metadata": {},
     "output_type": "execute_result"
    }
   ],
   "source": [
    "pd.timedelta_range(0, periods=10)"
   ]
  },
  {
   "cell_type": "code",
   "execution_count": 23,
   "id": "b27b99cb",
   "metadata": {},
   "outputs": [
    {
     "data": {
      "text/plain": [
       "TimedeltaIndex(['0 days', '1 days', '2 days', '3 days', '4 days', '5 days',\n",
       "                '6 days', '7 days', '8 days', '9 days'],\n",
       "               dtype='timedelta64[ns]', freq='D')"
      ]
     },
     "execution_count": 23,
     "metadata": {},
     "output_type": "execute_result"
    }
   ],
   "source": [
    "pd.timedelta_range(0, periods=10, freq='D')"
   ]
  },
  {
   "cell_type": "code",
   "execution_count": 24,
   "id": "84d76ca8",
   "metadata": {},
   "outputs": [
    {
     "data": {
      "text/plain": [
       "TimedeltaIndex(['0 days 00:00:00', '0 days 01:00:00', '0 days 02:00:00',\n",
       "                '0 days 03:00:00', '0 days 04:00:00', '0 days 05:00:00',\n",
       "                '0 days 06:00:00', '0 days 07:00:00', '0 days 08:00:00',\n",
       "                '0 days 09:00:00'],\n",
       "               dtype='timedelta64[ns]', freq='H')"
      ]
     },
     "execution_count": 24,
     "metadata": {},
     "output_type": "execute_result"
    }
   ],
   "source": [
    "pd.timedelta_range(0, periods=10, freq='H')"
   ]
  },
  {
   "cell_type": "code",
   "execution_count": 25,
   "id": "a1d751de",
   "metadata": {
    "scrolled": true
   },
   "outputs": [
    {
     "data": {
      "text/plain": [
       "TimedeltaIndex(['0 days 00:00:00', '0 days 00:01:00', '0 days 00:02:00',\n",
       "                '0 days 00:03:00', '0 days 00:04:00', '0 days 00:05:00',\n",
       "                '0 days 00:06:00', '0 days 00:07:00', '0 days 00:08:00',\n",
       "                '0 days 00:09:00'],\n",
       "               dtype='timedelta64[ns]', freq='T')"
      ]
     },
     "execution_count": 25,
     "metadata": {},
     "output_type": "execute_result"
    }
   ],
   "source": [
    "pd.timedelta_range(0, periods=10, freq='min')"
   ]
  },
  {
   "cell_type": "code",
   "execution_count": 26,
   "id": "71149226",
   "metadata": {},
   "outputs": [],
   "source": [
    "dates_2=['2020/10/10', '2020/4/10']"
   ]
  },
  {
   "cell_type": "code",
   "execution_count": 27,
   "id": "8f25b94f",
   "metadata": {
    "scrolled": true
   },
   "outputs": [
    {
     "data": {
      "text/plain": [
       "DatetimeIndex(['2020-10-10', '2020-04-10'], dtype='datetime64[ns]', freq=None)"
      ]
     },
     "execution_count": 27,
     "metadata": {},
     "output_type": "execute_result"
    }
   ],
   "source": [
    "pd.to_datetime(dates_2)"
   ]
  },
  {
   "cell_type": "code",
   "execution_count": 28,
   "id": "e9de9628",
   "metadata": {},
   "outputs": [
    {
     "data": {
      "text/plain": [
       "DatetimeIndex(['2020-04-30', '2020-05-31', '2020-06-30', '2020-07-31',\n",
       "               '2020-08-31', '2020-09-30'],\n",
       "              dtype='datetime64[ns]', freq='M')"
      ]
     },
     "execution_count": 28,
     "metadata": {},
     "output_type": "execute_result"
    }
   ],
   "source": [
    "pd.date_range(dates_2[-1], dates_2[-0], freq='m')"
   ]
  },
  {
   "cell_type": "code",
   "execution_count": 29,
   "id": "a05fd6ae",
   "metadata": {},
   "outputs": [
    {
     "data": {
      "text/plain": [
       "2020-01-05   -0.938713\n",
       "2020-01-10   -0.895434\n",
       "2020-01-15   -0.576771\n",
       "2020-01-20   -0.240531\n",
       "2020-01-25    0.081465\n",
       "dtype: float64"
      ]
     },
     "execution_count": 29,
     "metadata": {},
     "output_type": "execute_result"
    }
   ],
   "source": [
    "ts"
   ]
  },
  {
   "cell_type": "code",
   "execution_count": 30,
   "id": "3ba5e014",
   "metadata": {},
   "outputs": [
    {
     "data": {
      "text/plain": [
       "Timestamp('2020-01-10 00:00:00')"
      ]
     },
     "execution_count": 30,
     "metadata": {},
     "output_type": "execute_result"
    }
   ],
   "source": [
    "stamp = ts.index[1]\n",
    "stamp"
   ]
  },
  {
   "cell_type": "code",
   "execution_count": 31,
   "id": "c75fc31d",
   "metadata": {},
   "outputs": [
    {
     "data": {
      "text/plain": [
       "-0.8954344755554016"
      ]
     },
     "execution_count": 31,
     "metadata": {},
     "output_type": "execute_result"
    }
   ],
   "source": [
    "ts[stamp]"
   ]
  },
  {
   "cell_type": "code",
   "execution_count": 32,
   "id": "b3c39fc1",
   "metadata": {},
   "outputs": [
    {
     "data": {
      "text/plain": [
       "-0.8954344755554016"
      ]
     },
     "execution_count": 32,
     "metadata": {},
     "output_type": "execute_result"
    }
   ],
   "source": [
    "ts['2020-01-10']"
   ]
  },
  {
   "cell_type": "code",
   "execution_count": 33,
   "id": "f56bddde",
   "metadata": {},
   "outputs": [
    {
     "data": {
      "text/plain": [
       "-0.8954344755554016"
      ]
     },
     "execution_count": 33,
     "metadata": {},
     "output_type": "execute_result"
    }
   ],
   "source": [
    "ts[pd.to_datetime('2020-01-10')]"
   ]
  },
  {
   "cell_type": "code",
   "execution_count": 34,
   "id": "82ea0dca",
   "metadata": {},
   "outputs": [
    {
     "data": {
      "text/plain": [
       "-0.8954344755554016"
      ]
     },
     "execution_count": 34,
     "metadata": {},
     "output_type": "execute_result"
    }
   ],
   "source": [
    "ts['2020.01.10']"
   ]
  },
  {
   "cell_type": "code",
   "execution_count": 35,
   "id": "ee0cf3f3",
   "metadata": {},
   "outputs": [
    {
     "data": {
      "text/plain": [
       "-0.8954344755554016"
      ]
     },
     "execution_count": 35,
     "metadata": {},
     "output_type": "execute_result"
    }
   ],
   "source": [
    "ts['20200110']"
   ]
  },
  {
   "cell_type": "code",
   "execution_count": 36,
   "id": "8af2a8ba",
   "metadata": {},
   "outputs": [
    {
     "data": {
      "text/plain": [
       "2020-01-01    0.002404\n",
       "2020-01-02    0.729733\n",
       "2020-01-03    0.105832\n",
       "2020-01-04    0.439507\n",
       "2020-01-05    0.531075\n",
       "                ...   \n",
       "2022-09-22    0.794183\n",
       "2022-09-23    0.727811\n",
       "2022-09-24    0.886866\n",
       "2022-09-25    0.893001\n",
       "2022-09-26    0.344038\n",
       "Freq: D, Length: 1000, dtype: float64"
      ]
     },
     "execution_count": 36,
     "metadata": {},
     "output_type": "execute_result"
    }
   ],
   "source": [
    "long_ts = pd.Series(data=np.random.rand(1000), index=pd.date_range('01/01/2020', periods=1000))\n",
    "long_ts"
   ]
  },
  {
   "cell_type": "code",
   "execution_count": 37,
   "id": "86588e4c",
   "metadata": {},
   "outputs": [
    {
     "data": {
      "text/plain": [
       "2020-01-01    0.002404\n",
       "2020-01-02    0.729733\n",
       "2020-01-03    0.105832\n",
       "2020-01-04    0.439507\n",
       "2020-01-05    0.531075\n",
       "                ...   \n",
       "2020-12-27    0.740637\n",
       "2020-12-28    0.077598\n",
       "2020-12-29    0.221611\n",
       "2020-12-30    0.319313\n",
       "2020-12-31    0.410834\n",
       "Freq: D, Length: 366, dtype: float64"
      ]
     },
     "execution_count": 37,
     "metadata": {},
     "output_type": "execute_result"
    }
   ],
   "source": [
    "long_ts['2020']"
   ]
  },
  {
   "cell_type": "code",
   "execution_count": 38,
   "id": "8ad16760",
   "metadata": {},
   "outputs": [
    {
     "data": {
      "text/plain": [
       "Index(['2020', '2020', '2020', '2020', '2020', '2020', '2020', '2020', '2020',\n",
       "       '2020',\n",
       "       ...\n",
       "       '2022', '2022', '2022', '2022', '2022', '2022', '2022', '2022', '2022',\n",
       "       '2022'],\n",
       "      dtype='object', length=1000)"
      ]
     },
     "execution_count": 38,
     "metadata": {},
     "output_type": "execute_result"
    }
   ],
   "source": [
    "long_ts.index.strftime('%Y')"
   ]
  },
  {
   "cell_type": "code",
   "execution_count": 39,
   "id": "e08de079",
   "metadata": {},
   "outputs": [
    {
     "data": {
      "text/plain": [
       "2020    0.479947\n",
       "2021    0.489925\n",
       "2022    0.480984\n",
       "dtype: float64"
      ]
     },
     "execution_count": 39,
     "metadata": {},
     "output_type": "execute_result"
    }
   ],
   "source": [
    "long_ts.groupby(long_ts.index.strftime('%Y')).mean()"
   ]
  },
  {
   "cell_type": "code",
   "execution_count": 40,
   "id": "49e0ed29",
   "metadata": {},
   "outputs": [
    {
     "data": {
      "text/plain": [
       "<Axes: >"
      ]
     },
     "execution_count": 40,
     "metadata": {},
     "output_type": "execute_result"
    },
    {
     "data": {
      "image/png": "[encoded data removed]",
      "text/plain": [
       "<Figure size 640x480 with 1 Axes>"
      ]
     },
     "metadata": {},
     "output_type": "display_data"
    }
   ],
   "source": [
    "long_ts.groupby(long_ts.index.strftime('%Y')).mean().plot.bar()"
   ]
  },
  {
   "cell_type": "code",
   "execution_count": 41,
   "id": "1761f9e4",
   "metadata": {},
   "outputs": [
    {
     "data": {
      "text/plain": [
       "2020-10-01    0.202602\n",
       "2020-10-02    0.950555\n",
       "2020-10-03    0.058625\n",
       "2020-10-04    0.256321\n",
       "2020-10-05    0.871281\n",
       "2020-10-06    0.886055\n",
       "2020-10-07    0.220957\n",
       "2020-10-08    0.148068\n",
       "2020-10-09    0.141042\n",
       "2020-10-10    0.196216\n",
       "2020-10-11    0.252037\n",
       "2020-10-12    0.382876\n",
       "2020-10-13    0.123323\n",
       "2020-10-14    0.519021\n",
       "2020-10-15    0.991621\n",
       "2020-10-16    0.262617\n",
       "2020-10-17    0.165237\n",
       "2020-10-18    0.459974\n",
       "2020-10-19    0.292994\n",
       "2020-10-20    0.866809\n",
       "2020-10-21    0.311845\n",
       "2020-10-22    0.026927\n",
       "2020-10-23    0.030814\n",
       "2020-10-24    0.203543\n",
       "2020-10-25    0.612647\n",
       "2020-10-26    0.343777\n",
       "2020-10-27    0.944655\n",
       "2020-10-28    0.814700\n",
       "2020-10-29    0.266242\n",
       "2020-10-30    0.005802\n",
       "2020-10-31    0.863199\n",
       "Freq: D, dtype: float64"
      ]
     },
     "execution_count": 41,
     "metadata": {},
     "output_type": "execute_result"
    }
   ],
   "source": [
    "long_ts['2020-10']"
   ]
  },
  {
   "cell_type": "code",
   "execution_count": 42,
   "id": "8e5c8094",
   "metadata": {},
   "outputs": [
    {
     "data": {
      "text/plain": [
       "Index(['2020-01', '2020-01', '2020-01', '2020-01', '2020-01', '2020-01',\n",
       "       '2020-01', '2020-01', '2020-01', '2020-01',\n",
       "       ...\n",
       "       '2022-09', '2022-09', '2022-09', '2022-09', '2022-09', '2022-09',\n",
       "       '2022-09', '2022-09', '2022-09', '2022-09'],\n",
       "      dtype='object', length=1000)"
      ]
     },
     "execution_count": 42,
     "metadata": {},
     "output_type": "execute_result"
    }
   ],
   "source": [
    "long_ts.index.strftime('%Y-%m')"
   ]
  },
  {
   "cell_type": "code",
   "execution_count": 43,
   "id": "ca482e1a",
   "metadata": {
    "scrolled": false
   },
   "outputs": [
    {
     "data": {
      "text/plain": [
       "2020-01    0.461848\n",
       "2020-02    0.456198\n",
       "2020-03    0.467433\n",
       "2020-04    0.510750\n",
       "2020-05    0.477190\n",
       "2020-06    0.558643\n",
       "2020-07    0.509278\n",
       "2020-08    0.391791\n",
       "2020-09    0.501272\n",
       "2020-10    0.408786\n",
       "2020-11    0.554240\n",
       "2020-12    0.467019\n",
       "2021-01    0.475660\n",
       "2021-02    0.403274\n",
       "2021-03    0.476882\n",
       "2021-04    0.555120\n",
       "2021-05    0.535469\n",
       "2021-06    0.469415\n",
       "2021-07    0.508293\n",
       "2021-08    0.500475\n",
       "2021-09    0.409658\n",
       "2021-10    0.488422\n",
       "2021-11    0.506892\n",
       "2021-12    0.540548\n",
       "2022-01    0.501739\n",
       "2022-02    0.479718\n",
       "2022-03    0.469163\n",
       "2022-04    0.420573\n",
       "2022-05    0.443829\n",
       "2022-06    0.512185\n",
       "2022-07    0.403798\n",
       "2022-08    0.519839\n",
       "2022-09    0.595401\n",
       "dtype: float64"
      ]
     },
     "execution_count": 43,
     "metadata": {},
     "output_type": "execute_result"
    }
   ],
   "source": [
    "long_ts.groupby(long_ts.index.strftime('%Y-%m')).mean()"
   ]
  },
  {
   "cell_type": "code",
   "execution_count": 44,
   "id": "4ad940bf",
   "metadata": {
    "scrolled": true
   },
   "outputs": [
    {
     "data": {
      "text/plain": [
       "2020-01-01    0.002404\n",
       "2020-01-02    0.729733\n",
       "2020-01-03    0.105832\n",
       "2020-01-04    0.439507\n",
       "2020-01-05    0.531075\n",
       "                ...   \n",
       "2022-09-22    0.794183\n",
       "2022-09-23    0.727811\n",
       "2022-09-24    0.886866\n",
       "2022-09-25    0.893001\n",
       "2022-09-26    0.344038\n",
       "Freq: D, Length: 1000, dtype: float64"
      ]
     },
     "execution_count": 44,
     "metadata": {},
     "output_type": "execute_result"
    }
   ],
   "source": [
    "long_ts"
   ]
  },
  {
   "cell_type": "code",
   "execution_count": 45,
   "id": "4cd13a1c",
   "metadata": {},
   "outputs": [
    {
     "data": {
      "text/plain": [
       "2020-09-20    0.210720\n",
       "2020-09-21    0.521224\n",
       "2020-09-22    0.265032\n",
       "2020-09-23    0.143524\n",
       "2020-09-24    0.993832\n",
       "                ...   \n",
       "2022-09-22    0.794183\n",
       "2022-09-23    0.727811\n",
       "2022-09-24    0.886866\n",
       "2022-09-25    0.893001\n",
       "2022-09-26    0.344038\n",
       "Freq: D, Length: 737, dtype: float64"
      ]
     },
     "execution_count": 45,
     "metadata": {},
     "output_type": "execute_result"
    }
   ],
   "source": [
    "long_ts[datetime(2020,9,20):]"
   ]
  },
  {
   "cell_type": "code",
   "execution_count": 46,
   "id": "2e080535",
   "metadata": {},
   "outputs": [
    {
     "data": {
      "text/plain": [
       "2020-01-05   -0.938713\n",
       "2020-01-10   -0.895434\n",
       "2020-01-15   -0.576771\n",
       "2020-01-20   -0.240531\n",
       "2020-01-25    0.081465\n",
       "dtype: float64"
      ]
     },
     "execution_count": 46,
     "metadata": {},
     "output_type": "execute_result"
    }
   ],
   "source": [
    "ts"
   ]
  },
  {
   "cell_type": "code",
   "execution_count": 47,
   "id": "4552ded3",
   "metadata": {},
   "outputs": [
    {
     "data": {
      "text/plain": [
       "2020-01-05   -0.938713\n",
       "2020-01-10   -0.895434\n",
       "2020-01-15   -0.576771\n",
       "dtype: float64"
      ]
     },
     "execution_count": 47,
     "metadata": {},
     "output_type": "execute_result"
    }
   ],
   "source": [
    "ts.truncate(after='1/15/2020')"
   ]
  },
  {
   "cell_type": "code",
   "execution_count": 48,
   "id": "f38e19d8",
   "metadata": {},
   "outputs": [
    {
     "data": {
      "text/plain": [
       "2020-01-01    0.002404\n",
       "2020-01-02    0.729733\n",
       "2020-01-03    0.105832\n",
       "2020-01-04    0.439507\n",
       "2020-01-05    0.531075\n",
       "                ...   \n",
       "2022-09-22    0.794183\n",
       "2022-09-23    0.727811\n",
       "2022-09-24    0.886866\n",
       "2022-09-25    0.893001\n",
       "2022-09-26    0.344038\n",
       "Freq: D, Length: 1000, dtype: float64"
      ]
     },
     "execution_count": 48,
     "metadata": {},
     "output_type": "execute_result"
    }
   ],
   "source": [
    "long_ts"
   ]
  },
  {
   "cell_type": "code",
   "execution_count": 49,
   "id": "fa80e933",
   "metadata": {},
   "outputs": [
    {
     "data": {
      "text/plain": [
       "2020-01-01    0.002404\n",
       "2020-01-02    0.729733\n",
       "2020-01-03    0.105832\n",
       "2020-01-04    0.439507\n",
       "2020-01-05    0.531075\n",
       "2020-01-06    0.569313\n",
       "2020-01-07    0.448900\n",
       "2020-01-08    0.988302\n",
       "2020-01-09    0.204475\n",
       "2020-01-10    0.203967\n",
       "Freq: D, dtype: float64"
      ]
     },
     "execution_count": 49,
     "metadata": {},
     "output_type": "execute_result"
    }
   ],
   "source": [
    "long_ts.truncate(after='2020/01/10')"
   ]
  },
  {
   "cell_type": "code",
   "execution_count": 50,
   "id": "a24e4092",
   "metadata": {},
   "outputs": [
    {
     "data": {
      "text/plain": [
       "2020-01-10    0.203967\n",
       "2020-01-11    0.734667\n",
       "2020-01-12    0.282467\n",
       "2020-01-13    0.810708\n",
       "2020-01-14    0.908849\n",
       "                ...   \n",
       "2022-09-22    0.794183\n",
       "2022-09-23    0.727811\n",
       "2022-09-24    0.886866\n",
       "2022-09-25    0.893001\n",
       "2022-09-26    0.344038\n",
       "Freq: D, Length: 991, dtype: float64"
      ]
     },
     "execution_count": 50,
     "metadata": {},
     "output_type": "execute_result"
    }
   ],
   "source": [
    "long_ts.truncate(before='2020/01/10')"
   ]
  },
  {
   "cell_type": "code",
   "execution_count": 54,
   "id": "30539a24",
   "metadata": {},
   "outputs": [
    {
     "data": {
      "text/plain": [
       "DatetimeIndex(['2020-01-05', '2020-01-12', '2020-01-19', '2020-01-26',\n",
       "               '2020-02-02', '2020-02-09', '2020-02-16', '2020-02-23',\n",
       "               '2020-03-01', '2020-03-08',\n",
       "               ...\n",
       "               '2038-12-26', '2039-01-02', '2039-01-09', '2039-01-16',\n",
       "               '2039-01-23', '2039-01-30', '2039-02-06', '2039-02-13',\n",
       "               '2039-02-20', '2039-02-27'],\n",
       "              dtype='datetime64[ns]', length=1000, freq='W-SUN')"
      ]
     },
     "execution_count": 54,
     "metadata": {},
     "output_type": "execute_result"
    }
   ],
   "source": [
    "date = pd.date_range(start='1/1/2020', periods=1000, freq='W-SUN')\n",
    "date"
   ]
  },
  {
   "cell_type": "code",
   "execution_count": 58,
   "id": "86265c22",
   "metadata": {},
   "outputs": [
    {
     "data": {
      "text/html": [
       "<div>\n",
       "<style scoped>\n",
       "    .dataframe tbody tr th:only-of-type {\n",
       "        vertical-align: middle;\n",
       "    }\n",
       "\n",
       "    .dataframe tbody tr th {\n",
       "        vertical-align: top;\n",
       "    }\n",
       "\n",
       "    .dataframe thead th {\n",
       "        text-align: right;\n",
       "    }\n",
       "</style>\n",
       "<table border=\"1\" class=\"dataframe\">\n",
       "  <thead>\n",
       "    <tr style=\"text-align: right;\">\n",
       "      <th></th>\n",
       "      <th>A</th>\n",
       "      <th>B</th>\n",
       "      <th>C</th>\n",
       "      <th>D</th>\n",
       "    </tr>\n",
       "  </thead>\n",
       "  <tbody>\n",
       "    <tr>\n",
       "      <th>2020-01-05</th>\n",
       "      <td>0.148227</td>\n",
       "      <td>0.353487</td>\n",
       "      <td>-1.087250</td>\n",
       "      <td>0.247096</td>\n",
       "    </tr>\n",
       "    <tr>\n",
       "      <th>2020-01-12</th>\n",
       "      <td>-0.156840</td>\n",
       "      <td>0.437086</td>\n",
       "      <td>-0.846221</td>\n",
       "      <td>2.166546</td>\n",
       "    </tr>\n",
       "    <tr>\n",
       "      <th>2020-01-19</th>\n",
       "      <td>0.334282</td>\n",
       "      <td>-0.377876</td>\n",
       "      <td>0.596387</td>\n",
       "      <td>2.053356</td>\n",
       "    </tr>\n",
       "    <tr>\n",
       "      <th>2020-01-26</th>\n",
       "      <td>-0.040022</td>\n",
       "      <td>-0.576821</td>\n",
       "      <td>-0.060936</td>\n",
       "      <td>0.997778</td>\n",
       "    </tr>\n",
       "    <tr>\n",
       "      <th>2020-02-02</th>\n",
       "      <td>1.775045</td>\n",
       "      <td>-1.337874</td>\n",
       "      <td>0.798311</td>\n",
       "      <td>-1.762909</td>\n",
       "    </tr>\n",
       "    <tr>\n",
       "      <th>...</th>\n",
       "      <td>...</td>\n",
       "      <td>...</td>\n",
       "      <td>...</td>\n",
       "      <td>...</td>\n",
       "    </tr>\n",
       "    <tr>\n",
       "      <th>2039-01-30</th>\n",
       "      <td>0.155212</td>\n",
       "      <td>1.258138</td>\n",
       "      <td>-0.158491</td>\n",
       "      <td>0.071063</td>\n",
       "    </tr>\n",
       "    <tr>\n",
       "      <th>2039-02-06</th>\n",
       "      <td>-1.258006</td>\n",
       "      <td>-0.437371</td>\n",
       "      <td>0.015591</td>\n",
       "      <td>1.482068</td>\n",
       "    </tr>\n",
       "    <tr>\n",
       "      <th>2039-02-13</th>\n",
       "      <td>0.863849</td>\n",
       "      <td>2.036725</td>\n",
       "      <td>0.290465</td>\n",
       "      <td>-0.540561</td>\n",
       "    </tr>\n",
       "    <tr>\n",
       "      <th>2039-02-20</th>\n",
       "      <td>0.208571</td>\n",
       "      <td>-1.696768</td>\n",
       "      <td>-1.027059</td>\n",
       "      <td>-1.800954</td>\n",
       "    </tr>\n",
       "    <tr>\n",
       "      <th>2039-02-27</th>\n",
       "      <td>-0.327729</td>\n",
       "      <td>-0.548552</td>\n",
       "      <td>0.196102</td>\n",
       "      <td>-0.433373</td>\n",
       "    </tr>\n",
       "  </tbody>\n",
       "</table>\n",
       "<p>1000 rows × 4 columns</p>\n",
       "</div>"
      ],
      "text/plain": [
       "                   A         B         C         D\n",
       "2020-01-05  0.148227  0.353487 -1.087250  0.247096\n",
       "2020-01-12 -0.156840  0.437086 -0.846221  2.166546\n",
       "2020-01-19  0.334282 -0.377876  0.596387  2.053356\n",
       "2020-01-26 -0.040022 -0.576821 -0.060936  0.997778\n",
       "2020-02-02  1.775045 -1.337874  0.798311 -1.762909\n",
       "...              ...       ...       ...       ...\n",
       "2039-01-30  0.155212  1.258138 -0.158491  0.071063\n",
       "2039-02-06 -1.258006 -0.437371  0.015591  1.482068\n",
       "2039-02-13  0.863849  2.036725  0.290465 -0.540561\n",
       "2039-02-20  0.208571 -1.696768 -1.027059 -1.800954\n",
       "2039-02-27 -0.327729 -0.548552  0.196102 -0.433373\n",
       "\n",
       "[1000 rows x 4 columns]"
      ]
     },
     "execution_count": 58,
     "metadata": {},
     "output_type": "execute_result"
    }
   ],
   "source": [
    "np.random.seed(555)\n",
    "long_df = pd.DataFrame(data=np.random.randn(1000, 4), columns=list(\"ABCD\"), index=date)\n",
    "long_df"
   ]
  },
  {
   "cell_type": "code",
   "execution_count": 77,
   "id": "0591f1e2",
   "metadata": {},
   "outputs": [
    {
     "data": {
      "text/html": [
       "<div>\n",
       "<style scoped>\n",
       "    .dataframe tbody tr th:only-of-type {\n",
       "        vertical-align: middle;\n",
       "    }\n",
       "\n",
       "    .dataframe tbody tr th {\n",
       "        vertical-align: top;\n",
       "    }\n",
       "\n",
       "    .dataframe thead th {\n",
       "        text-align: right;\n",
       "    }\n",
       "</style>\n",
       "<table border=\"1\" class=\"dataframe\">\n",
       "  <thead>\n",
       "    <tr style=\"text-align: right;\">\n",
       "      <th></th>\n",
       "      <th>A</th>\n",
       "      <th>B</th>\n",
       "      <th>C</th>\n",
       "      <th>D</th>\n",
       "    </tr>\n",
       "  </thead>\n",
       "  <tbody>\n",
       "    <tr>\n",
       "      <th>2020-10-04</th>\n",
       "      <td>0.547715</td>\n",
       "      <td>0.839354</td>\n",
       "      <td>-0.827440</td>\n",
       "      <td>-0.489905</td>\n",
       "    </tr>\n",
       "    <tr>\n",
       "      <th>2020-10-11</th>\n",
       "      <td>2.064594</td>\n",
       "      <td>-0.602026</td>\n",
       "      <td>1.006410</td>\n",
       "      <td>-2.491607</td>\n",
       "    </tr>\n",
       "    <tr>\n",
       "      <th>2020-10-18</th>\n",
       "      <td>-0.658126</td>\n",
       "      <td>0.076864</td>\n",
       "      <td>-1.132730</td>\n",
       "      <td>-0.709764</td>\n",
       "    </tr>\n",
       "    <tr>\n",
       "      <th>2020-10-25</th>\n",
       "      <td>0.942823</td>\n",
       "      <td>0.856349</td>\n",
       "      <td>-0.315973</td>\n",
       "      <td>0.413259</td>\n",
       "    </tr>\n",
       "  </tbody>\n",
       "</table>\n",
       "</div>"
      ],
      "text/plain": [
       "                   A         B         C         D\n",
       "2020-10-04  0.547715  0.839354 -0.827440 -0.489905\n",
       "2020-10-11  2.064594 -0.602026  1.006410 -2.491607\n",
       "2020-10-18 -0.658126  0.076864 -1.132730 -0.709764\n",
       "2020-10-25  0.942823  0.856349 -0.315973  0.413259"
      ]
     },
     "execution_count": 77,
     "metadata": {},
     "output_type": "execute_result"
    }
   ],
   "source": [
    "long_df.loc['2020-10']"
   ]
  },
  {
   "cell_type": "code",
   "execution_count": 78,
   "id": "d3a33d2d",
   "metadata": {},
   "outputs": [
    {
     "data": {
      "text/plain": [
       "DatetimeIndex(['2020-01-01', '2020-01-02', '2020-01-02', '2020-01-02',\n",
       "               '2020-01-03'],\n",
       "              dtype='datetime64[ns]', freq=None)"
      ]
     },
     "execution_count": 78,
     "metadata": {},
     "output_type": "execute_result"
    }
   ],
   "source": [
    "date=pd.DatetimeIndex(\n",
    "    [\"1/1/2020\",\"1/2/2020\",\"1/2/2020\",\n",
    "     \"1/2/2020\",\"1/3/2020\"])\n",
    "date"
   ]
  },
  {
   "cell_type": "code",
   "execution_count": 80,
   "id": "f6ec1068",
   "metadata": {},
   "outputs": [
    {
     "data": {
      "text/plain": [
       "2020-01-01    0\n",
       "2020-01-02    1\n",
       "2020-01-02    2\n",
       "2020-01-02    3\n",
       "2020-01-03    4\n",
       "dtype: int32"
      ]
     },
     "execution_count": 80,
     "metadata": {},
     "output_type": "execute_result"
    }
   ],
   "source": [
    "ts1 = pd.Series(np.arange(5), index=date)\n",
    "ts1"
   ]
  },
  {
   "cell_type": "code",
   "execution_count": 85,
   "id": "68a8ff4e",
   "metadata": {},
   "outputs": [
    {
     "data": {
      "text/plain": [
       "False"
      ]
     },
     "execution_count": 85,
     "metadata": {},
     "output_type": "execute_result"
    }
   ],
   "source": [
    "ts1.index.is_unique"
   ]
  },
  {
   "cell_type": "code",
   "execution_count": 88,
   "id": "817716bc",
   "metadata": {},
   "outputs": [
    {
     "data": {
      "text/plain": [
       "2020-01-01    1\n",
       "2020-01-02    3\n",
       "2020-01-03    1\n",
       "dtype: int64"
      ]
     },
     "execution_count": 88,
     "metadata": {},
     "output_type": "execute_result"
    }
   ],
   "source": [
    "ts1.groupby(level=0).count()"
   ]
  },
  {
   "cell_type": "code",
   "execution_count": 90,
   "id": "cdc43bd0",
   "metadata": {},
   "outputs": [
    {
     "data": {
      "text/html": [
       "<div>\n",
       "<style scoped>\n",
       "    .dataframe tbody tr th:only-of-type {\n",
       "        vertical-align: middle;\n",
       "    }\n",
       "\n",
       "    .dataframe tbody tr th {\n",
       "        vertical-align: top;\n",
       "    }\n",
       "\n",
       "    .dataframe thead th {\n",
       "        text-align: right;\n",
       "    }\n",
       "</style>\n",
       "<table border=\"1\" class=\"dataframe\">\n",
       "  <thead>\n",
       "    <tr style=\"text-align: right;\">\n",
       "      <th></th>\n",
       "      <th>mean</th>\n",
       "    </tr>\n",
       "  </thead>\n",
       "  <tbody>\n",
       "    <tr>\n",
       "      <th>2020-01-01</th>\n",
       "      <td>0.0</td>\n",
       "    </tr>\n",
       "    <tr>\n",
       "      <th>2020-01-02</th>\n",
       "      <td>2.0</td>\n",
       "    </tr>\n",
       "    <tr>\n",
       "      <th>2020-01-03</th>\n",
       "      <td>4.0</td>\n",
       "    </tr>\n",
       "  </tbody>\n",
       "</table>\n",
       "</div>"
      ],
      "text/plain": [
       "            mean\n",
       "2020-01-01   0.0\n",
       "2020-01-02   2.0\n",
       "2020-01-03   4.0"
      ]
     },
     "execution_count": 90,
     "metadata": {},
     "output_type": "execute_result"
    }
   ],
   "source": [
    "ts1.groupby(level=0).agg(['mean'])"
   ]
  },
  {
   "cell_type": "code",
   "execution_count": 101,
   "id": "20a19a3f",
   "metadata": {},
   "outputs": [
    {
     "data": {
      "text/html": [
       "<div>\n",
       "<style scoped>\n",
       "    .dataframe tbody tr th:only-of-type {\n",
       "        vertical-align: middle;\n",
       "    }\n",
       "\n",
       "    .dataframe tbody tr th {\n",
       "        vertical-align: top;\n",
       "    }\n",
       "\n",
       "    .dataframe thead th {\n",
       "        text-align: right;\n",
       "    }\n",
       "</style>\n",
       "<table border=\"1\" class=\"dataframe\">\n",
       "  <thead>\n",
       "    <tr style=\"text-align: right;\">\n",
       "      <th></th>\n",
       "      <th>A</th>\n",
       "      <th>B</th>\n",
       "      <th>C</th>\n",
       "      <th>D</th>\n",
       "    </tr>\n",
       "  </thead>\n",
       "  <tbody>\n",
       "    <tr>\n",
       "      <th>2020-01-05</th>\n",
       "      <td>0.148227</td>\n",
       "      <td>0.353487</td>\n",
       "      <td>-1.087250</td>\n",
       "      <td>0.247096</td>\n",
       "    </tr>\n",
       "    <tr>\n",
       "      <th>2020-01-12</th>\n",
       "      <td>-0.156840</td>\n",
       "      <td>0.437086</td>\n",
       "      <td>-0.846221</td>\n",
       "      <td>2.166546</td>\n",
       "    </tr>\n",
       "    <tr>\n",
       "      <th>2020-01-19</th>\n",
       "      <td>0.334282</td>\n",
       "      <td>-0.377876</td>\n",
       "      <td>0.596387</td>\n",
       "      <td>2.053356</td>\n",
       "    </tr>\n",
       "    <tr>\n",
       "      <th>2020-01-26</th>\n",
       "      <td>-0.040022</td>\n",
       "      <td>-0.576821</td>\n",
       "      <td>-0.060936</td>\n",
       "      <td>0.997778</td>\n",
       "    </tr>\n",
       "    <tr>\n",
       "      <th>2020-02-02</th>\n",
       "      <td>1.775045</td>\n",
       "      <td>-1.337874</td>\n",
       "      <td>0.798311</td>\n",
       "      <td>-1.762909</td>\n",
       "    </tr>\n",
       "    <tr>\n",
       "      <th>...</th>\n",
       "      <td>...</td>\n",
       "      <td>...</td>\n",
       "      <td>...</td>\n",
       "      <td>...</td>\n",
       "    </tr>\n",
       "    <tr>\n",
       "      <th>2039-01-30</th>\n",
       "      <td>0.155212</td>\n",
       "      <td>1.258138</td>\n",
       "      <td>-0.158491</td>\n",
       "      <td>0.071063</td>\n",
       "    </tr>\n",
       "    <tr>\n",
       "      <th>2039-02-06</th>\n",
       "      <td>-1.258006</td>\n",
       "      <td>-0.437371</td>\n",
       "      <td>0.015591</td>\n",
       "      <td>1.482068</td>\n",
       "    </tr>\n",
       "    <tr>\n",
       "      <th>2039-02-13</th>\n",
       "      <td>0.863849</td>\n",
       "      <td>2.036725</td>\n",
       "      <td>0.290465</td>\n",
       "      <td>-0.540561</td>\n",
       "    </tr>\n",
       "    <tr>\n",
       "      <th>2039-02-20</th>\n",
       "      <td>0.208571</td>\n",
       "      <td>-1.696768</td>\n",
       "      <td>-1.027059</td>\n",
       "      <td>-1.800954</td>\n",
       "    </tr>\n",
       "    <tr>\n",
       "      <th>2039-02-27</th>\n",
       "      <td>-0.327729</td>\n",
       "      <td>-0.548552</td>\n",
       "      <td>0.196102</td>\n",
       "      <td>-0.433373</td>\n",
       "    </tr>\n",
       "  </tbody>\n",
       "</table>\n",
       "<p>1000 rows × 4 columns</p>\n",
       "</div>"
      ],
      "text/plain": [
       "                   A         B         C         D\n",
       "2020-01-05  0.148227  0.353487 -1.087250  0.247096\n",
       "2020-01-12 -0.156840  0.437086 -0.846221  2.166546\n",
       "2020-01-19  0.334282 -0.377876  0.596387  2.053356\n",
       "2020-01-26 -0.040022 -0.576821 -0.060936  0.997778\n",
       "2020-02-02  1.775045 -1.337874  0.798311 -1.762909\n",
       "...              ...       ...       ...       ...\n",
       "2039-01-30  0.155212  1.258138 -0.158491  0.071063\n",
       "2039-02-06 -1.258006 -0.437371  0.015591  1.482068\n",
       "2039-02-13  0.863849  2.036725  0.290465 -0.540561\n",
       "2039-02-20  0.208571 -1.696768 -1.027059 -1.800954\n",
       "2039-02-27 -0.327729 -0.548552  0.196102 -0.433373\n",
       "\n",
       "[1000 rows x 4 columns]"
      ]
     },
     "execution_count": 101,
     "metadata": {},
     "output_type": "execute_result"
    }
   ],
   "source": [
    "long_df"
   ]
  },
  {
   "cell_type": "code",
   "execution_count": 113,
   "id": "b8bd6fe3",
   "metadata": {},
   "outputs": [
    {
     "data": {
      "text/plain": [
       "Index(['2020', '2020', '2020', '2020', '2020', '2020', '2020', '2020', '2020',\n",
       "       '2020',\n",
       "       ...\n",
       "       '2038', '2039', '2039', '2039', '2039', '2039', '2039', '2039', '2039',\n",
       "       '2039'],\n",
       "      dtype='object', length=1000)"
      ]
     },
     "execution_count": 113,
     "metadata": {},
     "output_type": "execute_result"
    }
   ],
   "source": [
    "long_df.index.strftime('%Y')"
   ]
  },
  {
   "cell_type": "code",
   "execution_count": 121,
   "id": "1198fda9",
   "metadata": {},
   "outputs": [
    {
     "data": {
      "text/html": [
       "<div>\n",
       "<style scoped>\n",
       "    .dataframe tbody tr th:only-of-type {\n",
       "        vertical-align: middle;\n",
       "    }\n",
       "\n",
       "    .dataframe tbody tr th {\n",
       "        vertical-align: top;\n",
       "    }\n",
       "\n",
       "    .dataframe thead th {\n",
       "        text-align: right;\n",
       "    }\n",
       "</style>\n",
       "<table border=\"1\" class=\"dataframe\">\n",
       "  <thead>\n",
       "    <tr style=\"text-align: right;\">\n",
       "      <th></th>\n",
       "      <th>A</th>\n",
       "      <th>B</th>\n",
       "      <th>C</th>\n",
       "      <th>D</th>\n",
       "    </tr>\n",
       "  </thead>\n",
       "  <tbody>\n",
       "    <tr>\n",
       "      <th>2020</th>\n",
       "      <td>0.024554</td>\n",
       "      <td>0.005122</td>\n",
       "      <td>-0.092790</td>\n",
       "      <td>-0.133829</td>\n",
       "    </tr>\n",
       "    <tr>\n",
       "      <th>2021</th>\n",
       "      <td>0.033037</td>\n",
       "      <td>0.117457</td>\n",
       "      <td>-0.273862</td>\n",
       "      <td>-0.185780</td>\n",
       "    </tr>\n",
       "    <tr>\n",
       "      <th>2022</th>\n",
       "      <td>0.076706</td>\n",
       "      <td>-0.104378</td>\n",
       "      <td>0.047638</td>\n",
       "      <td>0.151843</td>\n",
       "    </tr>\n",
       "    <tr>\n",
       "      <th>2023</th>\n",
       "      <td>0.083147</td>\n",
       "      <td>-0.165106</td>\n",
       "      <td>-0.370598</td>\n",
       "      <td>-0.242708</td>\n",
       "    </tr>\n",
       "    <tr>\n",
       "      <th>2024</th>\n",
       "      <td>0.210337</td>\n",
       "      <td>-0.036458</td>\n",
       "      <td>0.157537</td>\n",
       "      <td>0.019557</td>\n",
       "    </tr>\n",
       "    <tr>\n",
       "      <th>2025</th>\n",
       "      <td>-0.245543</td>\n",
       "      <td>-0.144736</td>\n",
       "      <td>0.147446</td>\n",
       "      <td>-0.119586</td>\n",
       "    </tr>\n",
       "    <tr>\n",
       "      <th>2026</th>\n",
       "      <td>0.091039</td>\n",
       "      <td>0.027172</td>\n",
       "      <td>0.037344</td>\n",
       "      <td>0.046703</td>\n",
       "    </tr>\n",
       "    <tr>\n",
       "      <th>2027</th>\n",
       "      <td>0.084084</td>\n",
       "      <td>-0.078278</td>\n",
       "      <td>-0.036839</td>\n",
       "      <td>0.105092</td>\n",
       "    </tr>\n",
       "    <tr>\n",
       "      <th>2028</th>\n",
       "      <td>0.160584</td>\n",
       "      <td>0.115903</td>\n",
       "      <td>0.010349</td>\n",
       "      <td>-0.146212</td>\n",
       "    </tr>\n",
       "    <tr>\n",
       "      <th>2029</th>\n",
       "      <td>0.148648</td>\n",
       "      <td>0.076492</td>\n",
       "      <td>0.046024</td>\n",
       "      <td>-0.080560</td>\n",
       "    </tr>\n",
       "    <tr>\n",
       "      <th>2030</th>\n",
       "      <td>-0.204292</td>\n",
       "      <td>-0.044631</td>\n",
       "      <td>0.161775</td>\n",
       "      <td>0.130989</td>\n",
       "    </tr>\n",
       "    <tr>\n",
       "      <th>2031</th>\n",
       "      <td>-0.202035</td>\n",
       "      <td>0.225665</td>\n",
       "      <td>-0.122544</td>\n",
       "      <td>0.183856</td>\n",
       "    </tr>\n",
       "    <tr>\n",
       "      <th>2032</th>\n",
       "      <td>-0.135534</td>\n",
       "      <td>0.130412</td>\n",
       "      <td>-0.023496</td>\n",
       "      <td>0.131628</td>\n",
       "    </tr>\n",
       "    <tr>\n",
       "      <th>2033</th>\n",
       "      <td>-0.094442</td>\n",
       "      <td>0.127150</td>\n",
       "      <td>-0.257406</td>\n",
       "      <td>-0.220689</td>\n",
       "    </tr>\n",
       "    <tr>\n",
       "      <th>2034</th>\n",
       "      <td>0.095295</td>\n",
       "      <td>-0.094657</td>\n",
       "      <td>0.174733</td>\n",
       "      <td>0.141887</td>\n",
       "    </tr>\n",
       "    <tr>\n",
       "      <th>2035</th>\n",
       "      <td>-0.043969</td>\n",
       "      <td>-0.017391</td>\n",
       "      <td>0.121333</td>\n",
       "      <td>-0.185053</td>\n",
       "    </tr>\n",
       "    <tr>\n",
       "      <th>2036</th>\n",
       "      <td>0.247291</td>\n",
       "      <td>0.040591</td>\n",
       "      <td>-0.189966</td>\n",
       "      <td>0.105699</td>\n",
       "    </tr>\n",
       "    <tr>\n",
       "      <th>2037</th>\n",
       "      <td>-0.081196</td>\n",
       "      <td>-0.075087</td>\n",
       "      <td>-0.070590</td>\n",
       "      <td>-0.021132</td>\n",
       "    </tr>\n",
       "    <tr>\n",
       "      <th>2038</th>\n",
       "      <td>-0.176009</td>\n",
       "      <td>-0.274269</td>\n",
       "      <td>0.029313</td>\n",
       "      <td>-0.052537</td>\n",
       "    </tr>\n",
       "    <tr>\n",
       "      <th>2039</th>\n",
       "      <td>0.331209</td>\n",
       "      <td>0.281963</td>\n",
       "      <td>0.342226</td>\n",
       "      <td>-0.034403</td>\n",
       "    </tr>\n",
       "  </tbody>\n",
       "</table>\n",
       "</div>"
      ],
      "text/plain": [
       "             A         B         C         D\n",
       "2020  0.024554  0.005122 -0.092790 -0.133829\n",
       "2021  0.033037  0.117457 -0.273862 -0.185780\n",
       "2022  0.076706 -0.104378  0.047638  0.151843\n",
       "2023  0.083147 -0.165106 -0.370598 -0.242708\n",
       "2024  0.210337 -0.036458  0.157537  0.019557\n",
       "2025 -0.245543 -0.144736  0.147446 -0.119586\n",
       "2026  0.091039  0.027172  0.037344  0.046703\n",
       "2027  0.084084 -0.078278 -0.036839  0.105092\n",
       "2028  0.160584  0.115903  0.010349 -0.146212\n",
       "2029  0.148648  0.076492  0.046024 -0.080560\n",
       "2030 -0.204292 -0.044631  0.161775  0.130989\n",
       "2031 -0.202035  0.225665 -0.122544  0.183856\n",
       "2032 -0.135534  0.130412 -0.023496  0.131628\n",
       "2033 -0.094442  0.127150 -0.257406 -0.220689\n",
       "2034  0.095295 -0.094657  0.174733  0.141887\n",
       "2035 -0.043969 -0.017391  0.121333 -0.185053\n",
       "2036  0.247291  0.040591 -0.189966  0.105699\n",
       "2037 -0.081196 -0.075087 -0.070590 -0.021132\n",
       "2038 -0.176009 -0.274269  0.029313 -0.052537\n",
       "2039  0.331209  0.281963  0.342226 -0.034403"
      ]
     },
     "execution_count": 121,
     "metadata": {},
     "output_type": "execute_result"
    }
   ],
   "source": [
    "long_df.groupby(long_df.index.strftime('%Y')).mean()"
   ]
  },
  {
   "cell_type": "code",
   "execution_count": 119,
   "id": "8fbdbf53",
   "metadata": {},
   "outputs": [
    {
     "data": {
      "text/plain": [
       "Index(['2020', '2020', '2020', '2020', '2020', '2020', '2020', '2020', '2020',\n",
       "       '2020',\n",
       "       ...\n",
       "       '2038', '2039', '2039', '2039', '2039', '2039', '2039', '2039', '2039',\n",
       "       '2039'],\n",
       "      dtype='object', length=1000)"
      ]
     },
     "execution_count": 119,
     "metadata": {},
     "output_type": "execute_result"
    }
   ],
   "source": [
    "long_df.index.astype('str').str.slice(0,4)"
   ]
  },
  {
   "cell_type": "code",
   "execution_count": 123,
   "id": "d12aefe8",
   "metadata": {},
   "outputs": [
    {
     "data": {
      "text/html": [
       "<div>\n",
       "<style scoped>\n",
       "    .dataframe tbody tr th:only-of-type {\n",
       "        vertical-align: middle;\n",
       "    }\n",
       "\n",
       "    .dataframe tbody tr th {\n",
       "        vertical-align: top;\n",
       "    }\n",
       "\n",
       "    .dataframe thead tr th {\n",
       "        text-align: left;\n",
       "    }\n",
       "</style>\n",
       "<table border=\"1\" class=\"dataframe\">\n",
       "  <thead>\n",
       "    <tr>\n",
       "      <th></th>\n",
       "      <th>A</th>\n",
       "      <th>B</th>\n",
       "      <th>C</th>\n",
       "      <th>D</th>\n",
       "    </tr>\n",
       "    <tr>\n",
       "      <th></th>\n",
       "      <th>mean</th>\n",
       "      <th>mean</th>\n",
       "      <th>mean</th>\n",
       "      <th>mean</th>\n",
       "    </tr>\n",
       "  </thead>\n",
       "  <tbody>\n",
       "    <tr>\n",
       "      <th>2020</th>\n",
       "      <td>0.024554</td>\n",
       "      <td>0.005122</td>\n",
       "      <td>-0.092790</td>\n",
       "      <td>-0.133829</td>\n",
       "    </tr>\n",
       "    <tr>\n",
       "      <th>2021</th>\n",
       "      <td>0.033037</td>\n",
       "      <td>0.117457</td>\n",
       "      <td>-0.273862</td>\n",
       "      <td>-0.185780</td>\n",
       "    </tr>\n",
       "    <tr>\n",
       "      <th>2022</th>\n",
       "      <td>0.076706</td>\n",
       "      <td>-0.104378</td>\n",
       "      <td>0.047638</td>\n",
       "      <td>0.151843</td>\n",
       "    </tr>\n",
       "    <tr>\n",
       "      <th>2023</th>\n",
       "      <td>0.083147</td>\n",
       "      <td>-0.165106</td>\n",
       "      <td>-0.370598</td>\n",
       "      <td>-0.242708</td>\n",
       "    </tr>\n",
       "    <tr>\n",
       "      <th>2024</th>\n",
       "      <td>0.210337</td>\n",
       "      <td>-0.036458</td>\n",
       "      <td>0.157537</td>\n",
       "      <td>0.019557</td>\n",
       "    </tr>\n",
       "    <tr>\n",
       "      <th>2025</th>\n",
       "      <td>-0.245543</td>\n",
       "      <td>-0.144736</td>\n",
       "      <td>0.147446</td>\n",
       "      <td>-0.119586</td>\n",
       "    </tr>\n",
       "    <tr>\n",
       "      <th>2026</th>\n",
       "      <td>0.091039</td>\n",
       "      <td>0.027172</td>\n",
       "      <td>0.037344</td>\n",
       "      <td>0.046703</td>\n",
       "    </tr>\n",
       "    <tr>\n",
       "      <th>2027</th>\n",
       "      <td>0.084084</td>\n",
       "      <td>-0.078278</td>\n",
       "      <td>-0.036839</td>\n",
       "      <td>0.105092</td>\n",
       "    </tr>\n",
       "    <tr>\n",
       "      <th>2028</th>\n",
       "      <td>0.160584</td>\n",
       "      <td>0.115903</td>\n",
       "      <td>0.010349</td>\n",
       "      <td>-0.146212</td>\n",
       "    </tr>\n",
       "    <tr>\n",
       "      <th>2029</th>\n",
       "      <td>0.148648</td>\n",
       "      <td>0.076492</td>\n",
       "      <td>0.046024</td>\n",
       "      <td>-0.080560</td>\n",
       "    </tr>\n",
       "    <tr>\n",
       "      <th>2030</th>\n",
       "      <td>-0.204292</td>\n",
       "      <td>-0.044631</td>\n",
       "      <td>0.161775</td>\n",
       "      <td>0.130989</td>\n",
       "    </tr>\n",
       "    <tr>\n",
       "      <th>2031</th>\n",
       "      <td>-0.202035</td>\n",
       "      <td>0.225665</td>\n",
       "      <td>-0.122544</td>\n",
       "      <td>0.183856</td>\n",
       "    </tr>\n",
       "    <tr>\n",
       "      <th>2032</th>\n",
       "      <td>-0.135534</td>\n",
       "      <td>0.130412</td>\n",
       "      <td>-0.023496</td>\n",
       "      <td>0.131628</td>\n",
       "    </tr>\n",
       "    <tr>\n",
       "      <th>2033</th>\n",
       "      <td>-0.094442</td>\n",
       "      <td>0.127150</td>\n",
       "      <td>-0.257406</td>\n",
       "      <td>-0.220689</td>\n",
       "    </tr>\n",
       "    <tr>\n",
       "      <th>2034</th>\n",
       "      <td>0.095295</td>\n",
       "      <td>-0.094657</td>\n",
       "      <td>0.174733</td>\n",
       "      <td>0.141887</td>\n",
       "    </tr>\n",
       "    <tr>\n",
       "      <th>2035</th>\n",
       "      <td>-0.043969</td>\n",
       "      <td>-0.017391</td>\n",
       "      <td>0.121333</td>\n",
       "      <td>-0.185053</td>\n",
       "    </tr>\n",
       "    <tr>\n",
       "      <th>2036</th>\n",
       "      <td>0.247291</td>\n",
       "      <td>0.040591</td>\n",
       "      <td>-0.189966</td>\n",
       "      <td>0.105699</td>\n",
       "    </tr>\n",
       "    <tr>\n",
       "      <th>2037</th>\n",
       "      <td>-0.081196</td>\n",
       "      <td>-0.075087</td>\n",
       "      <td>-0.070590</td>\n",
       "      <td>-0.021132</td>\n",
       "    </tr>\n",
       "    <tr>\n",
       "      <th>2038</th>\n",
       "      <td>-0.176009</td>\n",
       "      <td>-0.274269</td>\n",
       "      <td>0.029313</td>\n",
       "      <td>-0.052537</td>\n",
       "    </tr>\n",
       "    <tr>\n",
       "      <th>2039</th>\n",
       "      <td>0.331209</td>\n",
       "      <td>0.281963</td>\n",
       "      <td>0.342226</td>\n",
       "      <td>-0.034403</td>\n",
       "    </tr>\n",
       "  </tbody>\n",
       "</table>\n",
       "</div>"
      ],
      "text/plain": [
       "             A         B         C         D\n",
       "          mean      mean      mean      mean\n",
       "2020  0.024554  0.005122 -0.092790 -0.133829\n",
       "2021  0.033037  0.117457 -0.273862 -0.185780\n",
       "2022  0.076706 -0.104378  0.047638  0.151843\n",
       "2023  0.083147 -0.165106 -0.370598 -0.242708\n",
       "2024  0.210337 -0.036458  0.157537  0.019557\n",
       "2025 -0.245543 -0.144736  0.147446 -0.119586\n",
       "2026  0.091039  0.027172  0.037344  0.046703\n",
       "2027  0.084084 -0.078278 -0.036839  0.105092\n",
       "2028  0.160584  0.115903  0.010349 -0.146212\n",
       "2029  0.148648  0.076492  0.046024 -0.080560\n",
       "2030 -0.204292 -0.044631  0.161775  0.130989\n",
       "2031 -0.202035  0.225665 -0.122544  0.183856\n",
       "2032 -0.135534  0.130412 -0.023496  0.131628\n",
       "2033 -0.094442  0.127150 -0.257406 -0.220689\n",
       "2034  0.095295 -0.094657  0.174733  0.141887\n",
       "2035 -0.043969 -0.017391  0.121333 -0.185053\n",
       "2036  0.247291  0.040591 -0.189966  0.105699\n",
       "2037 -0.081196 -0.075087 -0.070590 -0.021132\n",
       "2038 -0.176009 -0.274269  0.029313 -0.052537\n",
       "2039  0.331209  0.281963  0.342226 -0.034403"
      ]
     },
     "execution_count": 123,
     "metadata": {},
     "output_type": "execute_result"
    }
   ],
   "source": [
    "long_df.groupby(long_df.index.astype('str').str.slice(0,4)).agg(['mean'])"
   ]
  },
  {
   "cell_type": "code",
   "execution_count": null,
   "id": "5415a88b",
   "metadata": {},
   "outputs": [],
   "source": []
  }
 ],
 "metadata": {
  "kernelspec": {
   "display_name": "Python 3 (ipykernel)",
   "language": "python",
   "name": "python3"
  },
  "language_info": {
   "codemirror_mode": {
    "name": "ipython",
    "version": 3
   },
   "file_extension": ".py",
   "mimetype": "text/x-python",
   "name": "python",
   "nbconvert_exporter": "python",
   "pygments_lexer": "ipython3",
   "version": "3.11.5"
  }
 },
 "nbformat": 4,
 "nbformat_minor": 5
}
