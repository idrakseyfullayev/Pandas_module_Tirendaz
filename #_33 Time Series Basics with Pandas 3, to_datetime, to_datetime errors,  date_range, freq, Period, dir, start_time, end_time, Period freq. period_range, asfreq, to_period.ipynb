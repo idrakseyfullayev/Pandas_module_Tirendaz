{
 "cells": [
  {
   "cell_type": "code",
   "execution_count": 1,
   "id": "dc39b2e4",
   "metadata": {},
   "outputs": [],
   "source": [
    "import pandas as pd; import numpy as np"
   ]
  },
  {
   "cell_type": "code",
   "execution_count": 2,
   "id": "98afcf80",
   "metadata": {},
   "outputs": [
    {
     "name": "stderr",
     "output_type": "stream",
     "text": [
      "C:\\Users\\dell\\AppData\\Local\\Temp\\ipykernel_5836\\2785701148.py:1: UserWarning: Parsing dates in %d/%m/%Y format when dayfirst=False (the default) was specified. Pass `dayfirst=True` or specify a format to silence this warning.\n",
      "  pd.to_datetime('15/08/2019')\n"
     ]
    },
    {
     "data": {
      "text/plain": [
       "Timestamp('2019-08-15 00:00:00')"
      ]
     },
     "execution_count": 2,
     "metadata": {},
     "output_type": "execute_result"
    }
   ],
   "source": [
    "pd.to_datetime('15/08/2019')"
   ]
  },
  {
   "cell_type": "code",
   "execution_count": 57,
   "id": "a62803df",
   "metadata": {},
   "outputs": [],
   "source": [
    "date=[datetime(2020,7,5),\n",
    "     \"11th of July, 2020\",\n",
    "     \"2020-Jul-3\",\n",
    "     \"20200708\"]"
   ]
  },
  {
   "cell_type": "code",
   "execution_count": 58,
   "id": "aa97b747",
   "metadata": {},
   "outputs": [
    {
     "data": {
      "text/plain": [
       "DatetimeIndex(['2020-07-05', '2020-07-11', '2020-07-03', '2020-07-08'], dtype='datetime64[ns]', freq=None)"
      ]
     },
     "execution_count": 58,
     "metadata": {},
     "output_type": "execute_result"
    }
   ],
   "source": [
    "pd.to_datetime(date)"
   ]
  },
  {
   "cell_type": "code",
   "execution_count": 61,
   "id": "9f46bb82",
   "metadata": {},
   "outputs": [
    {
     "data": {
      "text/plain": [
       "Timestamp('2019-03-05 00:00:00')"
      ]
     },
     "execution_count": 61,
     "metadata": {},
     "output_type": "execute_result"
    }
   ],
   "source": [
    "pd.to_datetime(\"03/05/2019\")"
   ]
  },
  {
   "cell_type": "code",
   "execution_count": 62,
   "id": "45c628d6",
   "metadata": {},
   "outputs": [
    {
     "data": {
      "text/plain": [
       "Timestamp('2019-05-03 00:00:00')"
      ]
     },
     "execution_count": 62,
     "metadata": {},
     "output_type": "execute_result"
    }
   ],
   "source": [
    "pd.to_datetime(\"03/05/2019\", dayfirst=True)"
   ]
  },
  {
   "cell_type": "code",
   "execution_count": 64,
   "id": "519f783b",
   "metadata": {},
   "outputs": [
    {
     "data": {
      "text/plain": [
       "Timestamp('2019-03-05 00:00:00')"
      ]
     },
     "execution_count": 64,
     "metadata": {},
     "output_type": "execute_result"
    }
   ],
   "source": [
    "pd.to_datetime(\"05*03*2019\", format='%d*%m*%Y')"
   ]
  },
  {
   "cell_type": "code",
   "execution_count": 65,
   "id": "196b6201",
   "metadata": {},
   "outputs": [
    {
     "data": {
      "text/plain": [
       "Timestamp('2019-03-05 00:00:00')"
      ]
     },
     "execution_count": 65,
     "metadata": {},
     "output_type": "execute_result"
    }
   ],
   "source": [
    "pd.to_datetime(\"05$03$2019\", \n",
    "               format=\"%d$%m$%Y\")"
   ]
  },
  {
   "cell_type": "code",
   "execution_count": 66,
   "id": "17b8d7d0",
   "metadata": {},
   "outputs": [],
   "source": [
    "date=[\"2019-01-05\",\n",
    "     \"jan 6, 2019\",\n",
    "     \"7/05/2019\",\n",
    "     \"2019/01/9\",\n",
    "     \"20190110\"]"
   ]
  },
  {
   "cell_type": "code",
   "execution_count": 70,
   "id": "ed858fea",
   "metadata": {},
   "outputs": [
    {
     "data": {
      "text/plain": [
       "Index(['2019-01-05', 'jan 6, 2019', '7/05/2019', '2019/01/9', '20190110'], dtype='object')"
      ]
     },
     "execution_count": 70,
     "metadata": {},
     "output_type": "execute_result"
    }
   ],
   "source": [
    "pd.to_datetime(date, errors='ignore')"
   ]
  },
  {
   "cell_type": "code",
   "execution_count": 71,
   "id": "7f41dab4",
   "metadata": {},
   "outputs": [],
   "source": [
    "date=[datetime(2020,7,5),\n",
    "     \"11th of July, 2020\",\n",
    "     \"2020-Jul-3\",\n",
    "     \"20200708\", 'xyz']"
   ]
  },
  {
   "cell_type": "code",
   "execution_count": 72,
   "id": "08d12158",
   "metadata": {},
   "outputs": [
    {
     "ename": "DateParseError",
     "evalue": "Unknown datetime string format, unable to parse: xyz, at position 4",
     "output_type": "error",
     "traceback": [
      "\u001b[1;31m---------------------------------------------------------------------------\u001b[0m",
      "\u001b[1;31mDateParseError\u001b[0m                            Traceback (most recent call last)",
      "Cell \u001b[1;32mIn[72], line 1\u001b[0m\n\u001b[1;32m----> 1\u001b[0m pd\u001b[38;5;241m.\u001b[39mto_datetime(date)\n",
      "File \u001b[1;32m~\\anaconda3\\Lib\\site-packages\\pandas\\core\\tools\\datetimes.py:1082\u001b[0m, in \u001b[0;36mto_datetime\u001b[1;34m(arg, errors, dayfirst, yearfirst, utc, format, exact, unit, infer_datetime_format, origin, cache)\u001b[0m\n\u001b[0;32m   1080\u001b[0m         result \u001b[38;5;241m=\u001b[39m _convert_and_box_cache(argc, cache_array)\n\u001b[0;32m   1081\u001b[0m     \u001b[38;5;28;01melse\u001b[39;00m:\n\u001b[1;32m-> 1082\u001b[0m         result \u001b[38;5;241m=\u001b[39m convert_listlike(argc, \u001b[38;5;28mformat\u001b[39m)\n\u001b[0;32m   1083\u001b[0m \u001b[38;5;28;01melse\u001b[39;00m:\n\u001b[0;32m   1084\u001b[0m     result \u001b[38;5;241m=\u001b[39m convert_listlike(np\u001b[38;5;241m.\u001b[39marray([arg]), \u001b[38;5;28mformat\u001b[39m)[\u001b[38;5;241m0\u001b[39m]\n",
      "File \u001b[1;32m~\\anaconda3\\Lib\\site-packages\\pandas\\core\\tools\\datetimes.py:455\u001b[0m, in \u001b[0;36m_convert_listlike_datetimes\u001b[1;34m(arg, format, name, utc, unit, errors, dayfirst, yearfirst, exact)\u001b[0m\n\u001b[0;32m    452\u001b[0m \u001b[38;5;28;01mif\u001b[39;00m \u001b[38;5;28mformat\u001b[39m \u001b[38;5;129;01mis\u001b[39;00m \u001b[38;5;129;01mnot\u001b[39;00m \u001b[38;5;28;01mNone\u001b[39;00m \u001b[38;5;129;01mand\u001b[39;00m \u001b[38;5;28mformat\u001b[39m \u001b[38;5;241m!=\u001b[39m \u001b[38;5;124m\"\u001b[39m\u001b[38;5;124mmixed\u001b[39m\u001b[38;5;124m\"\u001b[39m:\n\u001b[0;32m    453\u001b[0m     \u001b[38;5;28;01mreturn\u001b[39;00m _array_strptime_with_fallback(arg, name, utc, \u001b[38;5;28mformat\u001b[39m, exact, errors)\n\u001b[1;32m--> 455\u001b[0m result, tz_parsed \u001b[38;5;241m=\u001b[39m objects_to_datetime64ns(\n\u001b[0;32m    456\u001b[0m     arg,\n\u001b[0;32m    457\u001b[0m     dayfirst\u001b[38;5;241m=\u001b[39mdayfirst,\n\u001b[0;32m    458\u001b[0m     yearfirst\u001b[38;5;241m=\u001b[39myearfirst,\n\u001b[0;32m    459\u001b[0m     utc\u001b[38;5;241m=\u001b[39mutc,\n\u001b[0;32m    460\u001b[0m     errors\u001b[38;5;241m=\u001b[39merrors,\n\u001b[0;32m    461\u001b[0m     allow_object\u001b[38;5;241m=\u001b[39m\u001b[38;5;28;01mTrue\u001b[39;00m,\n\u001b[0;32m    462\u001b[0m )\n\u001b[0;32m    464\u001b[0m \u001b[38;5;28;01mif\u001b[39;00m tz_parsed \u001b[38;5;129;01mis\u001b[39;00m \u001b[38;5;129;01mnot\u001b[39;00m \u001b[38;5;28;01mNone\u001b[39;00m:\n\u001b[0;32m    465\u001b[0m     \u001b[38;5;66;03m# We can take a shortcut since the datetime64 numpy array\u001b[39;00m\n\u001b[0;32m    466\u001b[0m     \u001b[38;5;66;03m# is in UTC\u001b[39;00m\n\u001b[0;32m    467\u001b[0m     dta \u001b[38;5;241m=\u001b[39m DatetimeArray(result, dtype\u001b[38;5;241m=\u001b[39mtz_to_dtype(tz_parsed))\n",
      "File \u001b[1;32m~\\anaconda3\\Lib\\site-packages\\pandas\\core\\arrays\\datetimes.py:2177\u001b[0m, in \u001b[0;36mobjects_to_datetime64ns\u001b[1;34m(data, dayfirst, yearfirst, utc, errors, allow_object)\u001b[0m\n\u001b[0;32m   2174\u001b[0m \u001b[38;5;66;03m# if str-dtype, convert\u001b[39;00m\n\u001b[0;32m   2175\u001b[0m data \u001b[38;5;241m=\u001b[39m np\u001b[38;5;241m.\u001b[39marray(data, copy\u001b[38;5;241m=\u001b[39m\u001b[38;5;28;01mFalse\u001b[39;00m, dtype\u001b[38;5;241m=\u001b[39mnp\u001b[38;5;241m.\u001b[39mobject_)\n\u001b[1;32m-> 2177\u001b[0m result, tz_parsed \u001b[38;5;241m=\u001b[39m tslib\u001b[38;5;241m.\u001b[39marray_to_datetime(\n\u001b[0;32m   2178\u001b[0m     data,\n\u001b[0;32m   2179\u001b[0m     errors\u001b[38;5;241m=\u001b[39merrors,\n\u001b[0;32m   2180\u001b[0m     utc\u001b[38;5;241m=\u001b[39mutc,\n\u001b[0;32m   2181\u001b[0m     dayfirst\u001b[38;5;241m=\u001b[39mdayfirst,\n\u001b[0;32m   2182\u001b[0m     yearfirst\u001b[38;5;241m=\u001b[39myearfirst,\n\u001b[0;32m   2183\u001b[0m )\n\u001b[0;32m   2185\u001b[0m \u001b[38;5;28;01mif\u001b[39;00m tz_parsed \u001b[38;5;129;01mis\u001b[39;00m \u001b[38;5;129;01mnot\u001b[39;00m \u001b[38;5;28;01mNone\u001b[39;00m:\n\u001b[0;32m   2186\u001b[0m     \u001b[38;5;66;03m# We can take a shortcut since the datetime64 numpy array\u001b[39;00m\n\u001b[0;32m   2187\u001b[0m     \u001b[38;5;66;03m#  is in UTC\u001b[39;00m\n\u001b[0;32m   2188\u001b[0m     \u001b[38;5;66;03m# Return i8 values to denote unix timestamps\u001b[39;00m\n\u001b[0;32m   2189\u001b[0m     \u001b[38;5;28;01mreturn\u001b[39;00m result\u001b[38;5;241m.\u001b[39mview(\u001b[38;5;124m\"\u001b[39m\u001b[38;5;124mi8\u001b[39m\u001b[38;5;124m\"\u001b[39m), tz_parsed\n",
      "File \u001b[1;32m~\\anaconda3\\Lib\\site-packages\\pandas\\_libs\\tslib.pyx:402\u001b[0m, in \u001b[0;36mpandas._libs.tslib.array_to_datetime\u001b[1;34m()\u001b[0m\n",
      "File \u001b[1;32m~\\anaconda3\\Lib\\site-packages\\pandas\\_libs\\tslib.pyx:551\u001b[0m, in \u001b[0;36mpandas._libs.tslib.array_to_datetime\u001b[1;34m()\u001b[0m\n",
      "File \u001b[1;32m~\\anaconda3\\Lib\\site-packages\\pandas\\_libs\\tslib.pyx:516\u001b[0m, in \u001b[0;36mpandas._libs.tslib.array_to_datetime\u001b[1;34m()\u001b[0m\n",
      "File \u001b[1;32m~\\anaconda3\\Lib\\site-packages\\pandas\\_libs\\tslibs\\conversion.pyx:557\u001b[0m, in \u001b[0;36mpandas._libs.tslibs.conversion.convert_str_to_tsobject\u001b[1;34m()\u001b[0m\n",
      "File \u001b[1;32m~\\anaconda3\\Lib\\site-packages\\pandas\\_libs\\tslibs\\parsing.pyx:329\u001b[0m, in \u001b[0;36mpandas._libs.tslibs.parsing.parse_datetime_string\u001b[1;34m()\u001b[0m\n",
      "File \u001b[1;32m~\\anaconda3\\Lib\\site-packages\\pandas\\_libs\\tslibs\\parsing.pyx:658\u001b[0m, in \u001b[0;36mpandas._libs.tslibs.parsing.dateutil_parse\u001b[1;34m()\u001b[0m\n",
      "\u001b[1;31mDateParseError\u001b[0m: Unknown datetime string format, unable to parse: xyz, at position 4"
     ]
    }
   ],
   "source": [
    "pd.to_datetime(date)"
   ]
  },
  {
   "cell_type": "code",
   "execution_count": 73,
   "id": "ffb0da71",
   "metadata": {},
   "outputs": [
    {
     "data": {
      "text/plain": [
       "Index([2020-07-05 00:00:00, '11th of July, 2020', '2020-Jul-3', '20200708',\n",
       "       'xyz'],\n",
       "      dtype='object')"
      ]
     },
     "execution_count": 73,
     "metadata": {},
     "output_type": "execute_result"
    }
   ],
   "source": [
    "pd.to_datetime(date, errors='ignore')"
   ]
  },
  {
   "cell_type": "code",
   "execution_count": 75,
   "id": "d9252c75",
   "metadata": {},
   "outputs": [
    {
     "data": {
      "text/plain": [
       "DatetimeIndex(['2020-07-05', '2020-07-11', '2020-07-03', '2020-07-08', 'NaT'], dtype='datetime64[ns]', freq=None)"
      ]
     },
     "execution_count": 75,
     "metadata": {},
     "output_type": "execute_result"
    }
   ],
   "source": [
    "pd.to_datetime(date, errors='coerce')"
   ]
  },
  {
   "cell_type": "code",
   "execution_count": 76,
   "id": "0f08a050",
   "metadata": {},
   "outputs": [],
   "source": [
    "t = 1000000000"
   ]
  },
  {
   "cell_type": "code",
   "execution_count": 77,
   "id": "47b57c7b",
   "metadata": {},
   "outputs": [
    {
     "data": {
      "text/plain": [
       "Timestamp('2001-09-09 01:46:40')"
      ]
     },
     "execution_count": 77,
     "metadata": {},
     "output_type": "execute_result"
    }
   ],
   "source": [
    "pd.to_datetime(t, unit='s')"
   ]
  },
  {
   "cell_type": "code",
   "execution_count": 83,
   "id": "367d6045",
   "metadata": {},
   "outputs": [
    {
     "data": {
      "text/plain": [
       "Timestamp('1970-01-12 13:46:40')"
      ]
     },
     "execution_count": 83,
     "metadata": {},
     "output_type": "execute_result"
    }
   ],
   "source": [
    "pd.to_datetime(t, unit='ms')"
   ]
  },
  {
   "cell_type": "code",
   "execution_count": 85,
   "id": "ec507d7a",
   "metadata": {},
   "outputs": [
    {
     "data": {
      "text/plain": [
       "DatetimeIndex(['2010-01-01 00:00:00', '2010-01-01 04:00:00',\n",
       "               '2010-01-01 08:00:00', '2010-01-01 12:00:00',\n",
       "               '2010-01-01 16:00:00', '2010-01-01 20:00:00',\n",
       "               '2010-01-02 00:00:00', '2010-01-02 04:00:00',\n",
       "               '2010-01-02 08:00:00', '2010-01-02 12:00:00',\n",
       "               '2010-01-02 16:00:00', '2010-01-02 20:00:00',\n",
       "               '2010-01-03 00:00:00'],\n",
       "              dtype='datetime64[ns]', freq='4H')"
      ]
     },
     "execution_count": 85,
     "metadata": {},
     "output_type": "execute_result"
    }
   ],
   "source": [
    "pd.date_range('2010-01-01', '2010-01-03', freq='4h')"
   ]
  },
  {
   "cell_type": "code",
   "execution_count": 87,
   "id": "ced8845a",
   "metadata": {},
   "outputs": [
    {
     "data": {
      "text/plain": [
       "DatetimeIndex(['2010-01-24', '2010-02-28', '2010-03-28', '2010-04-25',\n",
       "               '2010-05-23', '2010-06-27', '2010-07-25', '2010-08-22'],\n",
       "              dtype='datetime64[ns]', freq='WOM-4SUN')"
      ]
     },
     "execution_count": 87,
     "metadata": {},
     "output_type": "execute_result"
    }
   ],
   "source": [
    "pd.date_range('2010-01-01', '2010-09-03', freq='WOM-4SUN')"
   ]
  },
  {
   "cell_type": "code",
   "execution_count": 94,
   "id": "23271be8",
   "metadata": {},
   "outputs": [
    {
     "data": {
      "text/plain": [
       "Period('2020', 'A-DEC')"
      ]
     },
     "execution_count": 94,
     "metadata": {},
     "output_type": "execute_result"
    }
   ],
   "source": [
    "p=pd.Period(2020)\n",
    "p"
   ]
  },
  {
   "cell_type": "code",
   "execution_count": 95,
   "id": "467856c8",
   "metadata": {},
   "outputs": [
    {
     "data": {
      "text/plain": [
       "['__add__',\n",
       " '__array_priority__',\n",
       " '__class__',\n",
       " '__delattr__',\n",
       " '__dict__',\n",
       " '__dir__',\n",
       " '__doc__',\n",
       " '__eq__',\n",
       " '__format__',\n",
       " '__ge__',\n",
       " '__getattribute__',\n",
       " '__getstate__',\n",
       " '__gt__',\n",
       " '__hash__',\n",
       " '__init__',\n",
       " '__init_subclass__',\n",
       " '__le__',\n",
       " '__lt__',\n",
       " '__module__',\n",
       " '__ne__',\n",
       " '__new__',\n",
       " '__radd__',\n",
       " '__reduce__',\n",
       " '__reduce_ex__',\n",
       " '__repr__',\n",
       " '__rsub__',\n",
       " '__setattr__',\n",
       " '__setstate__',\n",
       " '__sizeof__',\n",
       " '__str__',\n",
       " '__sub__',\n",
       " '__subclasshook__',\n",
       " '__weakref__',\n",
       " '_add_offset',\n",
       " '_add_timedeltalike_scalar',\n",
       " '_dtype',\n",
       " '_from_ordinal',\n",
       " '_maybe_convert_freq',\n",
       " '_require_matching_freq',\n",
       " 'asfreq',\n",
       " 'day',\n",
       " 'day_of_week',\n",
       " 'day_of_year',\n",
       " 'dayofweek',\n",
       " 'dayofyear',\n",
       " 'days_in_month',\n",
       " 'daysinmonth',\n",
       " 'end_time',\n",
       " 'freq',\n",
       " 'freqstr',\n",
       " 'hour',\n",
       " 'is_leap_year',\n",
       " 'minute',\n",
       " 'month',\n",
       " 'now',\n",
       " 'ordinal',\n",
       " 'quarter',\n",
       " 'qyear',\n",
       " 'second',\n",
       " 'start_time',\n",
       " 'strftime',\n",
       " 'to_timestamp',\n",
       " 'week',\n",
       " 'weekday',\n",
       " 'weekofyear',\n",
       " 'year']"
      ]
     },
     "execution_count": 95,
     "metadata": {},
     "output_type": "execute_result"
    }
   ],
   "source": [
    "dir(p)"
   ]
  },
  {
   "cell_type": "code",
   "execution_count": 98,
   "id": "39ec3dfe",
   "metadata": {},
   "outputs": [
    {
     "data": {
      "text/plain": [
       "Timestamp('2020-01-01 00:00:00')"
      ]
     },
     "execution_count": 98,
     "metadata": {},
     "output_type": "execute_result"
    }
   ],
   "source": [
    "p.start_time"
   ]
  },
  {
   "cell_type": "code",
   "execution_count": 99,
   "id": "53e3905f",
   "metadata": {},
   "outputs": [
    {
     "data": {
      "text/plain": [
       "Timestamp('2020-12-31 23:59:59.999999999')"
      ]
     },
     "execution_count": 99,
     "metadata": {},
     "output_type": "execute_result"
    }
   ],
   "source": [
    "p.end_time"
   ]
  },
  {
   "cell_type": "code",
   "execution_count": 113,
   "id": "9f032702",
   "metadata": {},
   "outputs": [
    {
     "data": {
      "text/plain": [
       "Period('2020-01', 'M')"
      ]
     },
     "execution_count": 113,
     "metadata": {},
     "output_type": "execute_result"
    }
   ],
   "source": [
    "a = pd.Period(value='2020', freq=\"M\")\n",
    "a"
   ]
  },
  {
   "cell_type": "code",
   "execution_count": 114,
   "id": "ed06d592",
   "metadata": {},
   "outputs": [
    {
     "data": {
      "text/plain": [
       "Timestamp('2020-01-01 00:00:00')"
      ]
     },
     "execution_count": 114,
     "metadata": {},
     "output_type": "execute_result"
    }
   ],
   "source": [
    "a.start_time"
   ]
  },
  {
   "cell_type": "code",
   "execution_count": 115,
   "id": "87854b99",
   "metadata": {},
   "outputs": [
    {
     "data": {
      "text/plain": [
       "Timestamp('2020-01-31 23:59:59.999999999')"
      ]
     },
     "execution_count": 115,
     "metadata": {},
     "output_type": "execute_result"
    }
   ],
   "source": [
    "a.end_time"
   ]
  },
  {
   "cell_type": "code",
   "execution_count": 116,
   "id": "3ed937ce",
   "metadata": {},
   "outputs": [
    {
     "data": {
      "text/plain": [
       "Period('2020-01', 'M')"
      ]
     },
     "execution_count": 116,
     "metadata": {},
     "output_type": "execute_result"
    }
   ],
   "source": [
    "a"
   ]
  },
  {
   "cell_type": "code",
   "execution_count": 117,
   "id": "278e835e",
   "metadata": {},
   "outputs": [
    {
     "data": {
      "text/plain": [
       "Period('2020-06', 'M')"
      ]
     },
     "execution_count": 117,
     "metadata": {},
     "output_type": "execute_result"
    }
   ],
   "source": [
    "a+5"
   ]
  },
  {
   "cell_type": "code",
   "execution_count": 118,
   "id": "6691c7c3",
   "metadata": {},
   "outputs": [
    {
     "data": {
      "text/plain": [
       "Period('2019-10', 'M')"
      ]
     },
     "execution_count": 118,
     "metadata": {},
     "output_type": "execute_result"
    }
   ],
   "source": [
    "a-3"
   ]
  },
  {
   "cell_type": "code",
   "execution_count": 119,
   "id": "8b2ae838",
   "metadata": {},
   "outputs": [
    {
     "data": {
      "text/plain": [
       "Period('2020', 'A-DEC')"
      ]
     },
     "execution_count": 119,
     "metadata": {},
     "output_type": "execute_result"
    }
   ],
   "source": [
    "p"
   ]
  },
  {
   "cell_type": "code",
   "execution_count": 121,
   "id": "399d6a52",
   "metadata": {},
   "outputs": [
    {
     "data": {
      "text/plain": [
       "<5 * YearEnds: month=12>"
      ]
     },
     "execution_count": 121,
     "metadata": {},
     "output_type": "execute_result"
    }
   ],
   "source": [
    "p-pd.Period('2015')"
   ]
  },
  {
   "cell_type": "code",
   "execution_count": 122,
   "id": "7f44c644",
   "metadata": {},
   "outputs": [
    {
     "data": {
      "text/plain": [
       "PeriodIndex(['2019-01', '2019-02', '2019-03', '2019-04', '2019-05', '2019-06',\n",
       "             '2019-07', '2019-08'],\n",
       "            dtype='period[M]')"
      ]
     },
     "execution_count": 122,
     "metadata": {},
     "output_type": "execute_result"
    }
   ],
   "source": [
    "rng=pd.period_range(\n",
    "    \"2019-01-01\",\"2019-08-30\",freq=\"M\")\n",
    "rng"
   ]
  },
  {
   "cell_type": "code",
   "execution_count": 128,
   "id": "8466c236",
   "metadata": {},
   "outputs": [
    {
     "data": {
      "text/plain": [
       "2019-01    0\n",
       "2019-02    1\n",
       "2019-03    2\n",
       "2019-04    3\n",
       "2019-05    4\n",
       "2019-06    5\n",
       "2019-07    6\n",
       "2019-08    7\n",
       "Freq: M, dtype: int64"
      ]
     },
     "execution_count": 128,
     "metadata": {},
     "output_type": "execute_result"
    }
   ],
   "source": [
    "pd.Series(range(len(rng)), index=rng)"
   ]
  },
  {
   "cell_type": "code",
   "execution_count": 130,
   "id": "a9f535c4",
   "metadata": {},
   "outputs": [
    {
     "data": {
      "text/plain": [
       "Period('2019', 'A-DEC')"
      ]
     },
     "execution_count": 130,
     "metadata": {},
     "output_type": "execute_result"
    }
   ],
   "source": [
    "p = pd.Period(2019, freq=\"A-DEC\")\n",
    "p"
   ]
  },
  {
   "cell_type": "code",
   "execution_count": 143,
   "id": "288dca48",
   "metadata": {},
   "outputs": [
    {
     "data": {
      "text/plain": [
       "Period('2019-01', 'M')"
      ]
     },
     "execution_count": 143,
     "metadata": {},
     "output_type": "execute_result"
    }
   ],
   "source": [
    "p.asfreq('M', how='start')"
   ]
  },
  {
   "cell_type": "code",
   "execution_count": 144,
   "id": "62f84285",
   "metadata": {},
   "outputs": [
    {
     "data": {
      "text/plain": [
       "Period('2019-12', 'M')"
      ]
     },
     "execution_count": 144,
     "metadata": {},
     "output_type": "execute_result"
    }
   ],
   "source": [
    "p.asfreq('M', how='end')"
   ]
  },
  {
   "cell_type": "code",
   "execution_count": 147,
   "id": "6ac8562b",
   "metadata": {},
   "outputs": [
    {
     "data": {
      "text/plain": [
       "Period('2019Q4', 'Q-DEC')"
      ]
     },
     "execution_count": 147,
     "metadata": {},
     "output_type": "execute_result"
    }
   ],
   "source": [
    "p = pd.Period('2019Q4', freq='Q-dec')\n",
    "p"
   ]
  },
  {
   "cell_type": "code",
   "execution_count": 148,
   "id": "2b9009ad",
   "metadata": {},
   "outputs": [
    {
     "data": {
      "text/plain": [
       "Period('2019Q4', 'Q-FEB')"
      ]
     },
     "execution_count": 148,
     "metadata": {},
     "output_type": "execute_result"
    }
   ],
   "source": [
    "p = pd.Period('2019Q4', freq='Q-FEB')\n",
    "p"
   ]
  },
  {
   "cell_type": "code",
   "execution_count": 149,
   "id": "f9e1e2ac",
   "metadata": {},
   "outputs": [
    {
     "data": {
      "text/plain": [
       "Timestamp('2018-12-01 00:00:00')"
      ]
     },
     "execution_count": 149,
     "metadata": {},
     "output_type": "execute_result"
    }
   ],
   "source": [
    "p.start_time"
   ]
  },
  {
   "cell_type": "code",
   "execution_count": 150,
   "id": "1d51b33d",
   "metadata": {},
   "outputs": [
    {
     "data": {
      "text/plain": [
       "Timestamp('2019-02-28 23:59:59.999999999')"
      ]
     },
     "execution_count": 150,
     "metadata": {},
     "output_type": "execute_result"
    }
   ],
   "source": [
    "p.end_time"
   ]
  },
  {
   "cell_type": "code",
   "execution_count": 151,
   "id": "ca6d656a",
   "metadata": {},
   "outputs": [
    {
     "data": {
      "text/plain": [
       "Period('2018-12-01', 'D')"
      ]
     },
     "execution_count": 151,
     "metadata": {},
     "output_type": "execute_result"
    }
   ],
   "source": [
    "p.asfreq('D', 'start')"
   ]
  },
  {
   "cell_type": "code",
   "execution_count": 152,
   "id": "46199eb2",
   "metadata": {},
   "outputs": [
    {
     "data": {
      "text/plain": [
       "PeriodIndex(['2019Q3', '2019Q4', '2020Q1', '2020Q2', '2020Q3', '2020Q4'], dtype='period[Q-JAN]')"
      ]
     },
     "execution_count": 152,
     "metadata": {},
     "output_type": "execute_result"
    }
   ],
   "source": [
    "rng=pd.period_range(\n",
    "    \"2019Q3\",\"2020Q4\", freq=\"Q-JAN\")\n",
    "rng"
   ]
  },
  {
   "cell_type": "code",
   "execution_count": 153,
   "id": "5eb89edb",
   "metadata": {},
   "outputs": [
    {
     "data": {
      "text/plain": [
       "Index([10, 1, 4, 7, 10, 1], dtype='int64')"
      ]
     },
     "execution_count": 153,
     "metadata": {},
     "output_type": "execute_result"
    }
   ],
   "source": [
    "rng.month"
   ]
  },
  {
   "cell_type": "code",
   "execution_count": 155,
   "id": "559c6dc9",
   "metadata": {},
   "outputs": [
    {
     "data": {
      "text/plain": [
       "2019Q3    0\n",
       "2019Q4    1\n",
       "2020Q1    2\n",
       "2020Q2    3\n",
       "2020Q3    4\n",
       "2020Q4    5\n",
       "Freq: Q-JAN, dtype: int64"
      ]
     },
     "execution_count": 155,
     "metadata": {},
     "output_type": "execute_result"
    }
   ],
   "source": [
    "ts = pd.Series(range(len(rng)), index=rng)\n",
    "ts"
   ]
  },
  {
   "cell_type": "code",
   "execution_count": 165,
   "id": "9c3513a6",
   "metadata": {},
   "outputs": [
    {
     "data": {
      "text/plain": [
       "DatetimeIndex(['2020-01-31', '2020-02-29', '2020-03-31', '2020-04-30',\n",
       "               '2020-05-31'],\n",
       "              dtype='datetime64[ns]', freq='M')"
      ]
     },
     "execution_count": 165,
     "metadata": {},
     "output_type": "execute_result"
    }
   ],
   "source": [
    "rng=pd.date_range(\n",
    "    \"2020-01-01\", periods=5, freq=\"M\")\n",
    "rng"
   ]
  },
  {
   "cell_type": "code",
   "execution_count": 166,
   "id": "e197c2a4",
   "metadata": {},
   "outputs": [
    {
     "data": {
      "text/plain": [
       "2020-01-31    0\n",
       "2020-02-29    1\n",
       "2020-03-31    2\n",
       "2020-04-30    3\n",
       "2020-05-31    4\n",
       "Freq: M, dtype: int64"
      ]
     },
     "execution_count": 166,
     "metadata": {},
     "output_type": "execute_result"
    }
   ],
   "source": [
    "ts = pd.Series(range(len(rng)), index=rng)\n",
    "ts"
   ]
  },
  {
   "cell_type": "code",
   "execution_count": 167,
   "id": "2e6d2358",
   "metadata": {},
   "outputs": [
    {
     "data": {
      "text/plain": [
       "DatetimeIndex(['2020-01-31', '2020-02-29', '2020-03-31', '2020-04-30',\n",
       "               '2020-05-31'],\n",
       "              dtype='datetime64[ns]', freq='M')"
      ]
     },
     "execution_count": 167,
     "metadata": {},
     "output_type": "execute_result"
    }
   ],
   "source": [
    "ts.index"
   ]
  },
  {
   "cell_type": "code",
   "execution_count": 168,
   "id": "f78e1d54",
   "metadata": {},
   "outputs": [
    {
     "data": {
      "text/plain": [
       "2020-01    0\n",
       "2020-02    1\n",
       "2020-03    2\n",
       "2020-04    3\n",
       "2020-05    4\n",
       "Freq: M, dtype: int64"
      ]
     },
     "execution_count": 168,
     "metadata": {},
     "output_type": "execute_result"
    }
   ],
   "source": [
    "pts = ts.to_period()\n",
    "pts"
   ]
  },
  {
   "cell_type": "code",
   "execution_count": 169,
   "id": "e38096ad",
   "metadata": {},
   "outputs": [
    {
     "data": {
      "text/plain": [
       "PeriodIndex(['2020-01', '2020-02', '2020-03', '2020-04', '2020-05'], dtype='period[M]')"
      ]
     },
     "execution_count": 169,
     "metadata": {},
     "output_type": "execute_result"
    }
   ],
   "source": [
    "pts.index"
   ]
  },
  {
   "cell_type": "code",
   "execution_count": null,
   "id": "e6c61ef3",
   "metadata": {},
   "outputs": [],
   "source": []
  }
 ],
 "metadata": {
  "kernelspec": {
   "display_name": "Python 3 (ipykernel)",
   "language": "python",
   "name": "python3"
  },
  "language_info": {
   "codemirror_mode": {
    "name": "ipython",
    "version": 3
   },
   "file_extension": ".py",
   "mimetype": "text/x-python",
   "name": "python",
   "nbconvert_exporter": "python",
   "pygments_lexer": "ipython3",
   "version": "3.11.5"
  }
 },
 "nbformat": 4,
 "nbformat_minor": 5
}
